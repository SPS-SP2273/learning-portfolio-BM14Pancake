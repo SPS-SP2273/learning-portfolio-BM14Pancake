{
 "cells": [
  {
   "cell_type": "markdown",
   "id": "99c28913",
   "metadata": {},
   "source": [
    "**Exercise 1 : Bias for some heroes**\n",
    "\n",
    "Modify the following function hello() so that we greet ‘Batman’ or ‘Black Widow’ in uppercase and all others in lowercase text. There are two ways you can do this. One is to use the or operator, and the other is to use elif. **Do both**.\n",
    "\n",
    "Check if the function works as intended by running hello(\"Batman\"), hello(\"Black Widow\") and hello(\"Aqua Man\")$^{18}$"
   ]
  },
  {
   "cell_type": "code",
   "execution_count": 5,
   "id": "efc20b9b",
   "metadata": {
    "scrolled": true
   },
   "outputs": [
    {
     "name": "stdout",
     "output_type": "stream",
     "text": [
      "Hello BATMAN!\n",
      "Hello BLACK WIDOW!\n",
      "Hello Aqua Man!\n"
     ]
    }
   ],
   "source": [
    "def hello(name):\n",
    "    if name == \"Batman\" or name == \"Black Widow\":\n",
    "        print(f\"Hello {name.upper()}!\")\n",
    "    else:\n",
    "        print(f\"Hello {name}!\")\n",
    "        \n",
    "hello(\"Batman\")\n",
    "hello(\"Black Widow\")\n",
    "hello(\"Aqua Man\")"
   ]
  },
  {
   "cell_type": "code",
   "execution_count": 7,
   "id": "be0b7d0f",
   "metadata": {
    "scrolled": true
   },
   "outputs": [
    {
     "name": "stdout",
     "output_type": "stream",
     "text": [
      "Hello BATMAN!\n",
      "Hello BLACK WIDOW!\n",
      "Hello Aqua Man!\n"
     ]
    }
   ],
   "source": [
    "def hello(name):\n",
    "    if name == \"Batman\":\n",
    "        print(f\"Hello {name.upper()}!\")\n",
    "    elif name == \"Black Widow\":\n",
    "        print(f\"Hello {name.upper()}!\")\n",
    "    else:\n",
    "        print(f\"Hello {name}!\")\n",
    "        \n",
    "hello(\"Batman\")\n",
    "hello(\"Black Widow\")\n",
    "hello(\"Aqua Man\")"
   ]
  },
  {
   "cell_type": "markdown",
   "id": "15a2e56b",
   "metadata": {},
   "source": [
    "**Exercise 2 : Bias for some heroes, continues**\n",
    "\n",
    "Your modified function in the previous exercise will not work as intended if we use “batman” or “batMan” (check!).\n",
    "\n",
    "Modify the function hello() further using upper() or lower() so that we greet ‘Batman’ (and the ‘Black Widow’) as intended, no matter how we type their name. And yes, do test that your function works."
   ]
  },
  {
   "cell_type": "code",
   "execution_count": 19,
   "id": "37311f47",
   "metadata": {},
   "outputs": [
    {
     "name": "stdout",
     "output_type": "stream",
     "text": [
      "Hello Batman!\n",
      "Hello Black Widow!\n",
      "Hello aqua man!\n"
     ]
    }
   ],
   "source": [
    "def hello(name):\n",
    "    name = name.lower()\n",
    "    \n",
    "    if name == \"batman\":\n",
    "        print(f\"Hello Batman!\")\n",
    "    elif name == \"black widow\":\n",
    "        print(f\"Hello Black Widow!\")\n",
    "    else:\n",
    "        print(f\"Hello {name}!\")\n",
    "        \n",
    "hello(\"batman\")\n",
    "hello(\"Black Widow\")\n",
    "hello(\"Aqua Man\")"
   ]
  },
  {
   "cell_type": "markdown",
   "id": "81ef5b85",
   "metadata": {},
   "source": [
    "**Exercise 3 : Look for help to replace**\n",
    "\n",
    "Strings in Python come with a hidden function `replace(old, new)`. Do a quick Google search to find out how to use this function, and then use it to replace **Joker** with **Batman** in the following sentence.\n",
    "\n",
    "`'The Joker lives in Gotham City.'`"
   ]
  },
  {
   "cell_type": "code",
   "execution_count": 20,
   "id": "374d4843",
   "metadata": {},
   "outputs": [
    {
     "name": "stdout",
     "output_type": "stream",
     "text": [
      "The Batman lives in Gotham City.\n"
     ]
    }
   ],
   "source": [
    "res = \"The Joker lives in Gotham City.\"\n",
    "\n",
    "x = res.replace(\"Joker\", \"Batman\")\n",
    "\n",
    "print(x)"
   ]
  }
 ],
 "metadata": {
  "kernelspec": {
   "display_name": "Python 3 (ipykernel)",
   "language": "python",
   "name": "python3"
  },
  "language_info": {
   "codemirror_mode": {
    "name": "ipython",
    "version": 3
   },
   "file_extension": ".py",
   "mimetype": "text/x-python",
   "name": "python",
   "nbconvert_exporter": "python",
   "pygments_lexer": "ipython3",
   "version": "3.10.8"
  }
 },
 "nbformat": 4,
 "nbformat_minor": 5
}
