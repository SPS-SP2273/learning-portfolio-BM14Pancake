{
 "cells": [
  {
   "cell_type": "code",
   "execution_count": 1,
   "id": "8ca67d64",
   "metadata": {},
   "outputs": [
    {
     "name": "stdout",
     "output_type": "stream",
     "text": [
      "Hello World!\n"
     ]
    }
   ],
   "source": [
    "print('Hello World!')"
   ]
  },
  {
   "cell_type": "markdown",
   "id": "ab835713",
   "metadata": {},
   "source": [
    "The ships hung in the sky in much the same way that bricks don’t.<sup>[citation needed]</sup>\n",
    "\n",
    "```python\n",
    "print('Hello World!')\n",
    "```\n",
    "\n",
    "[SP2273 Website](https://sps.nus.edu.sg/sp2273)\n",
    "\n",
    "![](https://i.imgur.com/BN9U2w4.png)"
   ]
  },
  {
   "cell_type": "code",
   "execution_count": 2,
   "id": "b5af0788",
   "metadata": {
    "scrolled": true
   },
   "outputs": [
    {
     "data": {
      "text/html": [
       "<iframe width=\"1227\" height=\"690\" src=\"https://www.youtube.com/embed/i88ixJcSARQ\" title=\"'Nijin-Konai' Explained | Speculative Biology\" frameborder=\"0\" allow=\"accelerometer; autoplay; clipboard-write; encrypted-media; gyroscope; picture-in-picture; web-share\" allowfullscreen></iframe>\n"
      ],
      "text/plain": [
       "<IPython.core.display.HTML object>"
      ]
     },
     "metadata": {},
     "output_type": "display_data"
    }
   ],
   "source": [
    "%%HTML\n",
    "<iframe width=\"1227\" height=\"690\" src=\"https://www.youtube.com/embed/i88ixJcSARQ\" title=\"'Nijin-Konai' Explained | Speculative Biology\" frameborder=\"0\" allow=\"accelerometer; autoplay; clipboard-write; encrypted-media; gyroscope; picture-in-picture; web-share\" allowfullscreen></iframe>"
   ]
  },
  {
   "cell_type": "markdown",
   "id": "b68a426d",
   "metadata": {},
   "source": [
    "Here's an equation\n",
    "$\n",
    "x = \\dfrac{-b \\pm \\sqrt{b^2-4ac}}{2a}\n",
    "$"
   ]
  },
  {
   "cell_type": "markdown",
   "id": "ac047c4b",
   "metadata": {},
   "source": [
    "**Exercise 1**"
   ]
  },
  {
   "cell_type": "markdown",
   "id": "84997a5a",
   "metadata": {},
   "source": [
    "**Quadratic Equations**\n",
    "\n",
    "![](https://upload.wikimedia.org/wikipedia/commons/thumb/f/f8/Polynomialdeg2.svg/450px-Polynomialdeg2.svg.png)\n",
    "\n",
    "[(Image from the Wikipedia page on Quadratic equations)](https://en.wikipedia.org/wiki/Quadratic_equation)\n",
    "\n",
    "**Introduction**\n",
    "\n",
    "The general form of a quadratic equation is:\n",
    "\n",
    "$$ax^{2}+bx+c=0$$\n",
    "\n",
    "**Solutions**\n",
    "\n",
    "Provided $a \\ne 0$, we can use an elementary algebraic method called [completing the square](https://en.wikipedia.org/wiki/Completing_the_square) to show that a quadratic equation has the following solution:\n",
    "\n",
    "$$x=\\dfrac{-b\\pm\\sqrt{b^{2}-4ac}}{2a}$$\n",
    "\n",
    "**Discriminant**\n",
    "\n",
    "The quantity $Δ=b^{2}−4ac$ is called the **discriminant** of the equation and decides the nature of its solutions. The table below shows the various possibilities.\n",
    "\n",
    "|**Discriminant**|**Roots**|\n",
    "|:---            |:---     |\n",
    "|$$\\Delta = b^{2}-4ac = 0$$|A single solution of $-b/(2a)$|\n",
    "|$\\Delta = b^{2}-4ac > 0$|Two distinct solutions|\n",
    "|$\\Delta = b^{2}-4ac < 0$|No real solutions; both are complex| "
   ]
  },
  {
   "cell_type": "markdown",
   "id": "378c4226",
   "metadata": {},
   "source": [
    "**Exercise 2**"
   ]
  },
  {
   "cell_type": "markdown",
   "id": "e36b4298",
   "metadata": {},
   "source": [
    "1. What is a **repository**?\n",
    "\n",
    "A repository stores files. Github in particular allows files to be stored and shared.\n",
    "\n",
    "2. Github keeps track of **changes** in the files in our repository.\n",
    "\n",
    "3. What is a **commit**?\n",
    "\n",
    "A commit is like a sticky note tagged to changes made to files which explains or details the changes that were made to the file. The changes made to files on the computer are initially not made to the ones stored on the Github repository.\n",
    "\n",
    "4. What is a **push**?\n",
    "\n",
    "A push updates the files in the repository to the same version as the local ones.\n",
    "\n",
    "5. What is the difference between GitHub and GitHub Desktop?\n",
    "\n",
    "Github is the repository, Github Desktop is an app that records commits and pushes changes to the Github repository.\n",
    "\n",
    "6. Is there an ‘opposite’ to a push?\n",
    "\n",
    "After pushing, **reverting** the changes can be done by going to the History tab on Github Desktop, right-clicking the commit/version that one wants to undo, and clicking \"Revert changes in commit\"."
   ]
  }
 ],
 "metadata": {
  "kernelspec": {
   "display_name": "Python 3 (ipykernel)",
   "language": "python",
   "name": "python3"
  },
  "language_info": {
   "codemirror_mode": {
    "name": "ipython",
    "version": 3
   },
   "file_extension": ".py",
   "mimetype": "text/x-python",
   "name": "python",
   "nbconvert_exporter": "python",
   "pygments_lexer": "ipython3",
   "version": "3.10.8"
  }
 },
 "nbformat": 4,
 "nbformat_minor": 5
}
