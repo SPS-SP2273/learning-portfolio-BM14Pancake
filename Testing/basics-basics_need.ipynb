{
 "cells": [
  {
   "cell_type": "code",
   "execution_count": 5,
   "id": "de29ce6d",
   "metadata": {},
   "outputs": [
    {
     "name": "stdout",
     "output_type": "stream",
     "text": [
      "K, 7, 5\n"
     ]
    }
   ],
   "source": [
    "bridge_hand = {\n",
    "    'Clubs': '2, 5, 6',\n",
    "    'Diamonds': 'A, K, J, 7, 5',\n",
    "    'Hearts': 'K, 7, 5',\n",
    "    'Spades': '8, 10'\n",
    "}\n",
    "print(bridge_hand['Hearts'])"
   ]
  },
  {
   "cell_type": "code",
   "execution_count": 7,
   "id": "84750f91",
   "metadata": {},
   "outputs": [
    {
     "data": {
      "text/plain": [
       "array([2., 3., 4.])"
      ]
     },
     "execution_count": 7,
     "metadata": {},
     "output_type": "execute_result"
    }
   ],
   "source": [
    "import math\n",
    "import numpy as np\n",
    "\n",
    "np.sqrt([4, 9, 16])"
   ]
  },
  {
   "cell_type": "markdown",
   "id": "d1c59a0d",
   "metadata": {},
   "source": [
    "**Exercise 1: Total recall?**"
   ]
  },
  {
   "cell_type": "markdown",
   "id": "cc05df58",
   "metadata": {},
   "source": [
    "1. Purely from memory, list as many of the basic Python features I mentioned\n",
    "\n",
    "Python can store information as a list (uses square brackets), as a dictionary (uses a key to access the information), and set conditions (e.g. x=4).\n",
    "\n",
    "There are also if/else statements; if a condition is true it will carry out the \"if\" instruction, if it is false it will carry out the \"else\" instruction.\n",
    "\n",
    "Python can import packages so it can carry out a wider range of functions. *These packages sometimes have overlapping functions with different specifications.*\n",
    "\n",
    "*Python can also print information with escape sequences, which allows characters that are typically interpreted by Python to be printed. This includes using single quotes, backslashes, new lines (\\n) and with indentation/tabs (\\t)*\n",
    "\n",
    "*Python can split a string containing a sentence into words*\n",
    "\n",
    "2. Now, scroll up and complete the list with the ones you missed. Indicate those you missed by putting them in italics."
   ]
  },
  {
   "cell_type": "markdown",
   "id": "4ae0f057",
   "metadata": {},
   "source": [
    "**Exercise 2: Debug me**\n",
    "\n",
    "Fix (debug) the following code to create a Pythagorean triple 3, 4, 5 (because $3^{2}+4^{2}=5^{2}$)."
   ]
  },
  {
   "cell_type": "code",
   "execution_count": 48,
   "id": "6e979a58",
   "metadata": {},
   "outputs": [
    {
     "name": "stdout",
     "output_type": "stream",
     "text": [
      "3 4 5.0\n"
     ]
    }
   ],
   "source": [
    "import numpy as np\n",
    "\n",
    "x, y=3, 4\n",
    "z = np.sqrt(x**(2)+y**(2))\n",
    "print(x, y, z)"
   ]
  },
  {
   "cell_type": "markdown",
   "id": "8ab24777",
   "metadata": {},
   "source": [
    "**Exercise 3 : In your own words**"
   ]
  },
  {
   "cell_type": "markdown",
   "id": "fe4baac4",
   "metadata": {},
   "source": [
    "Using your own words, write a single sentence for each of the following to describe what function it serves in Python.\n",
    "\n",
    "Please use a Markdown table for this.\n",
    "\n",
    "|**#**|**Term**|**Description**|\n",
    "|:---|:---|:---|\n",
    "|1|Function|A function is a capability of Python.|\n",
    "|2|Arguments|A value/piece of information that is handled by functions.|\n",
    "|3|Comments|A comment is text followed by a # which will be ignored by the interpreter.|\n",
    "|4|Indentations|A tab/space which formats the code for Python to differentiate between different blocks.|\n",
    "|5|Packages|Packages give Python additional functions.|\n",
    "|6|.|Indicates ownership of functions or splits a string.|"
   ]
  },
  {
   "cell_type": "markdown",
   "id": "b9b2d1d7",
   "metadata": {},
   "source": [
    "**Exercise 4 : More than one way to divide**\n",
    "\n",
    "Programming languages usually offer multiple options for dividing one number by another. Shown below are three such options. Then, either by observation (i.e. trial and error), Googling or discussing with a friend, figure out what each one does.\n",
    "\n",
    "Indicate your answer by writing a comment."
   ]
  },
  {
   "cell_type": "code",
   "execution_count": 59,
   "id": "647bc090",
   "metadata": {},
   "outputs": [
    {
     "name": "stdout",
     "output_type": "stream",
     "text": [
      "2.5 2 1\n"
     ]
    }
   ],
   "source": [
    "x=5/2           # Divides the number and gives the exact answer with decimal\n",
    "\n",
    "y=5//2          # Divides the number and rounds down to the nearest integer\n",
    "\n",
    "z=5%2           # Divides the number and returns the remainder as an integer\n",
    "\n",
    "print(x,y,z)"
   ]
  }
 ],
 "metadata": {
  "kernelspec": {
   "display_name": "Python 3 (ipykernel)",
   "language": "python",
   "name": "python3"
  },
  "language_info": {
   "codemirror_mode": {
    "name": "ipython",
    "version": 3
   },
   "file_extension": ".py",
   "mimetype": "text/x-python",
   "name": "python",
   "nbconvert_exporter": "python",
   "pygments_lexer": "ipython3",
   "version": "3.10.8"
  }
 },
 "nbformat": 4,
 "nbformat_minor": 5
}
