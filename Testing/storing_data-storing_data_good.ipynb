{
 "cells": [
  {
   "cell_type": "markdown",
   "id": "fa73d16a",
   "metadata": {},
   "source": [
    "**Exercise 1 : Total recall?**\n",
    "\n",
    "Purely from memory:\n",
    "\n",
    "Purely from memory, write short descriptions of the following terms:\n",
    "\n",
    "|Term|Brief description|\n",
    "|:---|:---|\n",
    "|Subsetting|Selecting a subset of the data in a list or array|\n",
    "|Indexing|Selecting one value from a list or array|\n",
    "|Slicing|Selecting a range of values from a list or array|\n",
    "|Masking|Selecting a subset of the data in an array by showing values which are true|\n",
    "\n",
    "If you cannot complete the above tasks, scroll up to look for more information. Please put this latter information you had to scroll up for in *italics*."
   ]
  },
  {
   "cell_type": "markdown",
   "id": "1e242731",
   "metadata": {},
   "source": [
    "**Exercise 2 : Show me the ‘odd’ letters**\n",
    "\n",
    "\n",
    "```\n",
    "np_array_2d = np.array([[1, \"A\"], [3, \"C\"], [2, \"B\"], [4, \"D\"],\n",
    "                        [5, \"E\"], [7, \"G\"], [6, \"F\"], [8, \"H\"],\n",
    "                        [10, \"J\"], [9, \"I\"]])\n",
    "```\n",
    "\n",
    "Use masking to subset the letters that correspond to the odd numbers. I.e. get the result [A, C, E, G, I].\n",
    "\n",
    "This is a slightly tricky problem because arrays are fussy about type. So, let me give you a recipe to solve this problem.\n",
    "\n",
    "1. Subset all the first elements.\n",
    "\n",
    "You should get `array(['1', '3', '2', ..., '10', '9'])`\n",
    "\n",
    "2. Convert this to integers using `astype(int)`\n",
    "\n",
    "You will need to look up how `astype()` works.\n",
    "\n",
    "3. Use `%` to get the remainder for division by 2.\n",
    "\n",
    "You should get `array([1, 1, 0, ..., 0, 1])`.\n",
    "\n",
    "4. Use the previous result to create a mask that checks if the remainder is zero or not\n",
    "\n",
    "You should get `array([True, True, False, ..., False, True])`.\n",
    "Now you have identified the locations of the odd numbers.\n",
    "\n",
    "5. Use the mask and extract the corresponding second elements."
   ]
  },
  {
   "cell_type": "code",
   "execution_count": 46,
   "id": "179d4ba8",
   "metadata": {},
   "outputs": [
    {
     "name": "stdout",
     "output_type": "stream",
     "text": [
      "[ True  True False False  True  True False False False  True]\n",
      "[['1' 'A']\n",
      " ['3' 'C']\n",
      " ['2' 'B']\n",
      " ['4' 'D']\n",
      " ['5' 'E']\n",
      " ['7' 'G']\n",
      " ['6' 'F']\n",
      " ['8' 'H']\n",
      " ['10' 'J']\n",
      " ['9' 'I']]\n"
     ]
    }
   ],
   "source": [
    "import numpy as np\n",
    "import pandas as pd\n",
    "\n",
    "np_array_2d = np.array([[1, \"A\"], [3, \"C\"], [2, \"B\"], [4, \"D\"],\n",
    "                        [5, \"E\"], [7, \"G\"], [6, \"F\"], [8, \"H\"],\n",
    "                        [10, \"J\"], [9, \"I\"]])\n",
    "ast = np_array_2d[:10, 0].astype(int, copy=True)\n",
    "evenent = ast%2\n",
    "mask = evenent > 0\n",
    "\n",
    "print(mask)\n",
    "print(np_array_2d)"
   ]
  }
 ],
 "metadata": {
  "kernelspec": {
   "display_name": "Python 3 (ipykernel)",
   "language": "python",
   "name": "python3"
  },
  "language_info": {
   "codemirror_mode": {
    "name": "ipython",
    "version": 3
   },
   "file_extension": ".py",
   "mimetype": "text/x-python",
   "name": "python",
   "nbconvert_exporter": "python",
   "pygments_lexer": "ipython3",
   "version": "3.10.8"
  }
 },
 "nbformat": 4,
 "nbformat_minor": 5
}
