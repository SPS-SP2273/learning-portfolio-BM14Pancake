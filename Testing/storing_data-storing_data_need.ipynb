{
 "cells": [
  {
   "cell_type": "markdown",
   "id": "727067af",
   "metadata": {},
   "source": [
    "**Exercise 1 : Total recall?**\n",
    "\n",
    "Purely from memory, jot down:\n",
    "\n",
    "1. Two similarities between lists and arrays.\n",
    "1. Two differences between lists and arrays.\n",
    "1. What is a dictionary?\n",
    "\n",
    "If you cannot complete the above tasks, scroll up to look for more information. Please put this latter information you had to scroll up for in *italics*."
   ]
  },
  {
   "cell_type": "markdown",
   "id": "3dedbe8e",
   "metadata": {},
   "source": [
    "1. Lists and arrays both store information where different entries are separated by commas, and each entry is denoted by one number counting from 0\n",
    "1. One difference is that lists are native to Python but arrays require importing of NumPy. Another difference is that adding lists simply combines both lists into a new list containing all entried from both, but adding arrays mathematically adds entries in the same positions together to give a new array.\n",
    "1. A dictionary uses a key(left) to access the *values*(right)"
   ]
  },
  {
   "cell_type": "markdown",
   "id": "eda5e001",
   "metadata": {},
   "source": [
    "**Exercise 2: Index me**\n",
    "\n",
    "Modify the following code to print out all elements with an odd number. I have done the one corresponding to `i9` for you.\n",
    "\n",
    "```\n",
    "py_list = [\"a1\", \"b2\", \"c3\", \"d4\", \"e5\", \"f6\", \"g7\", \"h8\", \"i9\", \"j10\"]\n",
    "                    # Prints 'a1'\n",
    "                    # Prints 'c3'\n",
    "                    # Prints 'e5'\n",
    "                    # Prints 'g7'\n",
    "print(py_list[8])   # Prints 'i9'\n",
    "\n",
    "#> i9\n",
    "```"
   ]
  },
  {
   "cell_type": "code",
   "execution_count": null,
   "id": "df77d4ad",
   "metadata": {},
   "outputs": [],
   "source": [
    "py_list = [\"a1\", \"b2\", \"c3\", \"d4\", \"e5\", \"f6\", \"g7\", \"h8\", \"i9\", \"j10\"]\n",
    "print(py_list[0])   # Prints 'a1'\n",
    "print(py_list[2])   # Prints 'c3'\n",
    "print(py_list[4])   # Prints 'e5'\n",
    "print(py_list[6])   # Prints 'g7'\n",
    "print(py_list[8])   # Prints 'i9'"
   ]
  },
  {
   "cell_type": "markdown",
   "id": "a7de5d91",
   "metadata": {},
   "source": [
    "**Exercise 3 : Capitalise Heros**\n",
    "\n",
    "Modify the dictionary containing the superhero information so the superhero names are in UPPER CASE. I have done one for you.\n",
    "\n",
    "As always, make sure you understand what every line does. Do print the dictionary to see if things have worked as planned.\n",
    "\n",
    "```\n",
    "superhero_info = {\"Natasha Romanoff\": \"Black Widow\",\n",
    "                  \"Tony Stark\": \"Iron Man\",\n",
    "                  \"Stephen Strange\": \"Doctor Strange\"\n",
    "                  }\n",
    "\n",
    "superhero_info['Tony Stark'] = superhero_info['Tony Stark'].upper()             \n",
    "```"
   ]
  },
  {
   "cell_type": "code",
   "execution_count": null,
   "id": "16ed6259",
   "metadata": {},
   "outputs": [],
   "source": [
    "superhero_info = {\"Natasha Romanoff\": \"Black Widow\",\n",
    "                  \"Tony Stark\": \"Iron Man\",\n",
    "                  \"Stephen Strange\": \"Doctor Strange\"\n",
    "                  }\n",
    "\n",
    "superhero_info['Tony Stark'] = superhero_info['Tony Stark'].upper() #next 3 lines make Python print their names in uppercase\n",
    "superhero_info['Natasha Romanoff'] = superhero_info['Natasha Romanoff'].upper()\n",
    "superhero_info['Stephen Strange'] = superhero_info['Stephen Strange'].upper()\n",
    "print(superhero_info.values())"
   ]
  },
  {
   "cell_type": "markdown",
   "id": "7187b88a",
   "metadata": {},
   "source": [
    "**Exercise 4 : How many ones**\n",
    "\n",
    "Use the concepts you learned in this chapter to determine the number of 1’s in the following list of numbers.\n",
    "\n",
    "```\n",
    "numbers=[45, 60, 1, 30, 96, 1, 96, 57, 16, 1,\n",
    "        99, 62, 86, 43, 42, 60, 59, 1, 1, 35,\n",
    "        83, 47, 34, 28, 68, 23, 22, 92, 1, 79,\n",
    "        1, 29, 94, 72, 46, 47, 1, 74, 32, 20,\n",
    "        8, 37, 35, 1, 89, 29, 86, 19, 43, 61]\n",
    "```\n",
    "\n",
    "Here are some hints:\n",
    "\n",
    "1. Use a NumPy array.\n",
    "1. Ask a question.\n",
    "1. False is considered 0, and True is considered 1 by sum()."
   ]
  },
  {
   "cell_type": "code",
   "execution_count": 14,
   "id": "73f57e6f",
   "metadata": {},
   "outputs": [
    {
     "name": "stdout",
     "output_type": "stream",
     "text": [
      "9\n"
     ]
    }
   ],
   "source": [
    "import numpy as np\n",
    "\n",
    "numbers=[45, 60, 1, 30, 96, 1, 96, 57, 16, 1,\n",
    "        99, 62, 86, 43, 42, 60, 59, 1, 1, 35,\n",
    "        83, 47, 34, 28, 68, 23, 22, 92, 1, 79,\n",
    "        1, 29, 94, 72, 46, 47, 1, 74, 32, 20,\n",
    "        8, 37, 35, 1, 89, 29, 86, 19, 43, 61]\n",
    "numbers1=np.array(numbers) == 1\n",
    "\n",
    "print(numbers1.sum())"
   ]
  }
 ],
 "metadata": {
  "kernelspec": {
   "display_name": "Python 3 (ipykernel)",
   "language": "python",
   "name": "python3"
  },
  "language_info": {
   "codemirror_mode": {
    "name": "ipython",
    "version": 3
   },
   "file_extension": ".py",
   "mimetype": "text/x-python",
   "name": "python",
   "nbconvert_exporter": "python",
   "pygments_lexer": "ipython3",
   "version": "3.10.8"
  }
 },
 "nbformat": 4,
 "nbformat_minor": 5
}
