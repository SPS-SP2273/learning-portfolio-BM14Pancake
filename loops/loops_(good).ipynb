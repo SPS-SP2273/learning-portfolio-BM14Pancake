{
 "cells": [
  {
   "cell_type": "markdown",
   "id": "123456",
   "metadata": {},
   "source": [
    "<div style=\"text-align:left;font-size:2em\"><span style=\"font-weight:bolder;font-size:1.25em\">SP2273 | Learning Portfolio</span><br><br><span style=\"font-weight:bold;color:darkred\">Loops (Good)</span></div>"
   ]
  },
  {
   "cell_type": "markdown",
   "id": "9094a3e0",
   "metadata": {},
   "source": [
    "## 1 Interrupting the flow"
   ]
  },
  {
   "cell_type": "markdown",
   "id": "c5f6bca9",
   "metadata": {},
   "source": [
    "## 2 List comprehension!"
   ]
  },
  {
   "cell_type": "markdown",
   "id": "791d6816",
   "metadata": {},
   "source": [
    "### 2.1 Basic syntax"
   ]
  },
  {
   "cell_type": "code",
   "execution_count": null,
   "id": "cf86bf97",
   "metadata": {},
   "outputs": [],
   "source": [
    "\n",
    "# Your code here\n"
   ]
  },
  {
   "cell_type": "markdown",
   "id": "828fc82e",
   "metadata": {},
   "source": [
    "### 2.2 List comprehension with conditions"
   ]
  },
  {
   "cell_type": "code",
   "execution_count": null,
   "id": "3add37a9",
   "metadata": {},
   "outputs": [],
   "source": [
    "\n",
    "# Your code here\n"
   ]
  },
  {
   "cell_type": "markdown",
   "id": "dca7682c",
   "metadata": {},
   "source": [
    "## 3 Other useful stuff"
   ]
  },
  {
   "cell_type": "markdown",
   "id": "6475dd9e",
   "metadata": {},
   "source": [
    "### 3.1 for with unpacking"
   ]
  },
  {
   "cell_type": "code",
   "execution_count": 2,
   "id": "90cb47c4",
   "metadata": {},
   "outputs": [
    {
     "name": "stdout",
     "output_type": "stream",
     "text": [
      "Natasha Romanoff is Marvel's Black Widow!\n",
      "Tony Stark is Marvel's Iron Man!\n",
      "Stephen Strange is Marvel's Doctor Strange!\n"
     ]
    }
   ],
   "source": [
    "py_superhero_info=[['Natasha Romanoff', 'Black Widow'],\n",
    "                     ['Tony Stark', 'Iron Man'],\n",
    "                     ['Stephen Strange', 'Doctor Strange']]\n",
    "\n",
    "#the for loop already defines the first and second thingies?\n",
    "for real_name, super_name in py_superhero_info:\n",
    "    print(f\"{real_name} is Marvel's {super_name}!\")"
   ]
  },
  {
   "cell_type": "markdown",
   "id": "9032ab97",
   "metadata": {},
   "source": [
    "### 3.2 for with a zip()"
   ]
  },
  {
   "cell_type": "code",
   "execution_count": null,
   "id": "16d9bc85",
   "metadata": {},
   "outputs": [],
   "source": [
    "\n",
    "# Your code here\n"
   ]
  },
  {
   "cell_type": "markdown",
   "id": "eadda751",
   "metadata": {},
   "source": [
    "### 3.3 for with dictionaries"
   ]
  },
  {
   "cell_type": "code",
   "execution_count": null,
   "id": "58a65c55",
   "metadata": {},
   "outputs": [],
   "source": [
    "\n",
    "# Your code here\n"
   ]
  },
  {
   "cell_type": "markdown",
   "id": "1b2c9b32",
   "metadata": {},
   "source": [
    "## Exercise 1 :  Make me an odd list\n",
    "\n",
    "With your knowledge of growing lists, use a `for` loop with `range()` and `continue` to generate a list of the squares of the odd integers from 0 to 9.\n",
    "\n",
    "Hint: You can check for ‘evenness’ using number `% 2 == 0`."
   ]
  },
  {
   "cell_type": "code",
   "execution_count": 3,
   "id": "2396ef63",
   "metadata": {},
   "outputs": [
    {
     "name": "stdout",
     "output_type": "stream",
     "text": [
      "[1, 9, 25, 49, 81]\n"
     ]
    }
   ],
   "source": [
    "squares = []\n",
    "for i in range(0,10): #sets range to 0-10\n",
    "    if i%2 != 0: #checks if the number is even\n",
    "        squares.append(i**2)\n",
    "    else:\n",
    "        i = i\n",
    "print(squares)"
   ]
  },
  {
   "cell_type": "markdown",
   "id": "c14aa6bc",
   "metadata": {},
   "source": [
    "## Exercise 2 :  Make me another odd list\n",
    "\n",
    "Redo the previous exercise using list comprehension."
   ]
  },
  {
   "cell_type": "code",
   "execution_count": 20,
   "id": "6efb6969",
   "metadata": {},
   "outputs": [
    {
     "data": {
      "text/plain": [
       "[1, 9, 25, 49, 81]"
      ]
     },
     "execution_count": 20,
     "metadata": {},
     "output_type": "execute_result"
    }
   ],
   "source": [
    "[number**2 for number in range(0,10) if number % 2 !=0]"
   ]
  },
  {
   "cell_type": "markdown",
   "id": "493dfca5",
   "metadata": {},
   "source": [
    "## Exercise 3 :  Time me!\n",
    "\n",
    "Use the cell magic command %%timeit to time the previous solutions. Which of the two is faster?"
   ]
  },
  {
   "cell_type": "code",
   "execution_count": 4,
   "id": "384c9118",
   "metadata": {},
   "outputs": [
    {
     "name": "stdout",
     "output_type": "stream",
     "text": [
      "696 ns ± 37.3 ns per loop (mean ± std. dev. of 7 runs, 1,000,000 loops each)\n",
      "[1, 9, 25, 49, 81]\n"
     ]
    }
   ],
   "source": [
    "%timeit sum(range(10)) #%%timeit makes this loop infinitely instead of stopping at 10\n",
    "squares = []\n",
    "for i in range(0,10): #sets range to 0-10\n",
    "    if i%2 != 0: #checks if the number is even\n",
    "        squares.append(i**2)\n",
    "    else:\n",
    "        i = i\n",
    "print(squares)"
   ]
  },
  {
   "cell_type": "code",
   "execution_count": 45,
   "id": "fffbd317",
   "metadata": {},
   "outputs": [
    {
     "name": "stdout",
     "output_type": "stream",
     "text": [
      "686 ns ± 27.9 ns per loop (mean ± std. dev. of 7 runs, 1,000,000 loops each)\n"
     ]
    },
    {
     "data": {
      "text/plain": [
       "[1, 9, 25, 49, 81]"
      ]
     },
     "execution_count": 45,
     "metadata": {},
     "output_type": "execute_result"
    }
   ],
   "source": [
    "%timeit  sum(range(10))\n",
    "[number**2 for number in range(0,10) if number % 2 !=0]"
   ]
  },
  {
   "cell_type": "markdown",
   "id": "5a6c3e4b",
   "metadata": {},
   "source": [
    "One line (Exercise 2) is faster than 6 lines (Exercise 1)"
   ]
  }
 ],
 "metadata": {
  "kernelspec": {
   "display_name": "Python 3 (ipykernel)",
   "language": "python",
   "name": "python3"
  },
  "language_info": {
   "codemirror_mode": {
    "name": "ipython",
    "version": 3
   },
   "file_extension": ".py",
   "mimetype": "text/x-python",
   "name": "python",
   "nbconvert_exporter": "python",
   "pygments_lexer": "ipython3",
   "version": "3.10.8"
  },
  "toc": {
   "base_numbering": 1,
   "nav_menu": {},
   "number_sections": true,
   "sideBar": true,
   "skip_h1_title": false,
   "title_cell": "Table of Contents",
   "title_sidebar": "Contents",
   "toc_cell": false,
   "toc_position": {},
   "toc_section_display": true,
   "toc_window_display": false
  },
  "vscode": {
   "interpreter": {
    "hash": "31f2aee4e71d21fbe5cf8b01ff0e069b9275f58929596ceb00d14d90e3e16cd6"
   }
  }
 },
 "nbformat": 4,
 "nbformat_minor": 5
}
