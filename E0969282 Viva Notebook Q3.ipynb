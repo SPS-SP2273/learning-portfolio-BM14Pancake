{
 "cells": [
  {
   "cell_type": "markdown",
   "id": "6c87eb7d",
   "metadata": {},
   "source": [
    "Q3 Parsing JCAMP-JDX files"
   ]
  },
  {
   "cell_type": "code",
   "execution_count": 105,
   "id": "2e3c4bc8",
   "metadata": {
    "scrolled": true
   },
   "outputs": [
    {
     "ename": "UFuncTypeError",
     "evalue": "ufunc 'add' did not contain a loop with signature matching types (dtype('<U6'), dtype('<U6')) -> None",
     "output_type": "error",
     "traceback": [
      "\u001b[1;31m---------------------------------------------------------------------------\u001b[0m",
      "\u001b[1;31mUFuncTypeError\u001b[0m                            Traceback (most recent call last)",
      "Cell \u001b[1;32mIn[105], line 39\u001b[0m\n\u001b[0;32m     36\u001b[0m         IRs\u001b[38;5;241m.\u001b[39mappend(row) \u001b[38;5;66;03m#now IRs is a 2d list; casting got problem tho?\u001b[39;00m\n\u001b[0;32m     37\u001b[0m     IR_av(IRs)\n\u001b[1;32m---> 39\u001b[0m \u001b[38;5;28mprint\u001b[39m(\u001b[43mextract_IR\u001b[49m\u001b[43m(\u001b[49m\u001b[38;5;124;43m'\u001b[39;49m\u001b[38;5;124;43mcarbon_dioxide\u001b[39;49m\u001b[38;5;124;43m'\u001b[39;49m\u001b[43m)\u001b[49m)\n",
      "Cell \u001b[1;32mIn[105], line 37\u001b[0m, in \u001b[0;36mextract_IR\u001b[1;34m(chem)\u001b[0m\n\u001b[0;32m     35\u001b[0m     row \u001b[38;5;241m=\u001b[39m row\u001b[38;5;241m.\u001b[39msplit(\u001b[38;5;124m'\u001b[39m\u001b[38;5;124m \u001b[39m\u001b[38;5;124m'\u001b[39m, \u001b[38;5;241m5\u001b[39m) \u001b[38;5;66;03m#row is now a list\u001b[39;00m\n\u001b[0;32m     36\u001b[0m     IRs\u001b[38;5;241m.\u001b[39mappend(row) \u001b[38;5;66;03m#now IRs is a 2d list; casting got problem tho?\u001b[39;00m\n\u001b[1;32m---> 37\u001b[0m \u001b[43mIR_av\u001b[49m\u001b[43m(\u001b[49m\u001b[43mIRs\u001b[49m\u001b[43m)\u001b[49m\n",
      "Cell \u001b[1;32mIn[105], line 8\u001b[0m, in \u001b[0;36mIR_av\u001b[1;34m(lul)\u001b[0m\n\u001b[0;32m      6\u001b[0m xval \u001b[38;5;241m=\u001b[39m lul[i][\u001b[38;5;241m0\u001b[39m]\n\u001b[0;32m      7\u001b[0m lst\u001b[38;5;241m.\u001b[39mappend(xval)\n\u001b[1;32m----> 8\u001b[0m yval \u001b[38;5;241m=\u001b[39m \u001b[43mnp\u001b[49m\u001b[38;5;241;43m.\u001b[39;49m\u001b[43msum\u001b[49m\u001b[43m(\u001b[49m\u001b[43mlul\u001b[49m\u001b[43m[\u001b[49m\u001b[43mi\u001b[49m\u001b[43m]\u001b[49m\u001b[43m[\u001b[49m\u001b[38;5;241;43m1\u001b[39;49m\u001b[43m:\u001b[49m\u001b[43m]\u001b[49m\u001b[43m)\u001b[49m\u001b[38;5;241m/\u001b[39m(\u001b[38;5;28mlen\u001b[39m(lul[i])\u001b[38;5;241m-\u001b[39m\u001b[38;5;241m1\u001b[39m)\n\u001b[0;32m      9\u001b[0m lst\u001b[38;5;241m.\u001b[39mappend(yval)\n\u001b[0;32m     10\u001b[0m IR_vals\u001b[38;5;241m.\u001b[39mappend(lst)\n",
      "File \u001b[1;32m<__array_function__ internals>:180\u001b[0m, in \u001b[0;36msum\u001b[1;34m(*args, **kwargs)\u001b[0m\n",
      "File \u001b[1;32m~\\miniconda3\\lib\\site-packages\\numpy\\core\\fromnumeric.py:2296\u001b[0m, in \u001b[0;36msum\u001b[1;34m(a, axis, dtype, out, keepdims, initial, where)\u001b[0m\n\u001b[0;32m   2293\u001b[0m         \u001b[38;5;28;01mreturn\u001b[39;00m out\n\u001b[0;32m   2294\u001b[0m     \u001b[38;5;28;01mreturn\u001b[39;00m res\n\u001b[1;32m-> 2296\u001b[0m \u001b[38;5;28;01mreturn\u001b[39;00m \u001b[43m_wrapreduction\u001b[49m\u001b[43m(\u001b[49m\u001b[43ma\u001b[49m\u001b[43m,\u001b[49m\u001b[43m \u001b[49m\u001b[43mnp\u001b[49m\u001b[38;5;241;43m.\u001b[39;49m\u001b[43madd\u001b[49m\u001b[43m,\u001b[49m\u001b[43m \u001b[49m\u001b[38;5;124;43m'\u001b[39;49m\u001b[38;5;124;43msum\u001b[39;49m\u001b[38;5;124;43m'\u001b[39;49m\u001b[43m,\u001b[49m\u001b[43m \u001b[49m\u001b[43maxis\u001b[49m\u001b[43m,\u001b[49m\u001b[43m \u001b[49m\u001b[43mdtype\u001b[49m\u001b[43m,\u001b[49m\u001b[43m \u001b[49m\u001b[43mout\u001b[49m\u001b[43m,\u001b[49m\u001b[43m \u001b[49m\u001b[43mkeepdims\u001b[49m\u001b[38;5;241;43m=\u001b[39;49m\u001b[43mkeepdims\u001b[49m\u001b[43m,\u001b[49m\n\u001b[0;32m   2297\u001b[0m \u001b[43m                      \u001b[49m\u001b[43minitial\u001b[49m\u001b[38;5;241;43m=\u001b[39;49m\u001b[43minitial\u001b[49m\u001b[43m,\u001b[49m\u001b[43m \u001b[49m\u001b[43mwhere\u001b[49m\u001b[38;5;241;43m=\u001b[39;49m\u001b[43mwhere\u001b[49m\u001b[43m)\u001b[49m\n",
      "File \u001b[1;32m~\\miniconda3\\lib\\site-packages\\numpy\\core\\fromnumeric.py:86\u001b[0m, in \u001b[0;36m_wrapreduction\u001b[1;34m(obj, ufunc, method, axis, dtype, out, **kwargs)\u001b[0m\n\u001b[0;32m     83\u001b[0m         \u001b[38;5;28;01melse\u001b[39;00m:\n\u001b[0;32m     84\u001b[0m             \u001b[38;5;28;01mreturn\u001b[39;00m reduction(axis\u001b[38;5;241m=\u001b[39maxis, out\u001b[38;5;241m=\u001b[39mout, \u001b[38;5;241m*\u001b[39m\u001b[38;5;241m*\u001b[39mpasskwargs)\n\u001b[1;32m---> 86\u001b[0m \u001b[38;5;28;01mreturn\u001b[39;00m ufunc\u001b[38;5;241m.\u001b[39mreduce(obj, axis, dtype, out, \u001b[38;5;241m*\u001b[39m\u001b[38;5;241m*\u001b[39mpasskwargs)\n",
      "\u001b[1;31mUFuncTypeError\u001b[0m: ufunc 'add' did not contain a loop with signature matching types (dtype('<U6'), dtype('<U6')) -> None"
     ]
    }
   ],
   "source": [
    "#function that takes a list and averages out indices 1 onward, appending index 0 and the average to a new list, which is returned\n",
    "def IR_av(lul):\n",
    "    IR_vals = []\n",
    "    for i in range(len(lul[0:])):\n",
    "        lst = []\n",
    "        xval = lul[i][0]\n",
    "        lst.append(xval)\n",
    "        yval = np.sum(lul[i][1:])/(len(lul[i])-1)\n",
    "        lst.append(yval)\n",
    "        IR_vals.append(lst)\n",
    "    return IR_vals\n",
    "\n",
    "#read JDX format file and return array of IR data\n",
    "def extract_IR(chem):\n",
    "    import numpy as np\n",
    "    import glob\n",
    "    \n",
    "    numbers = []\n",
    "    IRs = []\n",
    "    yvals = []\n",
    "    \n",
    "    #reads the file, splits it by line and adds each row to numbers\n",
    "    with open(f\"{chem}.jdx\", 'r') as file:\n",
    "        data = file.read()\n",
    "        data = data.split(\"\\n\") #data here is a list\n",
    "        for line in data:\n",
    "            line = line.strip('#')\n",
    "            if line == '':\n",
    "                continue\n",
    "            if line[0].isdigit():\n",
    "                numbers.append(line)\n",
    "                \n",
    "#after adding to the numbers list, we should optimise it into an array for subsetting\n",
    "    for row in numbers:\n",
    "        row = row.split(' ', 5) #row is now a list\n",
    "        IRs.append(row) #now IRs is a 2d list; casting got problem tho?\n",
    "    IR_av(IRs)\n",
    "        \n",
    "print(extract_IR('carbon_dioxide'))\n",
    "\n",
    "\n",
    "# print(extract_IR('methane'))\n",
    "\n",
    "# import matplotlib as plt\n",
    "# cmpds = ['water', 'carbon_dioxide', 'methane']\n",
    "\n",
    "# for cmpd in cmpds:\n",
    "#     extract_IR(cmpd)\n",
    "#     plt.plot(x, y_1, color='red', linestyle='dashed', label='Y values')\n",
    "#     plt.xlabel('x-values')\n",
    "#     plt.ylabel('y-values')\n",
    "#     plt.title('X vs Y')\n",
    "#     plt.grid(alpha=.25)\n",
    "#     plt.legend(loc='upper left')\n",
    "#     plt.show()\n",
    "# print(extract_IR('carbon_dioxide'))"
   ]
  },
  {
   "cell_type": "code",
   "execution_count": 53,
   "id": "0c2cd233",
   "metadata": {},
   "outputs": [
    {
     "name": "stdout",
     "output_type": "stream",
     "text": [
      "[[2 3]\n",
      " [5 6]\n",
      " [8 9]]\n"
     ]
    }
   ],
   "source": [
    "import numpy as np\n",
    "\n",
    "thingy = np.array([[1,2,3],[4,5,6],[7,8,9]])\n",
    "stuff = thingy[0:,1:]\n",
    "print(stuff)"
   ]
  },
  {
   "cell_type": "code",
   "execution_count": 106,
   "id": "475ec6fd",
   "metadata": {},
   "outputs": [
    {
     "name": "stdout",
     "output_type": "stream",
     "text": [
      "[[1, 2.5], [4, 5.5], [7, 8.5], [10, 11.5]]\n"
     ]
    }
   ],
   "source": [
    "#function that takes a list and averages out indices 1 onward\n",
    "#appending index 0 and the average to a new list, which is returned\n",
    "\n",
    "thingy = np.array([[1,2,3],[4,5,6],[7,8,9],[10,11,12]])\n",
    "\n",
    "thingy[0,1:] #this is 2,3 as a list(?)\n",
    "np.sum(thingy[0,1:]) #this is the sum of 2,3\n",
    "\n",
    "# IRs = []\n",
    "    \n",
    "# for i in range(len(thingy[0:])):\n",
    "#     lst = []\n",
    "#     xval = thingy[i,0]\n",
    "#     lst.append(xval)\n",
    "#     yval = np.sum(thingy[i,1:])/(len(thingy[i])-1)\n",
    "#     lst.append(yval)\n",
    "#     IRs.append(lst)\n",
    "# print(IRs)\n",
    "\n",
    "\n",
    "def IR_av(lul):\n",
    "    IRs = []\n",
    "    for i in range(len(lul[0:])):\n",
    "        lst = []\n",
    "        xval = lul[i][0]\n",
    "        lst.append(xval)\n",
    "        yval = np.sum(lul[i][1:])/(len(lul[i])-1)\n",
    "        lst.append(yval)\n",
    "        IRs.append(lst)\n",
    "    return IRs\n",
    "\n",
    "print(IR_av(thingy))"
   ]
  },
  {
   "cell_type": "code",
   "execution_count": 4,
   "id": "5cfd97eb",
   "metadata": {
    "scrolled": true
   },
   "outputs": [
    {
     "data": {
      "text/plain": [
       "'C:\\\\Users\\\\chill\\\\OneDrive - National University of Singapore\\\\AY22-23 Sem2\\\\SP2273'"
      ]
     },
     "execution_count": 4,
     "metadata": {},
     "output_type": "execute_result"
    }
   ],
   "source": [
    "import os\n",
    "\n",
    "os.getcwd()"
   ]
  }
 ],
 "metadata": {
  "kernelspec": {
   "display_name": "Python 3 (ipykernel)",
   "language": "python",
   "name": "python3"
  },
  "language_info": {
   "codemirror_mode": {
    "name": "ipython",
    "version": 3
   },
   "file_extension": ".py",
   "mimetype": "text/x-python",
   "name": "python",
   "nbconvert_exporter": "python",
   "pygments_lexer": "ipython3",
   "version": "3.10.8"
  }
 },
 "nbformat": 4,
 "nbformat_minor": 5
}
