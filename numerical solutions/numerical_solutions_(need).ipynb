{
 "cells": [
  {
   "cell_type": "markdown",
   "id": "123456",
   "metadata": {},
   "source": [
    "<div style=\"text-align:left;font-size:2em\"><span style=\"font-weight:bolder;font-size:1.25em\">SP2273 | Learning Portfolio</span><br><br><span style=\"font-weight:bold;color:darkred\">Numerical Solutions (Need)</span></div>"
   ]
  },
  {
   "cell_type": "markdown",
   "id": "1cc839b3",
   "metadata": {},
   "source": [
    "## 1 A Bucket of water"
   ]
  },
  {
   "cell_type": "markdown",
   "id": "19d1133f",
   "metadata": {},
   "source": [
    "### 1.1 Getting a feel"
   ]
  },
  {
   "cell_type": "code",
   "execution_count": null,
   "id": "38343f69",
   "metadata": {},
   "outputs": [],
   "source": [
    "\n",
    "# Your code here\n"
   ]
  },
  {
   "cell_type": "markdown",
   "id": "3ef99b81",
   "metadata": {},
   "source": [
    "### 1.2 An overflowing bucket"
   ]
  },
  {
   "cell_type": "code",
   "execution_count": null,
   "id": "2d0d98cb",
   "metadata": {},
   "outputs": [],
   "source": [
    "\n",
    "# Your code here\n"
   ]
  },
  {
   "cell_type": "markdown",
   "id": "205007ed",
   "metadata": {},
   "source": [
    "### 1.3 A leaky bucket"
   ]
  },
  {
   "cell_type": "code",
   "execution_count": null,
   "id": "8999e942",
   "metadata": {},
   "outputs": [],
   "source": [
    "\n",
    "# Your code here\n"
   ]
  },
  {
   "cell_type": "markdown",
   "id": "0a996478",
   "metadata": {},
   "source": [
    "### 1.4 Let’s turn off the tap"
   ]
  },
  {
   "cell_type": "code",
   "execution_count": null,
   "id": "e408e161",
   "metadata": {},
   "outputs": [],
   "source": [
    "\n",
    "# Your code here\n"
   ]
  },
  {
   "cell_type": "markdown",
   "id": "cc28c49f",
   "metadata": {},
   "source": [
    "### Using while"
   ]
  },
  {
   "cell_type": "code",
   "execution_count": null,
   "id": "d07a87c0",
   "metadata": {},
   "outputs": [],
   "source": [
    "\n",
    "# Your code here\n"
   ]
  },
  {
   "cell_type": "markdown",
   "id": "132201c6",
   "metadata": {},
   "source": [
    "### 1.5 A quick summary"
   ]
  },
  {
   "cell_type": "code",
   "execution_count": null,
   "id": "89e929f6",
   "metadata": {},
   "outputs": [],
   "source": [
    "\n",
    "# Your code here\n"
   ]
  },
  {
   "cell_type": "markdown",
   "id": "e928654b",
   "metadata": {},
   "source": [
    "### 1.6 We just solved a differential equation!"
   ]
  },
  {
   "cell_type": "code",
   "execution_count": null,
   "id": "2eebd7aa",
   "metadata": {},
   "outputs": [],
   "source": [
    "\n",
    "# Your code here\n"
   ]
  },
  {
   "cell_type": "markdown",
   "id": "43bee83f",
   "metadata": {},
   "source": [
    "## 2 Simulating Radioactivity"
   ]
  },
  {
   "cell_type": "markdown",
   "id": "fc8759b7",
   "metadata": {},
   "source": [
    "### 2.1 Introduction"
   ]
  },
  {
   "cell_type": "code",
   "execution_count": null,
   "id": "e580898c",
   "metadata": {},
   "outputs": [],
   "source": [
    "\n",
    "# Your code here\n"
   ]
  },
  {
   "cell_type": "markdown",
   "id": "0ae4849b",
   "metadata": {},
   "source": [
    "### 2.2 Approximating the differential equation"
   ]
  },
  {
   "cell_type": "code",
   "execution_count": null,
   "id": "220868d2",
   "metadata": {},
   "outputs": [],
   "source": [
    "\n",
    "# Your code here\n"
   ]
  },
  {
   "cell_type": "markdown",
   "id": "8def0d2c",
   "metadata": {},
   "source": [
    "### 2.3 Getting a feel"
   ]
  },
  {
   "cell_type": "code",
   "execution_count": null,
   "id": "317c1b5e",
   "metadata": {},
   "outputs": [],
   "source": [
    "\n",
    "# Your code here\n"
   ]
  },
  {
   "cell_type": "markdown",
   "id": "b40899a6",
   "metadata": {},
   "source": [
    "### 2.4 Let’s write some code"
   ]
  },
  {
   "cell_type": "code",
   "execution_count": null,
   "id": "7be0efa7",
   "metadata": {},
   "outputs": [],
   "source": [
    "\n",
    "# Your code here\n"
   ]
  },
  {
   "cell_type": "markdown",
   "id": "9a86ab39",
   "metadata": {},
   "source": [
    "### 2.5 Some things to note about the code"
   ]
  },
  {
   "cell_type": "code",
   "execution_count": null,
   "id": "4548ce94",
   "metadata": {},
   "outputs": [],
   "source": [
    "\n",
    "# Your code here\n"
   ]
  },
  {
   "cell_type": "markdown",
   "id": "74782563",
   "metadata": {},
   "source": [
    "### 2.6 A quick summary"
   ]
  },
  {
   "cell_type": "code",
   "execution_count": null,
   "id": "74115101",
   "metadata": {},
   "outputs": [],
   "source": [
    "\n",
    "# Your code here\n"
   ]
  },
  {
   "cell_type": "markdown",
   "id": "fa9cf813",
   "metadata": {},
   "source": [
    "## Exercise 1 :  A more realistic leak"
   ]
  },
  {
   "cell_type": "code",
   "execution_count": 3,
   "id": "5146f4f9",
   "metadata": {},
   "outputs": [
    {
     "data": {
      "text/plain": [
       "<matplotlib.collections.LineCollection at 0x12fd5f713c0>"
      ]
     },
     "execution_count": 3,
     "metadata": {},
     "output_type": "execute_result"
    },
    {
     "data": {
      "image/png": "[encoded data removed]",
      "text/plain": [
       "<Figure size 640x480 with 1 Axes>"
      ]
     },
     "metadata": {},
     "output_type": "display_data"
    }
   ],
   "source": [
    "import matplotlib.pyplot as plt\n",
    "import numpy as np\n",
    "\n",
    "tap_off_time = 3                 # When the tap goes off\n",
    "max_time = 5                     # Maximum time (mins)\n",
    "dt = .001                        # Time step (mins)\n",
    "rate = 5                         # Filling rate (L/min)\n",
    "leak_rate = 1.5                  # L/min\n",
    "bucket_capacity = 9              # L\n",
    "all_volume = []                  # To keep track of all volumes\n",
    "all_time = []                    # To keep track of all times\n",
    "volume = 0                       # Starting volume\n",
    "time = 0\n",
    "\n",
    "while time <= max_time:\n",
    "    all_time.append(time)\n",
    "    all_volume.append(volume)\n",
    "    dV = rate * dt\n",
    "\n",
    "    leak_volume = leak_rate * dt\n",
    "    volume -= leak_volume\n",
    "\n",
    "    if (volume <= bucket_capacity) and (time < tap_off_time):\n",
    "        volume += dV    \n",
    "\n",
    "    time += dt             \n",
    "\n",
    "plt.plot(all_time, all_volume)\n",
    "plt.ylabel('Volume(L)')\n",
    "plt.xlabel('Time(mins)')\n",
    "plt.hlines(bucket_capacity, 0, max_time, colors='grey', ls='dashed')"
   ]
  }
 ],
 "metadata": {
  "kernelspec": {
   "display_name": "Python 3 (ipykernel)",
   "language": "python",
   "name": "python3"
  },
  "language_info": {
   "codemirror_mode": {
    "name": "ipython",
    "version": 3
   },
   "file_extension": ".py",
   "mimetype": "text/x-python",
   "name": "python",
   "nbconvert_exporter": "python",
   "pygments_lexer": "ipython3",
   "version": "3.10.8"
  },
  "toc": {
   "base_numbering": 1,
   "nav_menu": {},
   "number_sections": true,
   "sideBar": true,
   "skip_h1_title": false,
   "title_cell": "Table of Contents",
   "title_sidebar": "Contents",
   "toc_cell": false,
   "toc_position": {},
   "toc_section_display": true,
   "toc_window_display": false
  },
  "vscode": {
   "interpreter": {
    "hash": "31f2aee4e71d21fbe5cf8b01ff0e069b9275f58929596ceb00d14d90e3e16cd6"
   }
  }
 },
 "nbformat": 4,
 "nbformat_minor": 5
}
