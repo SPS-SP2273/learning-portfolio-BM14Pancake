{
 "cells": [
  {
   "cell_type": "markdown",
   "id": "123456",
   "metadata": {},
   "source": [
    "<div style=\"text-align:left;font-size:2em\"><span style=\"font-weight:bolder;font-size:1.25em\">SP2273 | Learning Portfolio</span><br><br><span style=\"font-weight:bold;color:darkred\">Random Numbers (Good)</span></div>"
   ]
  },
  {
   "cell_type": "markdown",
   "id": "6815379b",
   "metadata": {},
   "source": [
    "## 1 Random numbers from other distributions"
   ]
  },
  {
   "cell_type": "markdown",
   "id": "e8ae798a",
   "metadata": {},
   "source": [
    "### 1.1 Random numbers from the Normal distribution"
   ]
  },
  {
   "cell_type": "code",
   "execution_count": null,
   "id": "c47b2776",
   "metadata": {},
   "outputs": [],
   "source": [
    "\n",
    "# Your code here\n"
   ]
  },
  {
   "cell_type": "markdown",
   "id": "6a588ff7",
   "metadata": {},
   "source": [
    "### 1.2 Visualising the random numbers"
   ]
  },
  {
   "cell_type": "code",
   "execution_count": null,
   "id": "bfea4fb1",
   "metadata": {},
   "outputs": [],
   "source": [
    "\n",
    "# Your code here\n"
   ]
  },
  {
   "cell_type": "markdown",
   "id": "edc9b484",
   "metadata": {},
   "source": [
    "### 1.3 68%?"
   ]
  },
  {
   "cell_type": "code",
   "execution_count": null,
   "id": "bcc46917",
   "metadata": {},
   "outputs": [],
   "source": [
    "\n",
    "# Your code here\n"
   ]
  },
  {
   "cell_type": "markdown",
   "id": "efdd79c7",
   "metadata": {},
   "source": [
    "## 1 Brownian Motion in 1D"
   ]
  },
  {
   "cell_type": "markdown",
   "id": "f9b37557",
   "metadata": {},
   "source": [
    "### 1.1 The scenario"
   ]
  },
  {
   "cell_type": "code",
   "execution_count": null,
   "id": "2fdd5e52",
   "metadata": {},
   "outputs": [],
   "source": [
    "\n",
    "# Your code here\n"
   ]
  },
  {
   "cell_type": "markdown",
   "id": "5576668c",
   "metadata": {},
   "source": [
    "### 1.2 The simulation"
   ]
  },
  {
   "cell_type": "code",
   "execution_count": null,
   "id": "ca605cb4",
   "metadata": {},
   "outputs": [],
   "source": [
    "\n",
    "# Your code here\n"
   ]
  },
  {
   "cell_type": "markdown",
   "id": "23f72486",
   "metadata": {},
   "source": [
    "### 1.3 What does theory say?"
   ]
  },
  {
   "cell_type": "code",
   "execution_count": null,
   "id": "e09d317c",
   "metadata": {},
   "outputs": [],
   "source": [
    "\n",
    "# Your code here\n"
   ]
  },
  {
   "cell_type": "markdown",
   "id": "4209fe1e",
   "metadata": {},
   "source": [
    "## 2 Estimating \\(\\pi\\)"
   ]
  },
  {
   "cell_type": "markdown",
   "id": "b8f11cc8",
   "metadata": {},
   "source": [
    "### 2.1 The method"
   ]
  },
  {
   "cell_type": "code",
   "execution_count": null,
   "id": "51c6915f",
   "metadata": {},
   "outputs": [],
   "source": [
    "\n",
    "# Your code here\n"
   ]
  },
  {
   "cell_type": "markdown",
   "id": "e5bd4251",
   "metadata": {},
   "source": [
    "### 2.2 A poor but intuitive solution"
   ]
  },
  {
   "cell_type": "code",
   "execution_count": null,
   "id": "45eaa870",
   "metadata": {},
   "outputs": [],
   "source": [
    "\n",
    "# Your code here\n"
   ]
  },
  {
   "cell_type": "markdown",
   "id": "c3c9e0e1",
   "metadata": {},
   "source": [
    "### 2.3 A better solution"
   ]
  },
  {
   "cell_type": "code",
   "execution_count": null,
   "id": "9f87d1ce",
   "metadata": {},
   "outputs": [],
   "source": [
    "\n",
    "# Your code here\n"
   ]
  },
  {
   "cell_type": "markdown",
   "id": "b1e40141",
   "metadata": {},
   "source": [
    "### 2.4 A smarter solution"
   ]
  },
  {
   "cell_type": "code",
   "execution_count": null,
   "id": "19650b69",
   "metadata": {},
   "outputs": [],
   "source": [
    "\n",
    "# Your code here\n"
   ]
  },
  {
   "cell_type": "markdown",
   "id": "158aadb4",
   "metadata": {},
   "source": [
    "## Exercise 1 :  Vital Stats of Random π\n",
    "\n",
    "Encapsulate the above code for estimating π\n",
    "\n",
    "as a function called estimate_pi(n).\n",
    "Repeat estimate_pi(n=10000) a hundred times and calculate the mean and standard deviation of the values generated.\n",
    "I recommend using list comprehension.\n",
    "NumPy as the statistical functions you need.\n",
    "Redo the previous step for values of n 10, 100, …, 1_000_000. and use the data to produce a figure similar to the following.\n",
    "\n",
    "Here are a few hints:\n",
    "\n",
    "Use a for loop and keep track of the means and standard deviations for each n.\n",
    "I have used a log scale for the x-axis. You enable this with plt.xscale('log') or ax.set_xscale('log')\n",
    "You can get error bars without a line by specifying the format option with fmt='o'\n",
    "You can get the real value of π with np.pi."
   ]
  },
  {
   "cell_type": "code",
   "execution_count": 3,
   "id": "ecafcc11",
   "metadata": {},
   "outputs": [
    {
     "ename": "NameError",
     "evalue": "name 'N_green' is not defined",
     "output_type": "error",
     "traceback": [
      "\u001b[1;31m---------------------------------------------------------------------------\u001b[0m",
      "\u001b[1;31mNameError\u001b[0m                                 Traceback (most recent call last)",
      "Cell \u001b[1;32mIn[3], line 7\u001b[0m\n\u001b[0;32m      4\u001b[0m     y\u001b[38;5;241m=\u001b[39mrnd\u001b[38;5;241m.\u001b[39mrand(N_total)\n\u001b[0;32m      5\u001b[0m     N_green\u001b[38;5;241m=\u001b[39mnp\u001b[38;5;241m.\u001b[39msum((x\u001b[38;5;241m*\u001b[39m\u001b[38;5;241m*\u001b[39m\u001b[38;5;241m2\u001b[39m\u001b[38;5;241m+\u001b[39my\u001b[38;5;241m*\u001b[39m\u001b[38;5;241m*\u001b[39m\u001b[38;5;241m2\u001b[39m) \u001b[38;5;241m<\u001b[39m\u001b[38;5;241m=\u001b[39m \u001b[38;5;241m1\u001b[39m)\n\u001b[1;32m----> 7\u001b[0m \u001b[38;5;241m4\u001b[39m \u001b[38;5;241m*\u001b[39m (\u001b[43mN_green\u001b[49m \u001b[38;5;241m/\u001b[39m N_total)\n",
      "\u001b[1;31mNameError\u001b[0m: name 'N_green' is not defined"
     ]
    }
   ],
   "source": [
    "def estimate_pi(n):\n",
    "    N_total=1_000_000\n",
    "    x=rnd.rand(N_total)\n",
    "    y=rnd.rand(N_total)\n",
    "    N_green=np.sum((x**2+y**2) <= 1)\n",
    "\n",
    "4 * (N_green / N_total)\n",
    "\n",
    "N_total = 100_000                             # Yes, Python allows the _\n",
    "N_green = 0\n",
    "\n",
    "for _ in range(N_total):\n",
    "    x = rnd.uniform(low=-1, high=1, size=1)     \n",
    "    y = rnd.uniform(low=-1, high=1, size=1)\n",
    "    r = np.sqrt(x**2 + y**2)                   # Distance from the origin\n",
    "\n",
    "    if r <= 1:\n",
    "        N_green += 1                           # In or out of the circle\n",
    "\n",
    "4 * N_green / N_total                          # Estimate for pi"
   ]
  },
  {
   "cell_type": "code",
   "execution_count": 36,
   "id": "3effbc30",
   "metadata": {
    "scrolled": true
   },
   "outputs": [
    {
     "name": "stdout",
     "output_type": "stream",
     "text": [
      "[3.14388, 3.13838, 3.141196, 3.143464, 3.142052, 3.13898]\n",
      "(array([3.13838 , 3.13898 , 3.141196, 3.142052, 3.143464, 3.14388 ]), array([1, 1, 1, 1, 1, 1], dtype=int64))\n",
      "3.141325333333333\n",
      "0.0020744704277369237\n"
     ]
    },
    {
     "data": {
      "image/png": "[encoded data removed]",
      "text/plain": [
       "<Figure size 1000x500 with 1 Axes>"
      ]
     },
     "metadata": {},
     "output_type": "display_data"
    }
   ],
   "source": [
    "import numpy.random as rnd\n",
    "import numpy as np\n",
    "import matplotlib.pyplot as plt\n",
    "\n",
    "def estimate_pi(n):\n",
    "    N_total=1_000_000\n",
    "    x=rnd.rand(N_total)\n",
    "    y=rnd.rand(N_total)\n",
    "    N_green=np.sum((x**2+y**2) <= 1)\n",
    "    return(4 * (N_green / N_total))\n",
    "\n",
    "#one more loop thing; generate 5 rows of 100 estimates of pi\n",
    "x = [10, 100, 1000, 10_000, 100_000, 1_000_000]\n",
    "pi_values = []\n",
    "\n",
    "for i in x:\n",
    "    pi_values.append(estimate_pi(i))\n",
    "print(pi_values)\n",
    "\n",
    "averages_of_pi = np.unique(pi_values, return_counts=True)\n",
    "\n",
    "print(averages_of_pi)\n",
    "print(np.mean(pi_values))\n",
    "\n",
    "#have to make this into a list/array for each data point\n",
    "print(np.std(pi_values))\n",
    "\n",
    "plt.errorbar(x, averages_of_pi[0], yerr=np.std(pi_values), fmt='o')\n",
    "plt.plot(np.pi)\n",
    "#error: x(6) and y() must have the same size\n",
    "plt.title('$Value of \\pi vs. No. of Points Used$')\n",
    "plt.rcParams['figure.figsize'] = (10,5)\n",
    "\n",
    "#xlabel and ylabel label the axes\n",
    "plt.xscale('log')\n",
    "plt.ylim(2.9, 3.3)\n",
    "plt.xlabel('No. of points used to generate value')\n",
    "plt.ylabel('$Value of \\pi$')\n",
    "plt.show()\n",
    "\n",
    "# Things to resolve\n",
    "# error bars\n",
    "# dotted line for actual value of pi\n",
    "# legend\n",
    "# fix the labels"
   ]
  },
  {
   "cell_type": "code",
   "execution_count": 2,
   "id": "e3bac78d",
   "metadata": {},
   "outputs": [
    {
     "ename": "SyntaxError",
     "evalue": "invalid syntax (3399752333.py, line 26)",
     "output_type": "error",
     "traceback": [
      "\u001b[1;36m  Cell \u001b[1;32mIn[2], line 26\u001b[1;36m\u001b[0m\n\u001b[1;33m    pi_estimate_{i}.append(estimate_pi(i))\u001b[0m\n\u001b[1;37m                ^\u001b[0m\n\u001b[1;31mSyntaxError\u001b[0m\u001b[1;31m:\u001b[0m invalid syntax\n"
     ]
    }
   ],
   "source": [
    "import numpy.random as rnd\n",
    "import numpy as np\n",
    "import matplotlib.pyplot as plt\n",
    "\n",
    "#define a function that estimates a single value of pi\n",
    "def estimate_pi(n):\n",
    "    x=rnd.rand(n)\n",
    "    y=rnd.rand(n)\n",
    "    N_green=np.sum((x**2+y**2) <= 1)\n",
    "    return(4 * (N_green / n))\n",
    "\n",
    "#defining lists to add the values of pi\n",
    "pi_estimate_10 = []\n",
    "pi_estimate_100 = []\n",
    "pi_estimate_1000 = []\n",
    "pi_estimate_10000 = []\n",
    "pi_estimate_100000 = []\n",
    "pi_estimate_1000000 = []\n",
    "\n",
    "#defining x values for both the later graph and the n values \n",
    "x = [10, 100, 1000, 10000, 100000, 1000000]\n",
    "\n",
    "#for loop to repeat the above function 100 times for n\n",
    "for i in range(x):\n",
    "    for j in range(100):\n",
    "        pi_estimate_{i}.append(estimate_pi(i))\n",
    "    print(i)\n",
    "\n",
    "    \n",
    "    \n",
    "    "
   ]
  },
  {
   "cell_type": "code",
   "execution_count": 15,
   "id": "6a37e42e",
   "metadata": {},
   "outputs": [
    {
     "data": {
      "image/png": "[encoded data removed]",
      "text/plain": [
       "<Figure size 1000x500 with 1 Axes>"
      ]
     },
     "metadata": {},
     "output_type": "display_data"
    }
   ],
   "source": [
    "import numpy.random as rnd\n",
    "import numpy as np\n",
    "import matplotlib.pyplot as plt\n",
    "\n",
    "#define a function that estimates a single value of pi\n",
    "def estimate_pi(n):\n",
    "    x=rnd.rand(n)\n",
    "    y=rnd.rand(n)\n",
    "    N_green=np.sum((x**2+y**2) <= 1)\n",
    "    return(4 * (N_green / n))\n",
    "\n",
    "def estimate_tryall(n, tries):\n",
    "    data = []\n",
    "    for i in range(tries):\n",
    "        data.append(estimate_pi(n))\n",
    "    a = np.array(data)\n",
    "    return np.mean(data), np.std(data)\n",
    "\n",
    "x = [10, 100, 1000, 10000, 100000, 1000000]\n",
    "\n",
    "data_pi = []\n",
    "for i in x:\n",
    "    pis = estimate_tryall(i, 100)\n",
    "    data_pi.append(pis)\n",
    "    \n",
    "data_pi = np.array(data_pi)\n",
    "\n",
    "#time to plot; data_pi[:, 0] and data_pi[:,1] access mean and standard deviation respectively(?)\n",
    "plt.errorbar(x, data_pi[:, 0], data_pi[:, 1], fmt='o', label=r'Std. Dev. of $\\pi$ values')\n",
    "plt.axhline(y = np.pi, linestyle = 'dashed', alpha=0.25, label=r'Real $\\pi$')\n",
    "#error: x(6) and y() must have the same size\n",
    "plt.title(r'Value of $\\pi$ vs. No. of Points Used')\n",
    "plt.rcParams['figure.figsize'] = (10,5)\n",
    "\n",
    "#xlabel and ylabel label the axes\n",
    "plt.xscale('log')\n",
    "plt.xlabel('No. of points used to generate value')\n",
    "plt.ylabel(r'Value of $\\pi$')\n",
    "plt.legend(loc='upper right', frameon=True)\n",
    "plt.show()\n",
    "\n",
    "#Should be correct"
   ]
  },
  {
   "cell_type": "code",
   "execution_count": null,
   "id": "c4e06a63",
   "metadata": {},
   "outputs": [],
   "source": []
  }
 ],
 "metadata": {
  "kernelspec": {
   "display_name": "Python 3 (ipykernel)",
   "language": "python",
   "name": "python3"
  },
  "language_info": {
   "codemirror_mode": {
    "name": "ipython",
    "version": 3
   },
   "file_extension": ".py",
   "mimetype": "text/x-python",
   "name": "python",
   "nbconvert_exporter": "python",
   "pygments_lexer": "ipython3",
   "version": "3.10.8"
  },
  "toc": {
   "base_numbering": 1,
   "nav_menu": {},
   "number_sections": true,
   "sideBar": true,
   "skip_h1_title": false,
   "title_cell": "Table of Contents",
   "title_sidebar": "Contents",
   "toc_cell": false,
   "toc_position": {},
   "toc_section_display": true,
   "toc_window_display": false
  },
  "vscode": {
   "interpreter": {
    "hash": "31f2aee4e71d21fbe5cf8b01ff0e069b9275f58929596ceb00d14d90e3e16cd6"
   }
  }
 },
 "nbformat": 4,
 "nbformat_minor": 5
}
