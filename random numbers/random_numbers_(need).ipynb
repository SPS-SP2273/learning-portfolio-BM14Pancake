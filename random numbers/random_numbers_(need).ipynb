{
 "cells": [
  {
   "cell_type": "markdown",
   "id": "123456",
   "metadata": {},
   "source": [
    "<div style=\"text-align:left;font-size:2em\"><span style=\"font-weight:bolder;font-size:1.25em\">SP2273 | Learning Portfolio</span><br><br><span style=\"font-weight:bold;color:darkred\">Random Numbers (Need)</span></div>"
   ]
  },
  {
   "cell_type": "markdown",
   "id": "6d82d91a",
   "metadata": {},
   "source": [
    "## 1 Random Numbers"
   ]
  },
  {
   "cell_type": "markdown",
   "id": "86d3f24e",
   "metadata": {},
   "source": [
    "### 1.1 Real and Pseudo Random Numbers"
   ]
  },
  {
   "cell_type": "code",
   "execution_count": null,
   "id": "fab40c20",
   "metadata": {},
   "outputs": [],
   "source": [
    "\n",
    "# Your code here\n"
   ]
  },
  {
   "cell_type": "markdown",
   "id": "60f17fd5",
   "metadata": {},
   "source": [
    "### 1.2 NumPy’s PRNG"
   ]
  },
  {
   "cell_type": "code",
   "execution_count": null,
   "id": "27bdc6a4",
   "metadata": {},
   "outputs": [],
   "source": [
    "\n",
    "# Your code here\n"
   ]
  },
  {
   "cell_type": "markdown",
   "id": "706c08fb",
   "metadata": {},
   "source": [
    "### 1.3 A simple graphical test"
   ]
  },
  {
   "cell_type": "code",
   "execution_count": null,
   "id": "2ebebfd9",
   "metadata": {},
   "outputs": [],
   "source": [
    "\n",
    "# Your code here\n"
   ]
  },
  {
   "cell_type": "markdown",
   "id": "3f2660b8",
   "metadata": {},
   "source": [
    "### 1.4 Uniformly beyond \\([0,1)\\)"
   ]
  },
  {
   "cell_type": "code",
   "execution_count": null,
   "id": "2cf0ee44",
   "metadata": {},
   "outputs": [],
   "source": [
    "\n",
    "# Your code here\n"
   ]
  },
  {
   "cell_type": "markdown",
   "id": "3990376e",
   "metadata": {},
   "source": [
    "### 1.5 ‘seeding’ a PRNG"
   ]
  },
  {
   "cell_type": "code",
   "execution_count": null,
   "id": "fde23c3c",
   "metadata": {},
   "outputs": [],
   "source": [
    "\n",
    "# Your code here\n"
   ]
  },
  {
   "cell_type": "markdown",
   "id": "92354036",
   "metadata": {},
   "source": [
    "## 2 Simulating a Magic-8 Ball"
   ]
  },
  {
   "cell_type": "markdown",
   "id": "36aca309",
   "metadata": {},
   "source": [
    "## 3 Flipping Coins"
   ]
  },
  {
   "cell_type": "markdown",
   "id": "365dc0a8",
   "metadata": {},
   "source": [
    "### 3.1 A fair coin"
   ]
  },
  {
   "cell_type": "code",
   "execution_count": null,
   "id": "759875bf",
   "metadata": {},
   "outputs": [],
   "source": [
    "\n",
    "# Your code here\n"
   ]
  },
  {
   "cell_type": "markdown",
   "id": "893ce2f0",
   "metadata": {},
   "source": [
    "### 3.2 A biased coin"
   ]
  },
  {
   "cell_type": "code",
   "execution_count": 3,
   "id": "29f6bad3",
   "metadata": {},
   "outputs": [
    {
     "name": "stdout",
     "output_type": "stream",
     "text": [
      "Number of heads: 71.90%\n"
     ]
    }
   ],
   "source": [
    "import numpy as np\n",
    "\n",
    "def flip_coins(no_of_coins=1, probability=.5):\n",
    "    '''\n",
    "    Returns the number of values greater that \n",
    "    `probability` (considered as 'Heads').\n",
    "    '''\n",
    "    results = np.random.rand(no_of_coins)\n",
    "    no_of_heads = np.sum(results > probability)\n",
    "    return no_of_heads\n",
    "\n",
    "no_of_coins = 1_000\n",
    "no_of_heads = flip_coins(no_of_coins, probability = .3)\n",
    "print(f'Number of heads: {no_of_heads/no_of_coins*100:.2f}%')"
   ]
  },
  {
   "cell_type": "markdown",
   "id": "64bad32b",
   "metadata": {},
   "source": [
    "### 3.3 A flipping experiment"
   ]
  },
  {
   "cell_type": "code",
   "execution_count": null,
   "id": "89c0cc40",
   "metadata": {},
   "outputs": [],
   "source": [
    "\n",
    "# Your code here\n"
   ]
  },
  {
   "cell_type": "markdown",
   "id": "8526b248",
   "metadata": {},
   "source": [
    "## Exercise 1 :  12C, 13C"
   ]
  },
  {
   "cell_type": "markdown",
   "id": "3be6c0f7",
   "metadata": {},
   "source": [
    "1. What are the mean and the standard deviation for the number of 13C atoms in a molecule of cholesterol (C27H44O)?\n",
    "\n",
    "Hint: Treat 13C as `Heads`.\n",
    "\n",
    "2. What is the probability that a cholesterol molecule has no atoms of 13C?\n",
    "\n",
    "**Don’t** use any functions from SciPy like `binom()`"
   ]
  },
  {
   "cell_type": "code",
   "execution_count": 9,
   "id": "35f688e7",
   "metadata": {},
   "outputs": [
    {
     "name": "stdout",
     "output_type": "stream",
     "text": [
      "['C12' 'C12' 'C12' 'C12' 'C12' 'C12' 'C12' 'C12' 'C12' 'C12' 'C12' 'C12'\n",
      " 'C12' 'C12' 'C12' 'C12' 'C12' 'C12' 'C12' 'C12' 'C12' 'C12' 'C12' 'C12'\n",
      " 'C12' 'C12' 'C12' 'C12' 'C12' 'C12' 'C12' 'C12' 'C12' 'C12' 'C12' 'C12'\n",
      " 'C12' 'C12' 'C12' 'C12' 'C12' 'C12' 'C12' 'C12' 'C12' 'C12' 'C12' 'C12'\n",
      " 'C12' 'C12' 'C12' 'C12' 'C12' 'C12' 'C12' 'C12' 'C12' 'C12' 'C12' 'C12'\n",
      " 'C12' 'C12' 'C12' 'C12' 'C12' 'C12' 'C12' 'C12' 'C12' 'C12' 'C12' 'C12'\n",
      " 'C12' 'C12' 'C12' 'C12' 'C12' 'C12' 'C12' 'C12' 'C12' 'C12' 'C12' 'C12'\n",
      " 'C12' 'C12' 'C12' 'C12' 'C12' 'C12' 'C12' 'C12' 'C12' 'C12' 'C12' 'C12'\n",
      " 'C12' 'C12' 'C12' 'C12' 'C12' 'C12' 'C12' 'C12' 'C12' 'C12' 'C12' 'C12'\n",
      " 'C12' 'C12' 'C12' 'C12' 'C12' 'C12' 'C12' 'C12' 'C12' 'C12' 'C12' 'C12'\n",
      " 'C12' 'C12' 'C12' 'C12' 'C12' 'C12' 'C12' 'C12' 'C12' 'C12' 'C13' 'C12'\n",
      " 'C12' 'C13' 'C12' 'C12' 'C12' 'C12' 'C12' 'C12' 'C12' 'C12' 'C12' 'C12'\n",
      " 'C12' 'C12' 'C12' 'C12' 'C12' 'C12' 'C12' 'C12' 'C12' 'C12' 'C12' 'C12'\n",
      " 'C12' 'C12' 'C12' 'C12' 'C12' 'C12' 'C12' 'C12' 'C12' 'C12' 'C12' 'C12'\n",
      " 'C12' 'C12' 'C12' 'C12' 'C12' 'C12' 'C12' 'C12' 'C12' 'C12' 'C12' 'C12'\n",
      " 'C12' 'C12' 'C12' 'C12' 'C12' 'C12' 'C12' 'C12' 'C12' 'C12' 'C12' 'C12'\n",
      " 'C12' 'C12' 'C12' 'C12' 'C12' 'C12' 'C12' 'C12' 'C12' 'C12' 'C12' 'C12'\n",
      " 'C12' 'C12' 'C12' 'C12' 'C12' 'C12' 'C12' 'C12' 'C12' 'C12' 'C12' 'C12'\n",
      " 'C12' 'C12' 'C12' 'C12' 'C12' 'C12' 'C12' 'C12' 'C12' 'C12' 'C12' 'C12'\n",
      " 'C12' 'C12' 'C12' 'C12' 'C12' 'C13' 'C12' 'C12' 'C12' 'C12' 'C12' 'C12'\n",
      " 'C12' 'C12' 'C12' 'C12' 'C12' 'C12' 'C12' 'C12' 'C12' 'C12' 'C12' 'C12'\n",
      " 'C12' 'C12' 'C12' 'C12' 'C12' 'C12' 'C12' 'C12' 'C12' 'C12' 'C12' 'C12'\n",
      " 'C12' 'C12' 'C12' 'C12' 'C12' 'C12' 'C12' 'C12' 'C12' 'C12' 'C12' 'C12'\n",
      " 'C12' 'C12' 'C12' 'C12' 'C13' 'C12' 'C12' 'C12' 'C12' 'C12' 'C12' 'C12'\n",
      " 'C12' 'C12' 'C12' 'C12' 'C12' 'C12' 'C12' 'C12' 'C12' 'C12' 'C12' 'C12'\n",
      " 'C12' 'C12' 'C12' 'C12' 'C12' 'C12' 'C12' 'C12' 'C12' 'C12' 'C12' 'C12'\n",
      " 'C12' 'C12' 'C12' 'C12' 'C12' 'C12' 'C12' 'C13' 'C12' 'C13' 'C12' 'C12'\n",
      " 'C12' 'C12' 'C12' 'C12' 'C12' 'C12' 'C12' 'C12' 'C12' 'C12' 'C12' 'C12'\n",
      " 'C12' 'C12' 'C12' 'C12' 'C12' 'C12' 'C12' 'C12' 'C12' 'C12' 'C12' 'C12'\n",
      " 'C12' 'C12' 'C12' 'C12' 'C12' 'C12' 'C12' 'C12' 'C12' 'C12' 'C12' 'C12'\n",
      " 'C12' 'C12' 'C12' 'C12' 'C12' 'C12' 'C12' 'C12' 'C12' 'C12' 'C12' 'C12'\n",
      " 'C12' 'C12' 'C12' 'C12' 'C12' 'C12' 'C12' 'C12' 'C12' 'C12' 'C12' 'C12'\n",
      " 'C12' 'C12' 'C12' 'C12' 'C12' 'C12' 'C12' 'C12' 'C12' 'C12' 'C12' 'C12'\n",
      " 'C12' 'C12' 'C12' 'C12' 'C12' 'C12' 'C12' 'C12' 'C13' 'C12' 'C12' 'C12'\n",
      " 'C12' 'C12' 'C12' 'C12' 'C12' 'C12' 'C12' 'C12' 'C12' 'C12' 'C12' 'C12'\n",
      " 'C12' 'C12' 'C12' 'C12' 'C12' 'C12' 'C12' 'C12' 'C12' 'C12' 'C12' 'C12'\n",
      " 'C12' 'C12' 'C12' 'C12' 'C12' 'C13' 'C12' 'C12' 'C12' 'C12' 'C12' 'C12'\n",
      " 'C12' 'C12' 'C12' 'C12' 'C12' 'C12' 'C12' 'C12' 'C12' 'C12' 'C12' 'C12'\n",
      " 'C12' 'C12' 'C12' 'C12' 'C12' 'C12' 'C12' 'C12' 'C12' 'C12' 'C12' 'C12'\n",
      " 'C12' 'C12' 'C12' 'C12' 'C12' 'C12' 'C12' 'C12' 'C12' 'C12' 'C12' 'C12'\n",
      " 'C12' 'C12' 'C12' 'C12' 'C12' 'C12' 'C12' 'C12' 'C12' 'C12' 'C12' 'C12'\n",
      " 'C12' 'C12' 'C12' 'C12' 'C12' 'C12' 'C12' 'C12' 'C12' 'C12' 'C12' 'C12'\n",
      " 'C12' 'C12' 'C12' 'C12' 'C12' 'C12' 'C12' 'C12' 'C12' 'C12' 'C12' 'C12'\n",
      " 'C12' 'C12' 'C12' 'C12' 'C12' 'C12' 'C12' 'C12' 'C12' 'C12' 'C12' 'C12'\n",
      " 'C12' 'C12' 'C12' 'C12' 'C12' 'C12' 'C12' 'C12' 'C12' 'C12' 'C12' 'C12'\n",
      " 'C13' 'C12' 'C12' 'C12' 'C12' 'C12' 'C12' 'C12' 'C12' 'C12' 'C12' 'C12'\n",
      " 'C12' 'C12' 'C12' 'C12' 'C12' 'C12' 'C12' 'C12' 'C12' 'C12' 'C12' 'C12'\n",
      " 'C12' 'C12' 'C12' 'C12' 'C12' 'C12' 'C12' 'C12' 'C12' 'C12' 'C12' 'C12'\n",
      " 'C12' 'C12' 'C12' 'C12' 'C12' 'C12' 'C12' 'C12' 'C12' 'C12' 'C12' 'C12'\n",
      " 'C12' 'C12' 'C12' 'C12' 'C12' 'C12' 'C12' 'C12' 'C12' 'C12' 'C12' 'C12'\n",
      " 'C12' 'C12' 'C12' 'C12' 'C12' 'C12' 'C12' 'C12' 'C12' 'C12' 'C12' 'C12'\n",
      " 'C12' 'C12' 'C12' 'C12' 'C12' 'C12' 'C12' 'C12' 'C12' 'C12' 'C12' 'C12'\n",
      " 'C12' 'C12' 'C12' 'C12' 'C12' 'C12' 'C12' 'C12' 'C12' 'C12' 'C12' 'C12'\n",
      " 'C12' 'C12' 'C12' 'C12' 'C12' 'C12' 'C12' 'C12' 'C12' 'C12' 'C12' 'C12'\n",
      " 'C12' 'C12' 'C12' 'C12' 'C12' 'C12' 'C12' 'C12' 'C12' 'C12' 'C12' 'C12'\n",
      " 'C12' 'C12' 'C12' 'C12' 'C12' 'C12' 'C12' 'C12' 'C12' 'C12' 'C12' 'C12'\n",
      " 'C12' 'C12' 'C12' 'C12' 'C12' 'C12' 'C12' 'C12' 'C12' 'C12' 'C12' 'C12'\n",
      " 'C12' 'C12' 'C12' 'C12' 'C12' 'C12' 'C12' 'C12' 'C12' 'C12' 'C12' 'C12'\n",
      " 'C12' 'C12' 'C12' 'C12' 'C12' 'C12' 'C12' 'C12' 'C12' 'C12' 'C12' 'C12'\n",
      " 'C12' 'C12' 'C12' 'C12' 'C12' 'C12' 'C12' 'C12' 'C12' 'C12' 'C12' 'C12'\n",
      " 'C12' 'C12' 'C12' 'C12' 'C12' 'C12' 'C12' 'C12' 'C12' 'C12' 'C12' 'C12'\n",
      " 'C12' 'C12' 'C12' 'C12' 'C12' 'C12' 'C12' 'C12' 'C12' 'C12' 'C12' 'C12'\n",
      " 'C12' 'C12' 'C12' 'C12' 'C12' 'C12' 'C12' 'C12' 'C12' 'C12' 'C12' 'C12'\n",
      " 'C12' 'C12' 'C12' 'C12' 'C12' 'C12' 'C12' 'C12' 'C12' 'C12' 'C12' 'C12'\n",
      " 'C12' 'C12' 'C12' 'C12' 'C12' 'C12' 'C12' 'C12' 'C12' 'C12' 'C12' 'C12'\n",
      " 'C12' 'C12' 'C12' 'C12' 'C12' 'C12' 'C12' 'C12' 'C12' 'C12' 'C12' 'C12'\n",
      " 'C12' 'C12' 'C12' 'C12' 'C12' 'C12' 'C12' 'C12' 'C12' 'C12' 'C12' 'C12'\n",
      " 'C12' 'C12' 'C12' 'C12' 'C12' 'C12' 'C12' 'C12' 'C12' 'C12' 'C12' 'C12'\n",
      " 'C12' 'C12' 'C12' 'C12' 'C12' 'C12' 'C12' 'C12' 'C12' 'C12' 'C12' 'C12'\n",
      " 'C12' 'C12' 'C12' 'C12' 'C12' 'C12' 'C12' 'C12' 'C12' 'C12' 'C12' 'C12'\n",
      " 'C12' 'C12' 'C12' 'C12' 'C12' 'C12' 'C12' 'C12' 'C12' 'C12' 'C12' 'C12'\n",
      " 'C12' 'C12' 'C12' 'C12' 'C12' 'C12' 'C12' 'C12' 'C12' 'C12' 'C12' 'C12'\n",
      " 'C12' 'C12' 'C12' 'C12' 'C12' 'C12' 'C12' 'C12' 'C12' 'C12' 'C12' 'C12'\n",
      " 'C12' 'C12' 'C12' 'C12' 'C12' 'C12' 'C12' 'C12' 'C12' 'C12' 'C12' 'C12'\n",
      " 'C12' 'C12' 'C12' 'C12' 'C12' 'C12' 'C12' 'C12' 'C12' 'C12' 'C12' 'C12'\n",
      " 'C12' 'C12' 'C12' 'C12' 'C12' 'C12' 'C12' 'C12' 'C12' 'C12' 'C12' 'C12'\n",
      " 'C12' 'C12' 'C12' 'C12' 'C12' 'C12' 'C12' 'C12' 'C12' 'C12' 'C12' 'C12'\n",
      " 'C12' 'C12' 'C12' 'C12' 'C12' 'C12' 'C12' 'C12' 'C12' 'C12' 'C12' 'C12'\n",
      " 'C12' 'C12' 'C12' 'C12' 'C12' 'C12' 'C12' 'C12' 'C12' 'C12' 'C12' 'C12'\n",
      " 'C12' 'C12' 'C12' 'C12' 'C12' 'C12' 'C12' 'C12' 'C12' 'C12' 'C12' 'C12'\n",
      " 'C12' 'C12' 'C12' 'C12' 'C12' 'C12' 'C12' 'C12' 'C12' 'C12' 'C12' 'C12'\n",
      " 'C12' 'C12' 'C12' 'C12' 'C12' 'C12' 'C12' 'C12' 'C12' 'C12' 'C12' 'C12'\n",
      " 'C12' 'C12' 'C12' 'C12' 'C12' 'C12' 'C12' 'C12' 'C12' 'C12' 'C12' 'C12'\n",
      " 'C12' 'C12' 'C12' 'C12']\n"
     ]
    }
   ],
   "source": [
    "import numpy as np\n",
    "\n",
    "roll = np.random.choice([\"C12\", \"C13\"], 1000, p=[0.9889,0.0111])\n",
    "#roll is a list containing all the C12/C13 reusl\n"
   ]
  }
 ],
 "metadata": {
  "kernelspec": {
   "display_name": "Python 3 (ipykernel)",
   "language": "python",
   "name": "python3"
  },
  "language_info": {
   "codemirror_mode": {
    "name": "ipython",
    "version": 3
   },
   "file_extension": ".py",
   "mimetype": "text/x-python",
   "name": "python",
   "nbconvert_exporter": "python",
   "pygments_lexer": "ipython3",
   "version": "3.10.8"
  },
  "toc": {
   "base_numbering": 1,
   "nav_menu": {},
   "number_sections": true,
   "sideBar": true,
   "skip_h1_title": false,
   "title_cell": "Table of Contents",
   "title_sidebar": "Contents",
   "toc_cell": false,
   "toc_position": {},
   "toc_section_display": true,
   "toc_window_display": false
  },
  "vscode": {
   "interpreter": {
    "hash": "31f2aee4e71d21fbe5cf8b01ff0e069b9275f58929596ceb00d14d90e3e16cd6"
   }
  }
 },
 "nbformat": 4,
 "nbformat_minor": 5
}
