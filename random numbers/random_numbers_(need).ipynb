{
 "cells": [
  {
   "cell_type": "markdown",
   "id": "123456",
   "metadata": {},
   "source": [
    "<div style=\"text-align:left;font-size:2em\"><span style=\"font-weight:bolder;font-size:1.25em\">SP2273 | Learning Portfolio</span><br><br><span style=\"font-weight:bold;color:darkred\">Random Numbers (Need)</span></div>"
   ]
  },
  {
   "cell_type": "markdown",
   "id": "6d82d91a",
   "metadata": {},
   "source": [
    "## 1 Random Numbers"
   ]
  },
  {
   "cell_type": "markdown",
   "id": "86d3f24e",
   "metadata": {},
   "source": [
    "### 1.1 Real and Pseudo Random Numbers"
   ]
  },
  {
   "cell_type": "code",
   "execution_count": null,
   "id": "fab40c20",
   "metadata": {},
   "outputs": [],
   "source": [
    "\n",
    "# Your code here\n"
   ]
  },
  {
   "cell_type": "markdown",
   "id": "60f17fd5",
   "metadata": {},
   "source": [
    "### 1.2 NumPy’s PRNG"
   ]
  },
  {
   "cell_type": "code",
   "execution_count": null,
   "id": "27bdc6a4",
   "metadata": {},
   "outputs": [],
   "source": [
    "\n",
    "# Your code here\n"
   ]
  },
  {
   "cell_type": "markdown",
   "id": "706c08fb",
   "metadata": {},
   "source": [
    "### 1.3 A simple graphical test"
   ]
  },
  {
   "cell_type": "code",
   "execution_count": null,
   "id": "2ebebfd9",
   "metadata": {},
   "outputs": [],
   "source": [
    "\n",
    "# Your code here\n"
   ]
  },
  {
   "cell_type": "markdown",
   "id": "3f2660b8",
   "metadata": {},
   "source": [
    "### 1.4 Uniformly beyond \\([0,1)\\)"
   ]
  },
  {
   "cell_type": "code",
   "execution_count": null,
   "id": "2cf0ee44",
   "metadata": {},
   "outputs": [],
   "source": [
    "\n",
    "# Your code here\n"
   ]
  },
  {
   "cell_type": "markdown",
   "id": "3990376e",
   "metadata": {},
   "source": [
    "### 1.5 ‘seeding’ a PRNG"
   ]
  },
  {
   "cell_type": "code",
   "execution_count": null,
   "id": "fde23c3c",
   "metadata": {},
   "outputs": [],
   "source": [
    "\n",
    "# Your code here\n"
   ]
  },
  {
   "cell_type": "markdown",
   "id": "92354036",
   "metadata": {},
   "source": [
    "## 2 Simulating a Magic-8 Ball"
   ]
  },
  {
   "cell_type": "markdown",
   "id": "36aca309",
   "metadata": {},
   "source": [
    "## 3 Flipping Coins"
   ]
  },
  {
   "cell_type": "markdown",
   "id": "365dc0a8",
   "metadata": {},
   "source": [
    "### 3.1 A fair coin"
   ]
  },
  {
   "cell_type": "code",
   "execution_count": null,
   "id": "759875bf",
   "metadata": {},
   "outputs": [],
   "source": [
    "\n",
    "# Your code here\n"
   ]
  },
  {
   "cell_type": "markdown",
   "id": "893ce2f0",
   "metadata": {},
   "source": [
    "### 3.2 A biased coin"
   ]
  },
  {
   "cell_type": "code",
   "execution_count": 11,
   "id": "29f6bad3",
   "metadata": {},
   "outputs": [],
   "source": [
    "\n",
    "# Your code here\n"
   ]
  },
  {
   "cell_type": "markdown",
   "id": "64bad32b",
   "metadata": {},
   "source": [
    "### 3.3 A flipping experiment"
   ]
  },
  {
   "cell_type": "code",
   "execution_count": null,
   "id": "89c0cc40",
   "metadata": {},
   "outputs": [],
   "source": [
    "\n",
    "# Your code here\n"
   ]
  },
  {
   "cell_type": "markdown",
   "id": "8526b248",
   "metadata": {},
   "source": [
    "## Exercise 1 :  12C, 13C"
   ]
  },
  {
   "cell_type": "markdown",
   "id": "6a2e08d7",
   "metadata": {},
   "source": [
    "1. What are the mean and the standard deviation for the number of 13C atoms in a molecule of cholesterol (C27H44O)?\n",
    "\n",
    "Hint: Treat 13C as `Heads`.\n",
    "\n",
    "2. What is the probability that a cholesterol molecule has no atoms of 13C?\n",
    "\n",
    "**Don’t** use any functions from SciPy like `binom()`"
   ]
  },
  {
   "cell_type": "code",
   "execution_count": 58,
   "id": "460308f5",
   "metadata": {
    "scrolled": false
   },
   "outputs": [
    {
     "name": "stdout",
     "output_type": "stream",
     "text": [
      "Number of C13: 1.14%\n"
     ]
    },
    {
     "ename": "TypeError",
     "evalue": "object of type 'int' has no len()",
     "output_type": "error",
     "traceback": [
      "\u001b[1;31m---------------------------------------------------------------------------\u001b[0m",
      "\u001b[1;31mTypeError\u001b[0m                                 Traceback (most recent call last)",
      "Cell \u001b[1;32mIn[58], line 40\u001b[0m\n\u001b[0;32m     38\u001b[0m plt\u001b[38;5;241m.\u001b[39mxlabel(\u001b[38;5;124m'\u001b[39m\u001b[38;5;124mNo of C12\u001b[39m\u001b[38;5;124m'\u001b[39m)\n\u001b[0;32m     39\u001b[0m plt\u001b[38;5;241m.\u001b[39mylabel(\u001b[38;5;124mf\u001b[39m\u001b[38;5;124m'\u001b[39m\u001b[38;5;124mFrequency out of \u001b[39m\u001b[38;5;132;01m{\u001b[39;00mno_of_atoms\u001b[38;5;132;01m}\u001b[39;00m\u001b[38;5;124m'\u001b[39m)\n\u001b[1;32m---> 40\u001b[0m \u001b[43mplt\u001b[49m\u001b[38;5;241;43m.\u001b[39;49m\u001b[43mtable\u001b[49m\u001b[43m(\u001b[49m\u001b[43m[\u001b[49m\u001b[43mno_of_C12\u001b[49m\u001b[43m,\u001b[49m\u001b[43m \u001b[49m\u001b[43mC12_counts\u001b[49m\u001b[43m,\u001b[49m\u001b[43m \u001b[49m\u001b[43mC12_probability\u001b[49m\u001b[43m]\u001b[49m\u001b[43m,\u001b[49m\u001b[43m \u001b[49m\u001b[43mrowLabels\u001b[49m\u001b[38;5;241;43m=\u001b[39;49m\u001b[43m[\u001b[49m\u001b[38;5;124;43m'\u001b[39;49m\u001b[38;5;124;43mNo of C12\u001b[39;49m\u001b[38;5;124;43m'\u001b[39;49m\u001b[43m,\u001b[49m\u001b[43m \u001b[49m\u001b[38;5;124;43m'\u001b[39;49m\u001b[38;5;124;43mFrequency\u001b[39;49m\u001b[38;5;124;43m'\u001b[39;49m\u001b[43m,\u001b[49m\u001b[43m \u001b[49m\u001b[38;5;124;43m'\u001b[39;49m\u001b[38;5;124;43mPRNG Probability\u001b[39;49m\u001b[38;5;124;43m'\u001b[39;49m\u001b[43m]\u001b[49m\u001b[43m,\u001b[49m\u001b[43m \u001b[49m\u001b[43mloc\u001b[49m\u001b[38;5;241;43m=\u001b[39;49m\u001b[38;5;124;43m'\u001b[39;49m\u001b[38;5;124;43mbottom\u001b[39;49m\u001b[38;5;124;43m'\u001b[39;49m\u001b[43m,\u001b[49m\u001b[43m \u001b[49m\u001b[43mbbox\u001b[49m\u001b[38;5;241;43m=\u001b[39;49m\u001b[43m[\u001b[49m\u001b[38;5;241;43m0\u001b[39;49m\u001b[43m,\u001b[49m\u001b[38;5;241;43m-\u001b[39;49m\u001b[38;5;241;43m0.5\u001b[39;49m\u001b[43m,\u001b[49m\u001b[38;5;241;43m1\u001b[39;49m\u001b[43m,\u001b[49m\u001b[38;5;241;43m0.3\u001b[39;49m\u001b[43m]\u001b[49m\u001b[43m)\u001b[49m\n\u001b[0;32m     42\u001b[0m \u001b[38;5;28mprint\u001b[39m(\u001b[38;5;241m27\u001b[39m\u001b[38;5;241m-\u001b[39mnp\u001b[38;5;241m.\u001b[39mmean(results))\n\u001b[0;32m     43\u001b[0m \u001b[38;5;28mprint\u001b[39m(np\u001b[38;5;241m.\u001b[39mstd(results))\n",
      "File \u001b[1;32m~\\miniconda3\\lib\\site-packages\\matplotlib\\pyplot.py:2902\u001b[0m, in \u001b[0;36mtable\u001b[1;34m(cellText, cellColours, cellLoc, colWidths, rowLabels, rowColours, rowLoc, colLabels, colColours, colLoc, loc, bbox, edges, **kwargs)\u001b[0m\n\u001b[0;32m   2895\u001b[0m \u001b[38;5;129m@_copy_docstring_and_deprecators\u001b[39m(Axes\u001b[38;5;241m.\u001b[39mtable)\n\u001b[0;32m   2896\u001b[0m \u001b[38;5;28;01mdef\u001b[39;00m \u001b[38;5;21mtable\u001b[39m(\n\u001b[0;32m   2897\u001b[0m         cellText\u001b[38;5;241m=\u001b[39m\u001b[38;5;28;01mNone\u001b[39;00m, cellColours\u001b[38;5;241m=\u001b[39m\u001b[38;5;28;01mNone\u001b[39;00m, cellLoc\u001b[38;5;241m=\u001b[39m\u001b[38;5;124m'\u001b[39m\u001b[38;5;124mright\u001b[39m\u001b[38;5;124m'\u001b[39m,\n\u001b[1;32m   (...)\u001b[0m\n\u001b[0;32m   2900\u001b[0m         colLoc\u001b[38;5;241m=\u001b[39m\u001b[38;5;124m'\u001b[39m\u001b[38;5;124mcenter\u001b[39m\u001b[38;5;124m'\u001b[39m, loc\u001b[38;5;241m=\u001b[39m\u001b[38;5;124m'\u001b[39m\u001b[38;5;124mbottom\u001b[39m\u001b[38;5;124m'\u001b[39m, bbox\u001b[38;5;241m=\u001b[39m\u001b[38;5;28;01mNone\u001b[39;00m, edges\u001b[38;5;241m=\u001b[39m\u001b[38;5;124m'\u001b[39m\u001b[38;5;124mclosed\u001b[39m\u001b[38;5;124m'\u001b[39m,\n\u001b[0;32m   2901\u001b[0m         \u001b[38;5;241m*\u001b[39m\u001b[38;5;241m*\u001b[39mkwargs):\n\u001b[1;32m-> 2902\u001b[0m     \u001b[38;5;28;01mreturn\u001b[39;00m gca()\u001b[38;5;241m.\u001b[39mtable(\n\u001b[0;32m   2903\u001b[0m         cellText\u001b[38;5;241m=\u001b[39mcellText, cellColours\u001b[38;5;241m=\u001b[39mcellColours, cellLoc\u001b[38;5;241m=\u001b[39mcellLoc,\n\u001b[0;32m   2904\u001b[0m         colWidths\u001b[38;5;241m=\u001b[39mcolWidths, rowLabels\u001b[38;5;241m=\u001b[39mrowLabels,\n\u001b[0;32m   2905\u001b[0m         rowColours\u001b[38;5;241m=\u001b[39mrowColours, rowLoc\u001b[38;5;241m=\u001b[39mrowLoc, colLabels\u001b[38;5;241m=\u001b[39mcolLabels,\n\u001b[0;32m   2906\u001b[0m         colColours\u001b[38;5;241m=\u001b[39mcolColours, colLoc\u001b[38;5;241m=\u001b[39mcolLoc, loc\u001b[38;5;241m=\u001b[39mloc, bbox\u001b[38;5;241m=\u001b[39mbbox,\n\u001b[0;32m   2907\u001b[0m         edges\u001b[38;5;241m=\u001b[39medges, \u001b[38;5;241m*\u001b[39m\u001b[38;5;241m*\u001b[39mkwargs)\n",
      "File \u001b[1;32m~\\miniconda3\\lib\\site-packages\\matplotlib\\table.py:746\u001b[0m, in \u001b[0;36mtable\u001b[1;34m(ax, cellText, cellColours, cellLoc, colWidths, rowLabels, rowColours, rowLoc, colLabels, colColours, colLoc, loc, bbox, edges, **kwargs)\u001b[0m\n\u001b[0;32m    743\u001b[0m     cellText \u001b[38;5;241m=\u001b[39m [[\u001b[38;5;124m'\u001b[39m\u001b[38;5;124m'\u001b[39m] \u001b[38;5;241m*\u001b[39m cols] \u001b[38;5;241m*\u001b[39m rows\n\u001b[0;32m    745\u001b[0m rows \u001b[38;5;241m=\u001b[39m \u001b[38;5;28mlen\u001b[39m(cellText)\n\u001b[1;32m--> 746\u001b[0m cols \u001b[38;5;241m=\u001b[39m \u001b[38;5;28;43mlen\u001b[39;49m\u001b[43m(\u001b[49m\u001b[43mcellText\u001b[49m\u001b[43m[\u001b[49m\u001b[38;5;241;43m0\u001b[39;49m\u001b[43m]\u001b[49m\u001b[43m)\u001b[49m\n\u001b[0;32m    747\u001b[0m \u001b[38;5;28;01mfor\u001b[39;00m row \u001b[38;5;129;01min\u001b[39;00m cellText:\n\u001b[0;32m    748\u001b[0m     \u001b[38;5;28;01mif\u001b[39;00m \u001b[38;5;28mlen\u001b[39m(row) \u001b[38;5;241m!=\u001b[39m cols:\n",
      "\u001b[1;31mTypeError\u001b[0m: object of type 'int' has no len()"
     ]
    },
    {
     "data": {
      "image/png": "[encoded data removed]",
      "text/plain": [
       "<Figure size 1000x500 with 1 Axes>"
      ]
     },
     "metadata": {},
     "output_type": "display_data"
    }
   ],
   "source": [
    "import numpy as np\n",
    "import matplotlib.pyplot as plt\n",
    "import matplotlib\n",
    "\n",
    "def ID_isotope(no_of_atoms=1, probability=0.9889):\n",
    "    results = np.random.rand(no_of_atoms)\n",
    "    no_of_C13 = np.sum(results > probability)\n",
    "    return no_of_C13\n",
    "#results generates a random number from 0 to 1\n",
    "#If it is bigger than 0.0111 then it's a C12/C13, then we return no_of_C12\n",
    "#breaks when you change no of atoms to 27\n",
    "\n",
    "#make ID isotope an isotope generator\n",
    "#How many C13 isotopes are there inside?\n",
    "#use a for loop to count C13\n",
    "#get no. of C13 and one molecule\n",
    "\n",
    "#Repeat this 10000 times and get index list of numbering, and get number of C13 in each molecule\n",
    "\n",
    "#Use mean and standev to get ans\n",
    "\n",
    "\n",
    "#take probability of getting C13 and multiply \n",
    "\n",
    "\n",
    "no_of_C13 = ID_isotope(no_of_atoms)\n",
    "print(f\"Number of C13: {no_of_C13/no_of_atoms*100:.2f}%\")\n",
    "\n",
    "no_of_atoms = 100000\n",
    "result = [ID_isotope(no_of_atoms=27) for _ in range(no_of_atoms)]\n",
    "no_of_C13, C13_counts = np.unique(result, return_counts=True)\n",
    "#creates the histogram axes\n",
    "\n",
    "C12_probability = C12_counts/no_of_atoms\n",
    "\n",
    "plt.rcParams['figure.figsize'] = (10,5)\n",
    "plt.bar(no_of_C12, C12_counts);\n",
    "plt.xlabel('No of C12')\n",
    "plt.ylabel(f'Frequency out of {no_of_atoms}')\n",
    "plt.table([no_of_C12, C12_counts, C12_probability], rowLabels=['No of C12', 'Frequency', 'PRNG Probability'], loc='bottom', bbox=[0,-0.5,1,0.3])\n",
    "\n",
    "print(27-np.mean(results))\n",
    "print(np.std(results))\n",
    "print(C12_probability[-1])\n",
    "#The value is there, but it's currently hardcoded\n",
    "\n",
    "#Actually looking at the learning examples instead of just hitting it"
   ]
  },
  {
   "cell_type": "code",
   "execution_count": 57,
   "id": "a92d3607",
   "metadata": {},
   "outputs": [
    {
     "name": "stdout",
     "output_type": "stream",
     "text": [
      "[0 1 2 3 4]\n",
      "[7393 2263  317   26    1]\n"
     ]
    },
    {
     "data": {
      "image/png": "[encoded data removed]",
      "text/plain": [
       "<Figure size 1000x500 with 1 Axes>"
      ]
     },
     "metadata": {},
     "output_type": "display_data"
    },
    {
     "name": "stdout",
     "output_type": "stream",
     "text": [
      "0.2979\n",
      "0.5379178282972223\n",
      "0.7393\n"
     ]
    }
   ],
   "source": [
    "#doing it with for loop instead of example\n",
    "\n",
    "import numpy as np\n",
    "import matplotlib.pyplot as plt\n",
    "\n",
    "def ID_isotope(no_of_atoms, probability=0.9889):\n",
    "    no_of_C13 = 0\n",
    "    for i in range(no_of_atoms):\n",
    "        coinflip = np.random.rand(1)\n",
    "        if coinflip > probability:\n",
    "            no_of_C13 += 1\n",
    "    return no_of_C13\n",
    "\n",
    "results = []\n",
    "no_of_molecules = 10000\n",
    "for i in range(no_of_molecules):\n",
    "    no_of_C13 = ID_isotope(27)\n",
    "    results.append(no_of_C13)\n",
    "\n",
    "no_of_c13, c13_counts = np.unique(results, return_counts=True)\n",
    "plt.title(\"Number of C13 Isotopes in each Cholesterol\")\n",
    "plt.rcParams['figure.figsize'] = (10,5)\n",
    "print(no_of_c13)\n",
    "print(c13_counts)\n",
    "\n",
    "plt.bar(no_of_c13, c13_counts)\n",
    "plt.xlabel('No of C13')\n",
    "plt.ylabel(f'Frequency out of {no_of_molecules}')\n",
    "plt.show()\n",
    "print(np.mean(results))\n",
    "print(np.std(results))\n",
    "print(c13_counts[0]/no_of_molecules)\n",
    "#probability that a cholesterol molecule has no C13"
   ]
  }
 ],
 "metadata": {
  "kernelspec": {
   "display_name": "Python 3 (ipykernel)",
   "language": "python",
   "name": "python3"
  },
  "language_info": {
   "codemirror_mode": {
    "name": "ipython",
    "version": 3
   },
   "file_extension": ".py",
   "mimetype": "text/x-python",
   "name": "python",
   "nbconvert_exporter": "python",
   "pygments_lexer": "ipython3",
   "version": "3.10.8"
  },
  "toc": {
   "base_numbering": 1,
   "nav_menu": {},
   "number_sections": true,
   "sideBar": true,
   "skip_h1_title": false,
   "title_cell": "Table of Contents",
   "title_sidebar": "Contents",
   "toc_cell": false,
   "toc_position": {},
   "toc_section_display": true,
   "toc_window_display": false
  },
  "vscode": {
   "interpreter": {
    "hash": "31f2aee4e71d21fbe5cf8b01ff0e069b9275f58929596ceb00d14d90e3e16cd6"
   }
  }
 },
 "nbformat": 4,
 "nbformat_minor": 5
}
