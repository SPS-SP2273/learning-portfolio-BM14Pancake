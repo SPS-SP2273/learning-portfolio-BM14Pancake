{
 "cells": [
  {
   "cell_type": "markdown",
   "id": "123456",
   "metadata": {},
   "source": [
    "<div style=\"text-align:left;font-size:2em\"><span style=\"font-weight:bolder;font-size:1.25em\">SP2273 | Learning Portfolio</span><br><br><span style=\"font-weight:bold;color:darkred\">Functions (Need)</span></div>"
   ]
  },
  {
   "cell_type": "markdown",
   "id": "0e7fb7d2",
   "metadata": {},
   "source": [
    "## 1 User defined functions"
   ]
  },
  {
   "cell_type": "markdown",
   "id": "5165fbb5",
   "metadata": {},
   "source": [
    "### 1.1 Named functions that return"
   ]
  },
  {
   "cell_type": "code",
   "execution_count": null,
   "id": "cbeccec1",
   "metadata": {},
   "outputs": [],
   "source": [
    "\n",
    "# Your code here\n"
   ]
  },
  {
   "cell_type": "markdown",
   "id": "c0bfcd2a",
   "metadata": {},
   "source": [
    "### 1.2 Named functions that don’t return"
   ]
  },
  {
   "cell_type": "code",
   "execution_count": null,
   "id": "78346acc",
   "metadata": {},
   "outputs": [],
   "source": [
    "\n",
    "# Your code here\n"
   ]
  },
  {
   "cell_type": "markdown",
   "id": "c4f92d69",
   "metadata": {},
   "source": [
    "### 1.3 Anonymous functions"
   ]
  },
  {
   "cell_type": "code",
   "execution_count": null,
   "id": "99fd67ca",
   "metadata": {},
   "outputs": [],
   "source": [
    "\n",
    "# Your code here\n"
   ]
  },
  {
   "cell_type": "markdown",
   "id": "dc970b18",
   "metadata": {},
   "source": [
    "### 1.4 Optional arguments"
   ]
  },
  {
   "cell_type": "code",
   "execution_count": null,
   "id": "ced5544e",
   "metadata": {},
   "outputs": [],
   "source": [
    "\n",
    "# Your code here\n"
   ]
  },
  {
   "cell_type": "markdown",
   "id": "96da0953",
   "metadata": {},
   "source": [
    "## 2 The importance of functions?"
   ]
  },
  {
   "cell_type": "markdown",
   "id": "4522da32",
   "metadata": {},
   "source": [
    "### 2.1 An argument for functions"
   ]
  },
  {
   "cell_type": "code",
   "execution_count": null,
   "id": "80928e46",
   "metadata": {},
   "outputs": [],
   "source": [
    "\n",
    "# Your code here\n"
   ]
  },
  {
   "cell_type": "markdown",
   "id": "19c68654",
   "metadata": {},
   "source": [
    "### 2.2 A word of caution"
   ]
  },
  {
   "cell_type": "code",
   "execution_count": null,
   "id": "33c2d76d",
   "metadata": {},
   "outputs": [],
   "source": [
    "\n",
    "# Your code here\n"
   ]
  },
  {
   "cell_type": "markdown",
   "id": "d65ead8f",
   "metadata": {},
   "source": [
    "## Exercise 1 :  Do you know why?\n",
    "\n",
    "The following code works as expected despite not having an `else` statement. Please use a Markdown cell to explain why?\n",
    "\n",
    "```\n",
    "def greeting(name):\n",
    "    if name == 'Batman':\n",
    "        return 'Hello Batman! So, nice to meet you!'\n",
    "    return f'Hello {name}!'\n",
    "```"
   ]
  },
  {
   "cell_type": "markdown",
   "id": "b03bdc0c",
   "metadata": {},
   "source": [
    "The `return` keyword causes Python to jump out of the function with the value stated after it (I.E. 'Hello [...] you!'), which is why even if there were an `else` statement after it, it would be ignored"
   ]
  },
  {
   "cell_type": "markdown",
   "id": "286fbc6f",
   "metadata": {},
   "source": [
    "## Exercise 2 :  Calculator functions\n",
    "\n",
    "1. Create four `functions add(x, y)`, `subtract(x, y)`, `multiply(x, y)` and `divide(x, y)` that realise the operations `x+y`, `x-y`, `x*y` and `x/y` respectively.\n",
    "\n",
    "For the division case, remember to add an `if` condition to admonish the division user by zero.\n",
    "<p>You will have to use the function `exit()`<sup>23</sup> to force Python to stop.\n",
    "\n",
    "2. Test your functions with the following NumPy arrays(!)<sup>24</sup>.\n",
    "\n",
    "```\n",
    "x=np.array([36, 34, 44, 76, 27])\n",
    "y=np.array([64, 66, 56, 24, 73])\n",
    "```"
   ]
  },
  {
   "cell_type": "code",
   "execution_count": 11,
   "id": "263daf2a",
   "metadata": {},
   "outputs": [
    {
     "data": {
      "text/plain": [
       "array([100, 100, 100, 100, 100])"
      ]
     },
     "execution_count": 11,
     "metadata": {},
     "output_type": "execute_result"
    }
   ],
   "source": [
    "import numpy as np\n",
    "\n",
    "x=np.array([36, 34, 44, 76, 27])\n",
    "y=np.array([64, 66, 56, 24, 73])\n",
    "\n",
    "def add(x,y):\n",
    "    return (x+y)\n",
    "    \n",
    "add(x,y)"
   ]
  },
  {
   "cell_type": "code",
   "execution_count": 12,
   "id": "de69a758",
   "metadata": {},
   "outputs": [
    {
     "data": {
      "text/plain": [
       "array([-28, -32, -12,  52, -46])"
      ]
     },
     "execution_count": 12,
     "metadata": {},
     "output_type": "execute_result"
    }
   ],
   "source": [
    "import numpy as np\n",
    "\n",
    "x=np.array([36, 34, 44, 76, 27])\n",
    "y=np.array([64, 66, 56, 24, 73])\n",
    "\n",
    "def subtract(x,y):\n",
    "    return (x-y)\n",
    "    \n",
    "subtract(x,y)"
   ]
  },
  {
   "cell_type": "code",
   "execution_count": 13,
   "id": "0a128be8",
   "metadata": {},
   "outputs": [
    {
     "data": {
      "text/plain": [
       "array([2304, 2244, 2464, 1824, 1971])"
      ]
     },
     "execution_count": 13,
     "metadata": {},
     "output_type": "execute_result"
    }
   ],
   "source": [
    "import numpy as np\n",
    "\n",
    "x=np.array([36, 34, 44, 76, 27])\n",
    "y=np.array([64, 66, 56, 24, 73])\n",
    "\n",
    "def multiply(x,y):\n",
    "    return (x*y)\n",
    "    \n",
    "multiply(x,y)"
   ]
  },
  {
   "cell_type": "code",
   "execution_count": 1,
   "id": "b64d39d0",
   "metadata": {
    "scrolled": true
   },
   "outputs": [
    {
     "name": "stdout",
     "output_type": "stream",
     "text": [
      "0.5625\n",
      "0.5151515151515151\n",
      "0.7857142857142857\n",
      "3.1666666666666665\n",
      "0.3698630136986301\n"
     ]
    }
   ],
   "source": [
    "import numpy as np\n",
    "\n",
    "x=np.array([36, 34, 44, 76, 27])\n",
    "y=np.array([64, 66, 56, 24, 73])\n",
    "\n",
    "def divide(x,y):\n",
    "    if np.any(y!=0):\n",
    "        return x/y\n",
    "    else:\n",
    "        return f'Dividing by zero is not allowed :('\n",
    "\n",
    "for i in range(5):\n",
    "    print(divide(x[i],y[i]))"
   ]
  },
  {
   "cell_type": "code",
   "execution_count": null,
   "id": "6cca1514",
   "metadata": {},
   "outputs": [],
   "source": []
  },
  {
   "cell_type": "markdown",
   "id": "60c13652",
   "metadata": {},
   "source": [
    "## Exercise 3 :  max_info() with NumPy\n",
    "\n",
    "Create a function called `max_info(numbers)` that accepts a list and returns the maximum value and the index (i.e. location) of the maximum.\n",
    "\n",
    "Base your code on the `np.max()` and `np.argmax()` functions of NumPy.\n",
    "\n",
    "Test your function with the list:\n",
    "\n",
    "```\n",
    "numbers = [40, 27, 83, 44, 74, 51, 76, 77, 10, 49]\n",
    "```"
   ]
  },
  {
   "cell_type": "code",
   "execution_count": null,
   "id": "227d5c1a",
   "metadata": {},
   "outputs": [],
   "source": [
    "import numpy as np\n",
    "\n",
    "numbers = [40, 27, 83, 44, 74, 51, 76, 77, 10, 49]\n",
    "\n",
    "def max_info(numbers):\n",
    "    return f'The maximum value is {np.max(numbers)} which is in position {np.argmax(numbers)+1}.'\n",
    "\n",
    "max_info(numbers)"
   ]
  }
 ],
 "metadata": {
  "kernelspec": {
   "display_name": "Python 3 (ipykernel)",
   "language": "python",
   "name": "python3"
  },
  "language_info": {
   "codemirror_mode": {
    "name": "ipython",
    "version": 3
   },
   "file_extension": ".py",
   "mimetype": "text/x-python",
   "name": "python",
   "nbconvert_exporter": "python",
   "pygments_lexer": "ipython3",
   "version": "3.10.8"
  },
  "toc": {
   "base_numbering": 1,
   "nav_menu": {},
   "number_sections": true,
   "sideBar": true,
   "skip_h1_title": false,
   "title_cell": "Table of Contents",
   "title_sidebar": "Contents",
   "toc_cell": false,
   "toc_position": {},
   "toc_section_display": true,
   "toc_window_display": false
  },
  "vscode": {
   "interpreter": {
    "hash": "31f2aee4e71d21fbe5cf8b01ff0e069b9275f58929596ceb00d14d90e3e16cd6"
   }
  }
 },
 "nbformat": 4,
 "nbformat_minor": 5
}
