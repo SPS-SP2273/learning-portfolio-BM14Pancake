{
 "cells": [
  {
   "cell_type": "markdown",
   "id": "123456",
   "metadata": {},
   "source": [
    "<div style=\"text-align:left;font-size:2em\"><span style=\"font-weight:bolder;font-size:1.25em\">SP2273 | Learning Portfolio</span><br><br><span style=\"font-weight:bold;color:darkred\">Functions (Good)</span></div>"
   ]
  },
  {
   "cell_type": "markdown",
   "id": "dc6a0a01",
   "metadata": {},
   "source": [
    "## 1 Check, balances and contingencies"
   ]
  },
  {
   "cell_type": "markdown",
   "id": "599aa108",
   "metadata": {},
   "source": [
    "### 1.1 assert"
   ]
  },
  {
   "cell_type": "code",
   "execution_count": null,
   "id": "c1e0e947",
   "metadata": {},
   "outputs": [],
   "source": [
    "\n",
    "# Your code here\n"
   ]
  },
  {
   "cell_type": "markdown",
   "id": "123e96ce",
   "metadata": {},
   "source": [
    "### 1.2 try-except"
   ]
  },
  {
   "cell_type": "code",
   "execution_count": null,
   "id": "7d41af7a",
   "metadata": {},
   "outputs": [],
   "source": [
    "\n",
    "# Your code here\n"
   ]
  },
  {
   "cell_type": "markdown",
   "id": "4b413062",
   "metadata": {},
   "source": [
    "## 2 Some loose ends"
   ]
  },
  {
   "cell_type": "markdown",
   "id": "a9772433",
   "metadata": {},
   "source": [
    "### 2.1 Positional, keyword and default arguments"
   ]
  },
  {
   "cell_type": "code",
   "execution_count": null,
   "id": "166b704b",
   "metadata": {},
   "outputs": [],
   "source": [
    "\n",
    "# Your code here\n"
   ]
  },
  {
   "cell_type": "markdown",
   "id": "9997ebf3",
   "metadata": {},
   "source": [
    "### 2.2 Docstrings"
   ]
  },
  {
   "cell_type": "code",
   "execution_count": null,
   "id": "84481d70",
   "metadata": {},
   "outputs": [],
   "source": [
    "\n",
    "# Your code here\n"
   ]
  },
  {
   "cell_type": "markdown",
   "id": "06da99fa",
   "metadata": {},
   "source": [
    "### 2.3 Function are first class citizens"
   ]
  },
  {
   "cell_type": "code",
   "execution_count": null,
   "id": "63b4bd9a",
   "metadata": {},
   "outputs": [],
   "source": [
    "\n",
    "# Your code here\n"
   ]
  },
  {
   "cell_type": "markdown",
   "id": "e657a5c6",
   "metadata": {},
   "source": [
    "### 2.4 More unpacking"
   ]
  },
  {
   "cell_type": "code",
   "execution_count": null,
   "id": "c6e636ab",
   "metadata": {},
   "outputs": [],
   "source": [
    "\n",
    "# Your code here\n"
   ]
  },
  {
   "cell_type": "markdown",
   "id": "2112ae5c",
   "metadata": {},
   "source": [
    "## Exercise 1 :  A better calculator I\n",
    "\n",
    "Redo the calculator exercise from the previous chapter but use `assert` to handle any potential problems."
   ]
  },
  {
   "cell_type": "code",
   "execution_count": 1,
   "id": "c3d7212f",
   "metadata": {},
   "outputs": [
    {
     "name": "stdout",
     "output_type": "stream",
     "text": [
      "0.5625\n",
      "0.5151515151515151\n",
      "0.7857142857142857\n",
      "3.1666666666666665\n",
      "0.3698630136986301\n"
     ]
    }
   ],
   "source": [
    "#I assume the only potential problem with the calculators is if we attempted to divide by 0\n",
    "\n",
    "import numpy as np\n",
    "\n",
    "x=np.array([36, 34, 44, 76, 27])\n",
    "y=np.array([64, 66, 56, 24, 73])\n",
    "\n",
    "def divide(x,y):\n",
    "    assert y != 0, \"No dividing by 0\"\n",
    "    z = x/y\n",
    "    return z\n",
    "\n",
    "for i in range(5):\n",
    "    print(divide(x[i],y[i]))"
   ]
  },
  {
   "cell_type": "markdown",
   "id": "4b3a31b4",
   "metadata": {},
   "source": [
    "## Exercise 2 :  A better calculator II\n",
    "\n",
    "Redo the calculator exercise (again!) from the previous chapter but use a `try-except` statement to handle any potential problems."
   ]
  },
  {
   "cell_type": "code",
   "execution_count": 52,
   "id": "bd3bf28a",
   "metadata": {},
   "outputs": [
    {
     "name": "stdout",
     "output_type": "stream",
     "text": [
      "100\n",
      "-28\n",
      "2304\n",
      "0.5625\n",
      "100\n",
      "-32\n",
      "2244\n",
      "0.5151515151515151\n",
      "100\n",
      "-12\n",
      "2464\n",
      "0.7857142857142857\n",
      "100\n",
      "52\n",
      "1824\n",
      "3.1666666666666665\n",
      "100\n",
      "-46\n",
      "1971\n",
      "0.3698630136986301\n",
      "I don't understand.\n"
     ]
    }
   ],
   "source": [
    "#forseen issue is that a user inputs a string instead of a number\n",
    "\n",
    "import numpy as np\n",
    "\n",
    "x=np.array([36, 34, 44, 76, 27])\n",
    "y=np.array([64, 66, 56, 24, 73])\n",
    "\n",
    "def add(x,y):\n",
    "    try:\n",
    "        return x+y\n",
    "    except:\n",
    "        return f\"I don't understand.\"\n",
    "    \n",
    "def subtract(x,y):\n",
    "    try:\n",
    "        return x-y\n",
    "    except:\n",
    "        return f\"I don't understand.\"\n",
    "\n",
    "def multiply(x,y):\n",
    "    try:\n",
    "        return x*y\n",
    "    except:\n",
    "        return f\"I don't understand.\"\n",
    "    \n",
    "def divide(x,y):\n",
    "    try:\n",
    "        return x/y\n",
    "    except:\n",
    "        return f\"I don't understand.\"\n",
    "        \n",
    "for i in range(5):\n",
    "    print(add(x[i],y[i]))\n",
    "    print(subtract(x[i],y[i]))\n",
    "    print(multiply(x[i],y[i]))\n",
    "    print(divide(x[i],y[i]))\n",
    "\n",
    "print(add(1,\"a\"))"
   ]
  }
 ],
 "metadata": {
  "kernelspec": {
   "display_name": "Python 3 (ipykernel)",
   "language": "python",
   "name": "python3"
  },
  "language_info": {
   "codemirror_mode": {
    "name": "ipython",
    "version": 3
   },
   "file_extension": ".py",
   "mimetype": "text/x-python",
   "name": "python",
   "nbconvert_exporter": "python",
   "pygments_lexer": "ipython3",
   "version": "3.10.8"
  },
  "toc": {
   "base_numbering": 1,
   "nav_menu": {},
   "number_sections": true,
   "sideBar": true,
   "skip_h1_title": false,
   "title_cell": "Table of Contents",
   "title_sidebar": "Contents",
   "toc_cell": false,
   "toc_position": {},
   "toc_section_display": true,
   "toc_window_display": false
  },
  "vscode": {
   "interpreter": {
    "hash": "31f2aee4e71d21fbe5cf8b01ff0e069b9275f58929596ceb00d14d90e3e16cd6"
   }
  }
 },
 "nbformat": 4,
 "nbformat_minor": 5
}
