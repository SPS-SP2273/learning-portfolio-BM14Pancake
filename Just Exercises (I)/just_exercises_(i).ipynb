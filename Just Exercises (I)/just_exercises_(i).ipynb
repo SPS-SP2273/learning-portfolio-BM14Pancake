{
 "cells": [
  {
   "cell_type": "markdown",
   "id": "123456",
   "metadata": {},
   "source": [
    "<div style=\"text-align:left;font-size:2em\"><span style=\"font-weight:bolder;font-size:1.25em\">SP2273 | Learning Portfolio</span><br><br><span style=\"font-weight:bold;color:darkred\">Just Exercises (I)</span></div>"
   ]
  },
  {
   "cell_type": "markdown",
   "id": "be5656d7",
   "metadata": {},
   "source": [
    "## Exercise 1 :  F-strings to the rescue"
   ]
  },
  {
   "cell_type": "code",
   "execution_count": 15,
   "id": "34f90a79",
   "metadata": {
    "scrolled": true
   },
   "outputs": [
    {
     "name": "stdout",
     "output_type": "stream",
     "text": [
      "00001\n",
      "00002\n",
      "00003\n",
      "00004\n",
      "00005\n",
      "00006\n",
      "00007\n",
      "00008\n",
      "00009\n",
      "00010\n"
     ]
    }
   ],
   "source": [
    "for i in range(1,11):\n",
    "    print(f\"{i:05}\")"
   ]
  },
  {
   "cell_type": "code",
   "execution_count": 40,
   "id": "c3e5d289",
   "metadata": {},
   "outputs": [
    {
     "name": "stdout",
     "output_type": "stream",
     "text": [
      "001          +\n",
      "002         ++\n",
      "003        +++\n",
      "004       ++++\n",
      "005      +++++\n",
      "006     ++++++\n",
      "007    +++++++\n",
      "008   ++++++++\n",
      "009  +++++++++\n",
      "010 ++++++++++\n"
     ]
    }
   ],
   "source": [
    "for i in range(1,11):\n",
    "    print(f\"{i:03}{'+'*i:>11}\")"
   ]
  },
  {
   "cell_type": "code",
   "execution_count": 44,
   "id": "9620890f",
   "metadata": {},
   "outputs": [
    {
     "name": "stdout",
     "output_type": "stream",
     "text": [
      "001 -+++++++++\n",
      "002 --++++++++\n",
      "003 ---+++++++\n",
      "004 ----++++++\n",
      "005 -----+++++\n",
      "006 ------++++\n",
      "007 -------+++\n",
      "008 --------++\n",
      "009 ---------+\n",
      "010 ----------\n"
     ]
    }
   ],
   "source": [
    "for i in range(1,11):\n",
    "    print(f\"{i:03} {'-'*i}{'+'*(10-i)}\")"
   ]
  },
  {
   "cell_type": "code",
   "execution_count": 1,
   "id": "1b922fad",
   "metadata": {
    "scrolled": true
   },
   "outputs": [
    {
     "name": "stdout",
     "output_type": "stream",
     "text": [
      "['bruce_exploits.txt', 'bruce_enemies.txt', 'bruce_friends.txt', 'natasha_exploits.txt', 'natasha_enemies.txt', 'natasha_friends.txt', 'tony_exploits.txt', 'tony_enemies.txt', 'tony_friends.txt']\n"
     ]
    }
   ],
   "source": [
    "#4.\n",
    "#2 lists, nested for loop\n",
    "#loop is (exploits, enemies, friends) once for each name\n",
    "\n",
    "yeah = [\"bruce\", \"natasha\", \"tony\"]\n",
    "no = [\"exploits\", \"enemies\", \"friends\"]\n",
    "the_it = []\n",
    "for i in range(len(yeah)):\n",
    "    for j in range(len(no)):\n",
    "        the_it.append(f\"{yeah[i]}_{no[j]}.txt\")\n",
    "\n",
    "print(the_it)"
   ]
  },
  {
   "cell_type": "code",
   "execution_count": 34,
   "id": "6b4e4473",
   "metadata": {},
   "outputs": [
    {
     "name": "stdout",
     "output_type": "stream",
     "text": [
      "['data_sg_exp-01_trial-001.txt', 'data_sg_exp-01_trial-002.txt', 'data_sg_exp-01_trial-003.txt', 'data_sg_exp-01_trial-004.txt', 'data_sg_exp-01_trial-005.txt', 'data_sg_exp-01_trial-006.txt', 'data_sg_exp-01_trial-007.txt', 'data_sg_exp-01_trial-008.txt', 'data_sg_exp-01_trial-009.txt', 'data_sg_exp-01_trial-010.txt', 'data_sg_exp-01_trial-011.txt', 'data_sg_exp-01_trial-012.txt', 'data_sg_exp-01_trial-013.txt', 'data_sg_exp-01_trial-014.txt', 'data_sg_exp-01_trial-015.txt', 'data_sg_exp-01_trial-016.txt', 'data_sg_exp-01_trial-017.txt', 'data_sg_exp-01_trial-018.txt', 'data_sg_exp-01_trial-019.txt', 'data_sg_exp-01_trial-020.txt', 'data_sg_exp-01_trial-021.txt', 'data_sg_exp-01_trial-022.txt', 'data_sg_exp-01_trial-023.txt', 'data_sg_exp-01_trial-024.txt', 'data_sg_exp-01_trial-025.txt', 'data_sg_exp-01_trial-026.txt', 'data_sg_exp-01_trial-027.txt', 'data_sg_exp-01_trial-028.txt', 'data_sg_exp-01_trial-029.txt', 'data_sg_exp-01_trial-030.txt', 'data_sg_exp-01_trial-031.txt', 'data_sg_exp-01_trial-032.txt', 'data_sg_exp-01_trial-033.txt', 'data_sg_exp-01_trial-034.txt', 'data_sg_exp-01_trial-035.txt', 'data_sg_exp-01_trial-036.txt', 'data_sg_exp-01_trial-037.txt', 'data_sg_exp-01_trial-038.txt', 'data_sg_exp-01_trial-039.txt', 'data_sg_exp-01_trial-040.txt', 'data_sg_exp-01_trial-041.txt', 'data_sg_exp-01_trial-042.txt', 'data_sg_exp-01_trial-043.txt', 'data_sg_exp-01_trial-044.txt', 'data_sg_exp-01_trial-045.txt', 'data_sg_exp-01_trial-046.txt', 'data_sg_exp-01_trial-047.txt', 'data_sg_exp-01_trial-048.txt', 'data_sg_exp-01_trial-049.txt', 'data_sg_exp-01_trial-050.txt', 'data_sg_exp-02_trial-001.txt', 'data_sg_exp-02_trial-002.txt', 'data_sg_exp-02_trial-003.txt', 'data_sg_exp-02_trial-004.txt', 'data_sg_exp-02_trial-005.txt', 'data_sg_exp-02_trial-006.txt', 'data_sg_exp-02_trial-007.txt', 'data_sg_exp-02_trial-008.txt', 'data_sg_exp-02_trial-009.txt', 'data_sg_exp-02_trial-010.txt', 'data_sg_exp-02_trial-011.txt', 'data_sg_exp-02_trial-012.txt', 'data_sg_exp-02_trial-013.txt', 'data_sg_exp-02_trial-014.txt', 'data_sg_exp-02_trial-015.txt', 'data_sg_exp-02_trial-016.txt', 'data_sg_exp-02_trial-017.txt', 'data_sg_exp-02_trial-018.txt', 'data_sg_exp-02_trial-019.txt', 'data_sg_exp-02_trial-020.txt', 'data_sg_exp-02_trial-021.txt', 'data_sg_exp-02_trial-022.txt', 'data_sg_exp-02_trial-023.txt', 'data_sg_exp-02_trial-024.txt', 'data_sg_exp-02_trial-025.txt', 'data_sg_exp-02_trial-026.txt', 'data_sg_exp-02_trial-027.txt', 'data_sg_exp-02_trial-028.txt', 'data_sg_exp-02_trial-029.txt', 'data_sg_exp-02_trial-030.txt', 'data_sg_exp-02_trial-031.txt', 'data_sg_exp-02_trial-032.txt', 'data_sg_exp-02_trial-033.txt', 'data_sg_exp-02_trial-034.txt', 'data_sg_exp-02_trial-035.txt', 'data_sg_exp-02_trial-036.txt', 'data_sg_exp-02_trial-037.txt', 'data_sg_exp-02_trial-038.txt', 'data_sg_exp-02_trial-039.txt', 'data_sg_exp-02_trial-040.txt', 'data_sg_exp-02_trial-041.txt', 'data_sg_exp-02_trial-042.txt', 'data_sg_exp-02_trial-043.txt', 'data_sg_exp-02_trial-044.txt', 'data_sg_exp-02_trial-045.txt', 'data_sg_exp-02_trial-046.txt', 'data_sg_exp-02_trial-047.txt', 'data_sg_exp-02_trial-048.txt', 'data_sg_exp-02_trial-049.txt', 'data_sg_exp-02_trial-050.txt', 'data_sg_exp-03_trial-001.txt', 'data_sg_exp-03_trial-002.txt', 'data_sg_exp-03_trial-003.txt', 'data_sg_exp-03_trial-004.txt', 'data_sg_exp-03_trial-005.txt', 'data_sg_exp-03_trial-006.txt', 'data_sg_exp-03_trial-007.txt', 'data_sg_exp-03_trial-008.txt', 'data_sg_exp-03_trial-009.txt', 'data_sg_exp-03_trial-010.txt', 'data_sg_exp-03_trial-011.txt', 'data_sg_exp-03_trial-012.txt', 'data_sg_exp-03_trial-013.txt', 'data_sg_exp-03_trial-014.txt', 'data_sg_exp-03_trial-015.txt', 'data_sg_exp-03_trial-016.txt', 'data_sg_exp-03_trial-017.txt', 'data_sg_exp-03_trial-018.txt', 'data_sg_exp-03_trial-019.txt', 'data_sg_exp-03_trial-020.txt', 'data_sg_exp-03_trial-021.txt', 'data_sg_exp-03_trial-022.txt', 'data_sg_exp-03_trial-023.txt', 'data_sg_exp-03_trial-024.txt', 'data_sg_exp-03_trial-025.txt', 'data_sg_exp-03_trial-026.txt', 'data_sg_exp-03_trial-027.txt', 'data_sg_exp-03_trial-028.txt', 'data_sg_exp-03_trial-029.txt', 'data_sg_exp-03_trial-030.txt', 'data_sg_exp-03_trial-031.txt', 'data_sg_exp-03_trial-032.txt', 'data_sg_exp-03_trial-033.txt', 'data_sg_exp-03_trial-034.txt', 'data_sg_exp-03_trial-035.txt', 'data_sg_exp-03_trial-036.txt', 'data_sg_exp-03_trial-037.txt', 'data_sg_exp-03_trial-038.txt', 'data_sg_exp-03_trial-039.txt', 'data_sg_exp-03_trial-040.txt', 'data_sg_exp-03_trial-041.txt', 'data_sg_exp-03_trial-042.txt', 'data_sg_exp-03_trial-043.txt', 'data_sg_exp-03_trial-044.txt', 'data_sg_exp-03_trial-045.txt', 'data_sg_exp-03_trial-046.txt', 'data_sg_exp-03_trial-047.txt', 'data_sg_exp-03_trial-048.txt', 'data_sg_exp-03_trial-049.txt', 'data_sg_exp-03_trial-050.txt', 'data_gg_exp-01_trial-001.txt', 'data_gg_exp-01_trial-002.txt', 'data_gg_exp-01_trial-003.txt', 'data_gg_exp-01_trial-004.txt', 'data_gg_exp-01_trial-005.txt', 'data_gg_exp-01_trial-006.txt', 'data_gg_exp-01_trial-007.txt', 'data_gg_exp-01_trial-008.txt', 'data_gg_exp-01_trial-009.txt', 'data_gg_exp-01_trial-010.txt', 'data_gg_exp-01_trial-011.txt', 'data_gg_exp-01_trial-012.txt', 'data_gg_exp-01_trial-013.txt', 'data_gg_exp-01_trial-014.txt', 'data_gg_exp-01_trial-015.txt', 'data_gg_exp-01_trial-016.txt', 'data_gg_exp-01_trial-017.txt', 'data_gg_exp-01_trial-018.txt', 'data_gg_exp-01_trial-019.txt', 'data_gg_exp-01_trial-020.txt', 'data_gg_exp-01_trial-021.txt', 'data_gg_exp-01_trial-022.txt', 'data_gg_exp-01_trial-023.txt', 'data_gg_exp-01_trial-024.txt', 'data_gg_exp-01_trial-025.txt', 'data_gg_exp-01_trial-026.txt', 'data_gg_exp-01_trial-027.txt', 'data_gg_exp-01_trial-028.txt', 'data_gg_exp-01_trial-029.txt', 'data_gg_exp-01_trial-030.txt', 'data_gg_exp-01_trial-031.txt', 'data_gg_exp-01_trial-032.txt', 'data_gg_exp-01_trial-033.txt', 'data_gg_exp-01_trial-034.txt', 'data_gg_exp-01_trial-035.txt', 'data_gg_exp-01_trial-036.txt', 'data_gg_exp-01_trial-037.txt', 'data_gg_exp-01_trial-038.txt', 'data_gg_exp-01_trial-039.txt', 'data_gg_exp-01_trial-040.txt', 'data_gg_exp-01_trial-041.txt', 'data_gg_exp-01_trial-042.txt', 'data_gg_exp-01_trial-043.txt', 'data_gg_exp-01_trial-044.txt', 'data_gg_exp-01_trial-045.txt', 'data_gg_exp-01_trial-046.txt', 'data_gg_exp-01_trial-047.txt', 'data_gg_exp-01_trial-048.txt', 'data_gg_exp-01_trial-049.txt', 'data_gg_exp-01_trial-050.txt', 'data_gg_exp-02_trial-001.txt', 'data_gg_exp-02_trial-002.txt', 'data_gg_exp-02_trial-003.txt', 'data_gg_exp-02_trial-004.txt', 'data_gg_exp-02_trial-005.txt', 'data_gg_exp-02_trial-006.txt', 'data_gg_exp-02_trial-007.txt', 'data_gg_exp-02_trial-008.txt', 'data_gg_exp-02_trial-009.txt', 'data_gg_exp-02_trial-010.txt', 'data_gg_exp-02_trial-011.txt', 'data_gg_exp-02_trial-012.txt', 'data_gg_exp-02_trial-013.txt', 'data_gg_exp-02_trial-014.txt', 'data_gg_exp-02_trial-015.txt', 'data_gg_exp-02_trial-016.txt', 'data_gg_exp-02_trial-017.txt', 'data_gg_exp-02_trial-018.txt', 'data_gg_exp-02_trial-019.txt', 'data_gg_exp-02_trial-020.txt', 'data_gg_exp-02_trial-021.txt', 'data_gg_exp-02_trial-022.txt', 'data_gg_exp-02_trial-023.txt', 'data_gg_exp-02_trial-024.txt', 'data_gg_exp-02_trial-025.txt', 'data_gg_exp-02_trial-026.txt', 'data_gg_exp-02_trial-027.txt', 'data_gg_exp-02_trial-028.txt', 'data_gg_exp-02_trial-029.txt', 'data_gg_exp-02_trial-030.txt', 'data_gg_exp-02_trial-031.txt', 'data_gg_exp-02_trial-032.txt', 'data_gg_exp-02_trial-033.txt', 'data_gg_exp-02_trial-034.txt', 'data_gg_exp-02_trial-035.txt', 'data_gg_exp-02_trial-036.txt', 'data_gg_exp-02_trial-037.txt', 'data_gg_exp-02_trial-038.txt', 'data_gg_exp-02_trial-039.txt', 'data_gg_exp-02_trial-040.txt', 'data_gg_exp-02_trial-041.txt', 'data_gg_exp-02_trial-042.txt', 'data_gg_exp-02_trial-043.txt', 'data_gg_exp-02_trial-044.txt', 'data_gg_exp-02_trial-045.txt', 'data_gg_exp-02_trial-046.txt', 'data_gg_exp-02_trial-047.txt', 'data_gg_exp-02_trial-048.txt', 'data_gg_exp-02_trial-049.txt', 'data_gg_exp-02_trial-050.txt', 'data_gg_exp-03_trial-001.txt', 'data_gg_exp-03_trial-002.txt', 'data_gg_exp-03_trial-003.txt', 'data_gg_exp-03_trial-004.txt', 'data_gg_exp-03_trial-005.txt', 'data_gg_exp-03_trial-006.txt', 'data_gg_exp-03_trial-007.txt', 'data_gg_exp-03_trial-008.txt', 'data_gg_exp-03_trial-009.txt', 'data_gg_exp-03_trial-010.txt', 'data_gg_exp-03_trial-011.txt', 'data_gg_exp-03_trial-012.txt', 'data_gg_exp-03_trial-013.txt', 'data_gg_exp-03_trial-014.txt', 'data_gg_exp-03_trial-015.txt', 'data_gg_exp-03_trial-016.txt', 'data_gg_exp-03_trial-017.txt', 'data_gg_exp-03_trial-018.txt', 'data_gg_exp-03_trial-019.txt', 'data_gg_exp-03_trial-020.txt', 'data_gg_exp-03_trial-021.txt', 'data_gg_exp-03_trial-022.txt', 'data_gg_exp-03_trial-023.txt', 'data_gg_exp-03_trial-024.txt', 'data_gg_exp-03_trial-025.txt', 'data_gg_exp-03_trial-026.txt', 'data_gg_exp-03_trial-027.txt', 'data_gg_exp-03_trial-028.txt', 'data_gg_exp-03_trial-029.txt', 'data_gg_exp-03_trial-030.txt', 'data_gg_exp-03_trial-031.txt', 'data_gg_exp-03_trial-032.txt', 'data_gg_exp-03_trial-033.txt', 'data_gg_exp-03_trial-034.txt', 'data_gg_exp-03_trial-035.txt', 'data_gg_exp-03_trial-036.txt', 'data_gg_exp-03_trial-037.txt', 'data_gg_exp-03_trial-038.txt', 'data_gg_exp-03_trial-039.txt', 'data_gg_exp-03_trial-040.txt', 'data_gg_exp-03_trial-041.txt', 'data_gg_exp-03_trial-042.txt', 'data_gg_exp-03_trial-043.txt', 'data_gg_exp-03_trial-044.txt', 'data_gg_exp-03_trial-045.txt', 'data_gg_exp-03_trial-046.txt', 'data_gg_exp-03_trial-047.txt', 'data_gg_exp-03_trial-048.txt', 'data_gg_exp-03_trial-049.txt', 'data_gg_exp-03_trial-050.txt', 'data_us_exp-01_trial-001.txt', 'data_us_exp-01_trial-002.txt', 'data_us_exp-01_trial-003.txt', 'data_us_exp-01_trial-004.txt', 'data_us_exp-01_trial-005.txt', 'data_us_exp-01_trial-006.txt', 'data_us_exp-01_trial-007.txt', 'data_us_exp-01_trial-008.txt', 'data_us_exp-01_trial-009.txt', 'data_us_exp-01_trial-010.txt', 'data_us_exp-01_trial-011.txt', 'data_us_exp-01_trial-012.txt', 'data_us_exp-01_trial-013.txt', 'data_us_exp-01_trial-014.txt', 'data_us_exp-01_trial-015.txt', 'data_us_exp-01_trial-016.txt', 'data_us_exp-01_trial-017.txt', 'data_us_exp-01_trial-018.txt', 'data_us_exp-01_trial-019.txt', 'data_us_exp-01_trial-020.txt', 'data_us_exp-01_trial-021.txt', 'data_us_exp-01_trial-022.txt', 'data_us_exp-01_trial-023.txt', 'data_us_exp-01_trial-024.txt', 'data_us_exp-01_trial-025.txt', 'data_us_exp-01_trial-026.txt', 'data_us_exp-01_trial-027.txt', 'data_us_exp-01_trial-028.txt', 'data_us_exp-01_trial-029.txt', 'data_us_exp-01_trial-030.txt', 'data_us_exp-01_trial-031.txt', 'data_us_exp-01_trial-032.txt', 'data_us_exp-01_trial-033.txt', 'data_us_exp-01_trial-034.txt', 'data_us_exp-01_trial-035.txt', 'data_us_exp-01_trial-036.txt', 'data_us_exp-01_trial-037.txt', 'data_us_exp-01_trial-038.txt', 'data_us_exp-01_trial-039.txt', 'data_us_exp-01_trial-040.txt', 'data_us_exp-01_trial-041.txt', 'data_us_exp-01_trial-042.txt', 'data_us_exp-01_trial-043.txt', 'data_us_exp-01_trial-044.txt', 'data_us_exp-01_trial-045.txt', 'data_us_exp-01_trial-046.txt', 'data_us_exp-01_trial-047.txt', 'data_us_exp-01_trial-048.txt', 'data_us_exp-01_trial-049.txt', 'data_us_exp-01_trial-050.txt', 'data_us_exp-02_trial-001.txt', 'data_us_exp-02_trial-002.txt', 'data_us_exp-02_trial-003.txt', 'data_us_exp-02_trial-004.txt', 'data_us_exp-02_trial-005.txt', 'data_us_exp-02_trial-006.txt', 'data_us_exp-02_trial-007.txt', 'data_us_exp-02_trial-008.txt', 'data_us_exp-02_trial-009.txt', 'data_us_exp-02_trial-010.txt', 'data_us_exp-02_trial-011.txt', 'data_us_exp-02_trial-012.txt', 'data_us_exp-02_trial-013.txt', 'data_us_exp-02_trial-014.txt', 'data_us_exp-02_trial-015.txt', 'data_us_exp-02_trial-016.txt', 'data_us_exp-02_trial-017.txt', 'data_us_exp-02_trial-018.txt', 'data_us_exp-02_trial-019.txt', 'data_us_exp-02_trial-020.txt', 'data_us_exp-02_trial-021.txt', 'data_us_exp-02_trial-022.txt', 'data_us_exp-02_trial-023.txt', 'data_us_exp-02_trial-024.txt', 'data_us_exp-02_trial-025.txt', 'data_us_exp-02_trial-026.txt', 'data_us_exp-02_trial-027.txt', 'data_us_exp-02_trial-028.txt', 'data_us_exp-02_trial-029.txt', 'data_us_exp-02_trial-030.txt', 'data_us_exp-02_trial-031.txt', 'data_us_exp-02_trial-032.txt', 'data_us_exp-02_trial-033.txt', 'data_us_exp-02_trial-034.txt', 'data_us_exp-02_trial-035.txt', 'data_us_exp-02_trial-036.txt', 'data_us_exp-02_trial-037.txt', 'data_us_exp-02_trial-038.txt', 'data_us_exp-02_trial-039.txt', 'data_us_exp-02_trial-040.txt', 'data_us_exp-02_trial-041.txt', 'data_us_exp-02_trial-042.txt', 'data_us_exp-02_trial-043.txt', 'data_us_exp-02_trial-044.txt', 'data_us_exp-02_trial-045.txt', 'data_us_exp-02_trial-046.txt', 'data_us_exp-02_trial-047.txt', 'data_us_exp-02_trial-048.txt', 'data_us_exp-02_trial-049.txt', 'data_us_exp-02_trial-050.txt', 'data_us_exp-03_trial-001.txt', 'data_us_exp-03_trial-002.txt', 'data_us_exp-03_trial-003.txt', 'data_us_exp-03_trial-004.txt', 'data_us_exp-03_trial-005.txt', 'data_us_exp-03_trial-006.txt', 'data_us_exp-03_trial-007.txt', 'data_us_exp-03_trial-008.txt', 'data_us_exp-03_trial-009.txt', 'data_us_exp-03_trial-010.txt', 'data_us_exp-03_trial-011.txt', 'data_us_exp-03_trial-012.txt', 'data_us_exp-03_trial-013.txt', 'data_us_exp-03_trial-014.txt', 'data_us_exp-03_trial-015.txt', 'data_us_exp-03_trial-016.txt', 'data_us_exp-03_trial-017.txt', 'data_us_exp-03_trial-018.txt', 'data_us_exp-03_trial-019.txt', 'data_us_exp-03_trial-020.txt', 'data_us_exp-03_trial-021.txt', 'data_us_exp-03_trial-022.txt', 'data_us_exp-03_trial-023.txt', 'data_us_exp-03_trial-024.txt', 'data_us_exp-03_trial-025.txt', 'data_us_exp-03_trial-026.txt', 'data_us_exp-03_trial-027.txt', 'data_us_exp-03_trial-028.txt', 'data_us_exp-03_trial-029.txt', 'data_us_exp-03_trial-030.txt', 'data_us_exp-03_trial-031.txt', 'data_us_exp-03_trial-032.txt', 'data_us_exp-03_trial-033.txt', 'data_us_exp-03_trial-034.txt', 'data_us_exp-03_trial-035.txt', 'data_us_exp-03_trial-036.txt', 'data_us_exp-03_trial-037.txt', 'data_us_exp-03_trial-038.txt', 'data_us_exp-03_trial-039.txt', 'data_us_exp-03_trial-040.txt', 'data_us_exp-03_trial-041.txt', 'data_us_exp-03_trial-042.txt', 'data_us_exp-03_trial-043.txt', 'data_us_exp-03_trial-044.txt', 'data_us_exp-03_trial-045.txt', 'data_us_exp-03_trial-046.txt', 'data_us_exp-03_trial-047.txt', 'data_us_exp-03_trial-048.txt', 'data_us_exp-03_trial-049.txt', 'data_us_exp-03_trial-050.txt']\n"
     ]
    }
   ],
   "source": [
    "#5.\n",
    "ghh = [\"data_sg_exp\",\"data_gg_exp\",\"data_us_exp\"]\n",
    "why = []\n",
    "        \n",
    "for i in range(3):\n",
    "    for k in range(1,4):\n",
    "        for j in range(1,51):\n",
    "            why.append(f\"{ghh[i]}-{k:02}_trial-{j:03}.txt\")\n",
    "        \n",
    "print(why)"
   ]
  },
  {
   "cell_type": "markdown",
   "id": "dbd5d55a",
   "metadata": {},
   "source": [
    "## Exercise 2 :  Tutti frutti\n",
    "```\n",
    "fruits = [\"apple\", \"banana\", \"pineapple\", \"jackfruit\",\n",
    "        \"peach\", \"durian\", \"watermelon\", \"mango\",\n",
    "        \"strawberry\", \"passionfruit\"]\n",
    "```\n",
    "\n",
    "Are mango included in the list?\n",
    "\n",
    "Use a `for` loop to print only the starting and ending letters of each of the fruits in the above list.\n",
    "\n",
    "    Hint: See what you get with `abc[-1]`\n",
    "\n",
    "Use a `for` loop to print the names of the fruits in lowercase except for those that start with the letter ‘p’; these you should print in UPPERCASE.\n",
    "\n",
    "We want to include the following fruits in the list.\n",
    "\n",
    "```\n",
    "[\"dragon fruit\", \"apricots\", \"oranges\"]\n",
    "```\n",
    "\n",
    "    How will you append them?\n",
    "    How will you prepend them?\n",
    "    How will you insert them in the middle (i.e. after half the length)\n",
    "\n",
    "Use list comprehension to extract only those fruits whose names are longer than eight characters."
   ]
  },
  {
   "cell_type": "code",
   "execution_count": 2,
   "id": "f4c3b309",
   "metadata": {},
   "outputs": [
    {
     "name": "stdout",
     "output_type": "stream",
     "text": [
      "mango is in the list\n"
     ]
    }
   ],
   "source": [
    "#ID whether mango is in ths list\n",
    "\n",
    "fruits = [\"apple\", \"banana\", \"pineapple\", \"jackfruit\",\n",
    "        \"peach\", \"durian\", \"watermelon\", \"mango\",\n",
    "        \"strawberry\", \"passionfruit\"]\n",
    "\n",
    "def fruits_in(fruit):\n",
    "    if fruit in fruits:\n",
    "        return f\"{fruit} is in the list\"\n",
    "    else:\n",
    "        return f\"{fruit} is not in the list\"\n",
    "\n",
    "print(fruits_in(\"mango\"))"
   ]
  },
  {
   "cell_type": "code",
   "execution_count": 5,
   "id": "919b0aba",
   "metadata": {
    "scrolled": false
   },
   "outputs": [
    {
     "name": "stdout",
     "output_type": "stream",
     "text": [
      "the first and last letter of apple are a and e respectively.\n",
      "the first and last letter of banana are b and a respectively.\n",
      "the first and last letter of pineapple are p and e respectively.\n",
      "the first and last letter of jackfruit are j and t respectively.\n",
      "the first and last letter of peach are p and h respectively.\n",
      "the first and last letter of durian are d and n respectively.\n",
      "the first and last letter of watermelon are w and n respectively.\n",
      "the first and last letter of mango are m and o respectively.\n",
      "the first and last letter of strawberry are s and y respectively.\n",
      "the first and last letter of passionfruit are p and t respectively.\n"
     ]
    }
   ],
   "source": [
    "fruits = [\"apple\", \"banana\", \"pineapple\", \"jackfruit\",\n",
    "        \"peach\", \"durian\", \"watermelon\", \"mango\",\n",
    "        \"strawberry\", \"passionfruit\"]\n",
    "\n",
    "for i in range(len(fruits)):\n",
    "    print(f\"the first and last letter of {fruits[i]} are {fruits[i][0]} and {fruits[i][-1]} respectively.\")"
   ]
  },
  {
   "cell_type": "code",
   "execution_count": 11,
   "id": "2ce5d8cc",
   "metadata": {
    "scrolled": true
   },
   "outputs": [
    {
     "name": "stdout",
     "output_type": "stream",
     "text": [
      "apple\n",
      "banana\n",
      "PINEAPPLE\n",
      "jackfruit\n",
      "PEACH\n",
      "durian\n",
      "watermelon\n",
      "mango\n",
      "strawberry\n",
      "PASSIONFRUIT\n"
     ]
    }
   ],
   "source": [
    "fruits = [\"apple\", \"banana\", \"pineapple\", \"jackfruit\",\n",
    "        \"peach\", \"durian\", \"watermelon\", \"mango\",\n",
    "        \"strawberry\", \"passionfruit\"]\n",
    "\n",
    "for i in range(len(fruits)):\n",
    "    if fruits[i][0] != \"p\":\n",
    "        print(fruits[i])\n",
    "    else:\n",
    "        print(fruits[i].upper())"
   ]
  },
  {
   "cell_type": "code",
   "execution_count": 2,
   "id": "ad423771",
   "metadata": {
    "scrolled": true
   },
   "outputs": [
    {
     "name": "stdout",
     "output_type": "stream",
     "text": [
      "apple\n",
      "banana\n",
      "PINEAPPLE\n",
      "jackfruit\n",
      "PEACH\n",
      "durian\n",
      "watermelon\n",
      "mango\n",
      "strawberry\n",
      "PASSIONFRUIT\n"
     ]
    }
   ],
   "source": [
    "fruits = [\"apple\", \"banana\", \"pineapple\", \"jackfruit\",\n",
    "        \"peach\", \"durian\", \"watermelon\", \"mango\",\n",
    "        \"strawberry\", \"passionfruit\"]\n",
    "\n",
    "for i in fruits:\n",
    "    if i[0] != \"p\":\n",
    "        print(i)\n",
    "    else:\n",
    "        print(i.upper())"
   ]
  },
  {
   "cell_type": "code",
   "execution_count": 6,
   "id": "3ec10eaa",
   "metadata": {},
   "outputs": [
    {
     "name": "stdout",
     "output_type": "stream",
     "text": [
      "['apple', 'banana', 'pineapple', 'jackfruit', 'peach', 'durian', 'watermelon', 'mango', 'strawberry', 'passionfruit', 'dragon fruit', 'apricots', 'oranges']\n"
     ]
    }
   ],
   "source": [
    "fruits = [\"apple\", \"banana\", \"pineapple\", \"jackfruit\",\n",
    "        \"peach\", \"durian\", \"watermelon\", \"mango\",\n",
    "        \"strawberry\", \"passionfruit\"]\n",
    "newfruits = [\"dragon fruit\", \"apricots\", \"oranges\"]\n",
    "\n",
    "#append\n",
    "\n",
    "fruits += newfruits\n",
    "\n",
    "print(fruits)"
   ]
  },
  {
   "cell_type": "code",
   "execution_count": 1,
   "id": "09082999",
   "metadata": {},
   "outputs": [
    {
     "name": "stdout",
     "output_type": "stream",
     "text": [
      "['apple', 'banana', 'pineapple', 'jackfruit', 'peach', 'durian', 'watermelon', 'mango', 'strawberry', 'passionfruit', 'dragon fruit', 'apricots', 'oranges']\n"
     ]
    }
   ],
   "source": [
    "#or using append function\n",
    "\n",
    "fruits = [\"apple\", \"banana\", \"pineapple\", \"jackfruit\",\n",
    "        \"peach\", \"durian\", \"watermelon\", \"mango\",\n",
    "        \"strawberry\", \"passionfruit\"]\n",
    "newfruits = [\"dragon fruit\", \"apricots\", \"oranges\"]\n",
    "\n",
    "#append\n",
    "\n",
    "for i in newfruits:\n",
    "    fruits.append(i)\n",
    "\n",
    "print(fruits)"
   ]
  },
  {
   "cell_type": "code",
   "execution_count": 3,
   "id": "26dc8292",
   "metadata": {},
   "outputs": [
    {
     "name": "stdout",
     "output_type": "stream",
     "text": [
      "['apple', 'banana', 'pineapple', 'jackfruit', 'peach', 'durian', 'watermelon', 'mango', 'strawberry', 'passionfruit', 'dragon fruit', 'apricots', 'oranges']\n"
     ]
    }
   ],
   "source": [
    "#or using append function\n",
    "\n",
    "fruits = [\"apple\", \"banana\", \"pineapple\", \"jackfruit\",\n",
    "        \"peach\", \"durian\", \"watermelon\", \"mango\",\n",
    "        \"strawberry\", \"passionfruit\"]\n",
    "newfruits = [\"dragon fruit\", \"apricots\", \"oranges\"]\n",
    "\n",
    "#append\n",
    "\n",
    "for i in newfruits:\n",
    "    fruits.append(i)\n",
    "\n",
    "print(fruits)"
   ]
  },
  {
   "cell_type": "code",
   "execution_count": 14,
   "id": "21aadb90",
   "metadata": {},
   "outputs": [
    {
     "name": "stdout",
     "output_type": "stream",
     "text": [
      "['dragon fruit', 'apricots', 'oranges', 'apple', 'banana', 'pineapple', 'jackfruit', 'peach', 'durian', 'watermelon', 'mango', 'strawberry', 'passionfruit']\n"
     ]
    }
   ],
   "source": [
    "#prepend\n",
    "\n",
    "fruits = [\"apple\", \"banana\", \"pineapple\", \"jackfruit\",\n",
    "        \"peach\", \"durian\", \"watermelon\", \"mango\",\n",
    "        \"strawberry\", \"passionfruit\"]\n",
    "newfruits = [\"dragon fruit\", \"apricots\", \"oranges\"]\n",
    "\n",
    "#append\n",
    "\n",
    "fruits = newfruits + fruits\n",
    "\n",
    "print(fruits)"
   ]
  },
  {
   "cell_type": "code",
   "execution_count": 9,
   "id": "2af4e774",
   "metadata": {},
   "outputs": [
    {
     "name": "stdout",
     "output_type": "stream",
     "text": [
      "['apple', 'banana', 'pineapple', 'jackfruit', 'peach', 'dragon fruit', 'apricots', 'oranges', 'durian', 'watermelon', 'mango', 'strawberry', 'passionfruit']\n"
     ]
    }
   ],
   "source": [
    "#using insert\n",
    "\n",
    "fruits = [\"apple\", \"banana\", \"pineapple\", \"jackfruit\",\n",
    "        \"peach\", \"durian\", \"watermelon\", \"mango\",\n",
    "        \"strawberry\", \"passionfruit\"]\n",
    "newfruits = [\"dragon fruit\", \"apricots\", \"oranges\"]\n",
    "\n",
    "fruits = fruits[0:len(fruits)//2] + newfruits + fruits[len(fruits)//2:len(fruits)]\n",
    "print(fruits)"
   ]
  },
  {
   "cell_type": "code",
   "execution_count": 10,
   "id": "3c8dca87",
   "metadata": {},
   "outputs": [
    {
     "name": "stdout",
     "output_type": "stream",
     "text": [
      "These fruits have names longer than 8 characters: ['dragon fruit', 'apricots', 'pineapple', 'jackfruit', 'watermelon', 'strawberry', 'passionfruit']\n"
     ]
    }
   ],
   "source": [
    "fruits = [\"apple\", \"banana\", \"pineapple\", \"jackfruit\",\n",
    "        \"peach\", \"durian\", \"watermelon\", \"mango\",\n",
    "        \"strawberry\", \"passionfruit\"]\n",
    "newfruits = [\"dragon fruit\", \"apricots\", \"oranges\"]\n",
    "\n",
    "#append\n",
    "\n",
    "fruits = newfruits + fruits\n",
    "longer8 = []\n",
    "\n",
    "for i in range(len(fruits)):\n",
    "    if len(fruits[i]) >= 8:\n",
    "        longer8.append(fruits[i])\n",
    "\n",
    "print(f\"These fruits have names longer than 8 characters: {longer8}\")"
   ]
  },
  {
   "cell_type": "markdown",
   "id": "3ede1c35",
   "metadata": {},
   "source": [
    "## Exercise 3 :  Ciao Fibonacci"
   ]
  },
  {
   "cell_type": "code",
   "execution_count": 14,
   "id": "03ac7980",
   "metadata": {
    "scrolled": false
   },
   "outputs": [
    {
     "name": "stdout",
     "output_type": "stream",
     "text": [
      "[0, 1, 1, 2, 3, 5, 8, 13, 21, 34, 55, 89, 144, 233, 377]\n"
     ]
    }
   ],
   "source": [
    "fibonacci = [0,1]\n",
    "\n",
    "for i in range(13):\n",
    "    fibonacci.append(fibonacci[-1]+fibonacci[-2])\n",
    "print(fibonacci)"
   ]
  },
  {
   "cell_type": "markdown",
   "id": "19ffbe41",
   "metadata": {},
   "source": [
    "## Exercise 4 :  A function for Fibonacci"
   ]
  },
  {
   "cell_type": "code",
   "execution_count": 14,
   "id": "7f553ae3",
   "metadata": {
    "scrolled": true
   },
   "outputs": [
    {
     "name": "stdout",
     "output_type": "stream",
     "text": [
      "Fuck you 0 and negatives aren't positions\n",
      "This isn't even a fucking number wtf\n",
      "[0, 1, 1, 2, 3]\n"
     ]
    }
   ],
   "source": [
    "def fibonacci(n):\n",
    "    ehe = [0,1]\n",
    "    if type(n) != int:\n",
    "        return f\"This isn't even a fucking number wtf\"\n",
    "    if n <= 0:\n",
    "        return f\"Fuck you 0 and negatives aren't positions\"\n",
    "    for i in range(n+1):\n",
    "        ehe.append(ehe[-1]+ehe[-2])\n",
    "    return ehe[0:n]\n",
    "\n",
    "print(fibonacci(-1))\n",
    "print(fibonacci(\"a\"))\n",
    "print(fibonacci(5))"
   ]
  },
  {
   "cell_type": "markdown",
   "id": "a1d98ed1",
   "metadata": {},
   "source": [
    "## Exercise 5 :  max_info() without NumPy\n",
    "\n",
    "Accepts a list and returns the max value and position/index. Don't use NumPy, don't use max()"
   ]
  },
  {
   "cell_type": "code",
   "execution_count": 5,
   "id": "eb1da45c",
   "metadata": {
    "scrolled": true
   },
   "outputs": [
    {
     "name": "stdout",
     "output_type": "stream",
     "text": [
      "[83, 2]\n"
     ]
    }
   ],
   "source": [
    "numbers = [40, 27, 83, 44, 74, 51, 76, 77, 10, 49]\n",
    "\n",
    "def max_info(numbers):\n",
    "    my_max = 0\n",
    "    for i in range(len(numbers)):\n",
    "        if numbers[i] > my_max:\n",
    "            my_max = numbers[i]\n",
    "            my_max_index = i\n",
    "            info = [my_max, my_max_index]\n",
    "    return info\n",
    "\n",
    "print(max_info(numbers))\n",
    "\n",
    "#indentation issue"
   ]
  },
  {
   "cell_type": "markdown",
   "id": "6d1f881e",
   "metadata": {},
   "source": [
    "## Exercise 6 :  Take count"
   ]
  },
  {
   "cell_type": "code",
   "execution_count": 7,
   "id": "71211f8b",
   "metadata": {},
   "outputs": [
    {
     "name": "stdout",
     "output_type": "stream",
     "text": [
      "254\n"
     ]
    }
   ],
   "source": [
    "DNA = \"AGGCAAGAAGCTAGAATTCTGGCCTGAGTATCTCAGTACAGGCGCAGTCGAATCTTCCGGAATCACATTGCTCGCGCTTAAACCCGCTCTAAACCTTTGAGTAATTCGACGACATTGGGTTCCCTCCGACGCTGTCTGACAACTCTTTAAGATCCTTGGCACGATGTCGATAGACATTGTCCCTGATGACGCCTCACAAGGTAACCTGGCTCTAGTAGGGTGGTCTTTGCTGCGGAACTTACCACCTGGTGGATCCAAGCACCAGAGGAGTTCGAAGAGGCTGGGGTACCCCCTATTTAGGAAGGGCGAGACTACGGTCACAAATTCCAAATGGCTTCCCTCGATTCATGACGCCAGAATGCCTGGCTGTGCCAATTTGTCGCCTTGCGTCGTTCTGTCAATCTTTACTCGTGTCGTGTTGTGATAAATGACAAACCCTGCACAACGTAGGGCTCACACAAGGGAATCTAGAGTATCCGATACAGGGAGCTTTAGCTTCCGTCCCTTATAGCCTGCCATATTCTTGCGGTAGCACGAGCCTCAGATCTTCTCACTCCGGAAATGGGAGCTTCGACGGTCAAGGGCTAAGACGTCTTCGGGAGAAATACCTAGGCGATGACCCTGAGTGGTTTTCCGCGTATAACTCATCCTGGTTGCAAATGATTACCGTTATAGCCTGGGGATATGCCTCAATTCCGAACCCAGGAGCATCACTCGAGCAATAGCGGTAAAGGAGGCTATTAGCAAAATTGTCACGATAAGCGCCGTTGTAGTGAAATTAAGATACATACATCGTTTAGCACATCACTCTCACGGCGTCTAGAAGCTGATCTTCATATGCTGACTCAGAAGGCTCGGATAATAGAGGACGAAGGTAGTTTACTCATCGCTGCCCCGACTATTACGTGTGCATGATAAAGTCTGACCCTGACGTTCCCAAGCCGAGGCAGAGGGGTTTTACGCTGAATGTCCGCTCTCTGTCGGATGATTTCGGAAGCTG\"\n",
    "DNA1 = [*DNA]\n",
    "\n",
    "elemT = 0\n",
    "for i in range(len(DNA1)):\n",
    "    if DNA1[i] == \"T\":\n",
    "        elemT += 1\n",
    "print(elemT)"
   ]
  },
  {
   "cell_type": "code",
   "execution_count": 16,
   "id": "c0b9fc7b",
   "metadata": {},
   "outputs": [
    {
     "name": "stdout",
     "output_type": "stream",
     "text": [
      "It fuckin works I think?\n"
     ]
    }
   ],
   "source": [
    "DNA = \"AGGCAAGAAGCTAGAATTCTGGCCTGAGTATCTCAGTACAGGCGCAGTCGAATCTTCCGGAATCACATTGCTCGCGCTTAAACCCGCTCTAAACCTTTGAGTAATTCGACGACATTGGGTTCCCTCCGACGCTGTCTGACAACTCTTTAAGATCCTTGGCACGATGTCGATAGACATTGTCCCTGATGACGCCTCACAAGGTAACCTGGCTCTAGTAGGGTGGTCTTTGCTGCGGAACTTACCACCTGGTGGATCCAAGCACCAGAGGAGTTCGAAGAGGCTGGGGTACCCCCTATTTAGGAAGGGCGAGACTACGGTCACAAATTCCAAATGGCTTCCCTCGATTCATGACGCCAGAATGCCTGGCTGTGCCAATTTGTCGCCTTGCGTCGTTCTGTCAATCTTTACTCGTGTCGTGTTGTGATAAATGACAAACCCTGCACAACGTAGGGCTCACACAAGGGAATCTAGAGTATCCGATACAGGGAGCTTTAGCTTCCGTCCCTTATAGCCTGCCATATTCTTGCGGTAGCACGAGCCTCAGATCTTCTCACTCCGGAAATGGGAGCTTCGACGGTCAAGGGCTAAGACGTCTTCGGGAGAAATACCTAGGCGATGACCCTGAGTGGTTTTCCGCGTATAACTCATCCTGGTTGCAAATGATTACCGTTATAGCCTGGGGATATGCCTCAATTCCGAACCCAGGAGCATCACTCGAGCAATAGCGGTAAAGGAGGCTATTAGCAAAATTGTCACGATAAGCGCCGTTGTAGTGAAATTAAGATACATACATCGTTTAGCACATCACTCTCACGGCGTCTAGAAGCTGATCTTCATATGCTGACTCAGAAGGCTCGGATAATAGAGGACGAAGGTAGTTTACTCATCGCTGCCCCGACTATTACGTGTGCATGATAAAGTCTGACCCTGACGTTCCCAAGCCGAGGCAGAGGGGTTTTACGCTGAATGTCCGCTCTCTGTCGGATGATTTCGGAAGCTG\"\n",
    "DNA1 = [*DNA]\n",
    "\n",
    "elem = {\"A\": 0, \"T\": 0, \"C\": 0, \"G\": 0}\n",
    "\n",
    "for i in DNA1:\n",
    "    if i == \"A\":\n",
    "        elem[\"A\"] += 1\n",
    "    elif i == \"T\":\n",
    "        elem[\"T\"] += 1\n",
    "    elif i == \"G\":\n",
    "        elem[\"G\"] += 1\n",
    "    else:\n",
    "        elem[\"C\"] += 1\n",
    "\n",
    "if elem[\"C\"]+elem[\"T\"]+elem[\"A\"]+elem[\"G\"] == len(DNA1):\n",
    "    print(\"It fuckin works I think?\")"
   ]
  },
  {
   "cell_type": "code",
   "execution_count": 17,
   "id": "4413237c",
   "metadata": {},
   "outputs": [],
   "source": [
    "#nice"
   ]
  },
  {
   "cell_type": "code",
   "execution_count": 48,
   "id": "25bfcda3",
   "metadata": {},
   "outputs": [
    {
     "data": {
      "text/plain": [
       "(array(['A', 'C', 'G', 'T'], dtype='<U1'),\n",
       " array([247, 250, 249, 254], dtype=int64))"
      ]
     },
     "execution_count": 48,
     "metadata": {},
     "output_type": "execute_result"
    }
   ],
   "source": [
    "import numpy as np\n",
    "\n",
    "DNA = \"AGGCAAGAAGCTAGAATTCTGGCCTGAGTATCTCAGTACAGGCGCAGTCGAATCTTCCGGAATCACATTGCTCGCGCTTAAACCCGCTCTAAACCTTTGAGTAATTCGACGACATTGGGTTCCCTCCGACGCTGTCTGACAACTCTTTAAGATCCTTGGCACGATGTCGATAGACATTGTCCCTGATGACGCCTCACAAGGTAACCTGGCTCTAGTAGGGTGGTCTTTGCTGCGGAACTTACCACCTGGTGGATCCAAGCACCAGAGGAGTTCGAAGAGGCTGGGGTACCCCCTATTTAGGAAGGGCGAGACTACGGTCACAAATTCCAAATGGCTTCCCTCGATTCATGACGCCAGAATGCCTGGCTGTGCCAATTTGTCGCCTTGCGTCGTTCTGTCAATCTTTACTCGTGTCGTGTTGTGATAAATGACAAACCCTGCACAACGTAGGGCTCACACAAGGGAATCTAGAGTATCCGATACAGGGAGCTTTAGCTTCCGTCCCTTATAGCCTGCCATATTCTTGCGGTAGCACGAGCCTCAGATCTTCTCACTCCGGAAATGGGAGCTTCGACGGTCAAGGGCTAAGACGTCTTCGGGAGAAATACCTAGGCGATGACCCTGAGTGGTTTTCCGCGTATAACTCATCCTGGTTGCAAATGATTACCGTTATAGCCTGGGGATATGCCTCAATTCCGAACCCAGGAGCATCACTCGAGCAATAGCGGTAAAGGAGGCTATTAGCAAAATTGTCACGATAAGCGCCGTTGTAGTGAAATTAAGATACATACATCGTTTAGCACATCACTCTCACGGCGTCTAGAAGCTGATCTTCATATGCTGACTCAGAAGGCTCGGATAATAGAGGACGAAGGTAGTTTACTCATCGCTGCCCCGACTATTACGTGTGCATGATAAAGTCTGACCCTGACGTTCCCAAGCCGAGGCAGAGGGGTTTTACGCTGAATGTCCGCTCTCTGTCGGATGATTTCGGAAGCTG\"\n",
    "DNA1 = [*DNA]\n",
    "\n",
    "np.unique(DNA1, return_counts=True)"
   ]
  },
  {
   "cell_type": "code",
   "execution_count": 22,
   "id": "97b20612",
   "metadata": {},
   "outputs": [
    {
     "name": "stdout",
     "output_type": "stream",
     "text": [
      "['AGGC', 'GGCA', 'GCAA', 'CAAG', 'AAGA', 'AGAA', 'GAAG', 'AAGC', 'AGCT', 'GCTA', 'CTAG', 'TAGA', 'AGAA', 'GAAT', 'AATT', 'ATTC', 'TTCT', 'TCTG', 'CTGG', 'TGGC', 'GGCC', 'GCCT', 'CCTG', 'CTGA', 'TGAG', 'GAGT', 'AGTA', 'GTAT', 'TATC', 'ATCT', 'TCTC', 'CTCA', 'TCAG', 'CAGT', 'AGTA', 'GTAC', 'TACA', 'ACAG', 'CAGG', 'AGGC', 'GGCG', 'GCGC', 'CGCA', 'GCAG', 'CAGT', 'AGTC', 'GTCG', 'TCGA', 'CGAA', 'GAAT', 'AATC', 'ATCT', 'TCTT', 'CTTC', 'TTCC', 'TCCG', 'CCGG', 'CGGA', 'GGAA', 'GAAT', 'AATC', 'ATCA', 'TCAC', 'CACA', 'ACAT', 'CATT', 'ATTG', 'TTGC', 'TGCT', 'GCTC', 'CTCG', 'TCGC', 'CGCG', 'GCGC', 'CGCT', 'GCTT', 'CTTA', 'TTAA', 'TAAA', 'AAAC', 'AACC', 'ACCC', 'CCCG', 'CCGC', 'CGCT', 'GCTC', 'CTCT', 'TCTA', 'CTAA', 'TAAA', 'AAAC', 'AACC', 'ACCT', 'CCTT', 'CTTT', 'TTTG', 'TTGA', 'TGAG', 'GAGT', 'AGTA', 'GTAA', 'TAAT', 'AATT', 'ATTC', 'TTCG', 'TCGA', 'CGAC', 'GACG', 'ACGA', 'CGAC', 'GACA', 'ACAT', 'CATT', 'ATTG', 'TTGG', 'TGGG', 'GGGT', 'GGTT', 'GTTC', 'TTCC', 'TCCC', 'CCCT', 'CCTC', 'CTCC', 'TCCG', 'CCGA', 'CGAC', 'GACG', 'ACGC', 'CGCT', 'GCTG', 'CTGT', 'TGTC', 'GTCT', 'TCTG', 'CTGA', 'TGAC', 'GACA', 'ACAA', 'CAAC', 'AACT', 'ACTC', 'CTCT', 'TCTT', 'CTTT', 'TTTA', 'TTAA', 'TAAG', 'AAGA', 'AGAT', 'GATC', 'ATCC', 'TCCT', 'CCTT', 'CTTG', 'TTGG', 'TGGC', 'GGCA', 'GCAC', 'CACG', 'ACGA', 'CGAT', 'GATG', 'ATGT', 'TGTC', 'GTCG', 'TCGA', 'CGAT', 'GATA', 'ATAG', 'TAGA', 'AGAC', 'GACA', 'ACAT', 'CATT', 'ATTG', 'TTGT', 'TGTC', 'GTCC', 'TCCC', 'CCCT', 'CCTG', 'CTGA', 'TGAT', 'GATG', 'ATGA', 'TGAC', 'GACG', 'ACGC', 'CGCC', 'GCCT', 'CCTC', 'CTCA', 'TCAC', 'CACA', 'ACAA', 'CAAG', 'AAGG', 'AGGT', 'GGTA', 'GTAA', 'TAAC', 'AACC', 'ACCT', 'CCTG', 'CTGG', 'TGGC', 'GGCT', 'GCTC', 'CTCT', 'TCTA', 'CTAG', 'TAGT', 'AGTA', 'GTAG', 'TAGG', 'AGGG', 'GGGT', 'GGTG', 'GTGG', 'TGGT', 'GGTC', 'GTCT', 'TCTT', 'CTTT', 'TTTG', 'TTGC', 'TGCT', 'GCTG', 'CTGC', 'TGCG', 'GCGG', 'CGGA', 'GGAA', 'GAAC', 'AACT', 'ACTT', 'CTTA', 'TTAC', 'TACC', 'ACCA', 'CCAC', 'CACC', 'ACCT', 'CCTG', 'CTGG', 'TGGT', 'GGTG', 'GTGG', 'TGGA', 'GGAT', 'GATC', 'ATCC', 'TCCA', 'CCAA', 'CAAG', 'AAGC', 'AGCA', 'GCAC', 'CACC', 'ACCA', 'CCAG', 'CAGA', 'AGAG', 'GAGG', 'AGGA', 'GGAG', 'GAGT', 'AGTT', 'GTTC', 'TTCG', 'TCGA', 'CGAA', 'GAAG', 'AAGA', 'AGAG', 'GAGG', 'AGGC', 'GGCT', 'GCTG', 'CTGG', 'TGGG', 'GGGG', 'GGGT', 'GGTA', 'GTAC', 'TACC', 'ACCC', 'CCCC', 'CCCC', 'CCCT', 'CCTA', 'CTAT', 'TATT', 'ATTT', 'TTTA', 'TTAG', 'TAGG', 'AGGA', 'GGAA', 'GAAG', 'AAGG', 'AGGG', 'GGGC', 'GGCG', 'GCGA', 'CGAG', 'GAGA', 'AGAC', 'GACT', 'ACTA', 'CTAC', 'TACG', 'ACGG', 'CGGT', 'GGTC', 'GTCA', 'TCAC', 'CACA', 'ACAA', 'CAAA', 'AAAT', 'AATT', 'ATTC', 'TTCC', 'TCCA', 'CCAA', 'CAAA', 'AAAT', 'AATG', 'ATGG', 'TGGC', 'GGCT', 'GCTT', 'CTTC', 'TTCC', 'TCCC', 'CCCT', 'CCTC', 'CTCG', 'TCGA', 'CGAT', 'GATT', 'ATTC', 'TTCA', 'TCAT', 'CATG', 'ATGA', 'TGAC', 'GACG', 'ACGC', 'CGCC', 'GCCA', 'CCAG', 'CAGA', 'AGAA', 'GAAT', 'AATG', 'ATGC', 'TGCC', 'GCCT', 'CCTG', 'CTGG', 'TGGC', 'GGCT', 'GCTG', 'CTGT', 'TGTG', 'GTGC', 'TGCC', 'GCCA', 'CCAA', 'CAAT', 'AATT', 'ATTT', 'TTTG', 'TTGT', 'TGTC', 'GTCG', 'TCGC', 'CGCC', 'GCCT', 'CCTT', 'CTTG', 'TTGC', 'TGCG', 'GCGT', 'CGTC', 'GTCG', 'TCGT', 'CGTT', 'GTTC', 'TTCT', 'TCTG', 'CTGT', 'TGTC', 'GTCA', 'TCAA', 'CAAT', 'AATC', 'ATCT', 'TCTT', 'CTTT', 'TTTA', 'TTAC', 'TACT', 'ACTC', 'CTCG', 'TCGT', 'CGTG', 'GTGT', 'TGTC', 'GTCG', 'TCGT', 'CGTG', 'GTGT', 'TGTT', 'GTTG', 'TTGT', 'TGTG', 'GTGA', 'TGAT', 'GATA', 'ATAA', 'TAAA', 'AAAT', 'AATG', 'ATGA', 'TGAC', 'GACA', 'ACAA', 'CAAA', 'AAAC', 'AACC', 'ACCC', 'CCCT', 'CCTG', 'CTGC', 'TGCA', 'GCAC', 'CACA', 'ACAA', 'CAAC', 'AACG', 'ACGT', 'CGTA', 'GTAG', 'TAGG', 'AGGG', 'GGGC', 'GGCT', 'GCTC', 'CTCA', 'TCAC', 'CACA', 'ACAC', 'CACA', 'ACAA', 'CAAG', 'AAGG', 'AGGG', 'GGGA', 'GGAA', 'GAAT', 'AATC', 'ATCT', 'TCTA', 'CTAG', 'TAGA', 'AGAG', 'GAGT', 'AGTA', 'GTAT', 'TATC', 'ATCC', 'TCCG', 'CCGA', 'CGAT', 'GATA', 'ATAC', 'TACA', 'ACAG', 'CAGG', 'AGGG', 'GGGA', 'GGAG', 'GAGC', 'AGCT', 'GCTT', 'CTTT', 'TTTA', 'TTAG', 'TAGC', 'AGCT', 'GCTT', 'CTTC', 'TTCC', 'TCCG', 'CCGT', 'CGTC', 'GTCC', 'TCCC', 'CCCT', 'CCTT', 'CTTA', 'TTAT', 'TATA', 'ATAG', 'TAGC', 'AGCC', 'GCCT', 'CCTG', 'CTGC', 'TGCC', 'GCCA', 'CCAT', 'CATA', 'ATAT', 'TATT', 'ATTC', 'TTCT', 'TCTT', 'CTTG', 'TTGC', 'TGCG', 'GCGG', 'CGGT', 'GGTA', 'GTAG', 'TAGC', 'AGCA', 'GCAC', 'CACG', 'ACGA', 'CGAG', 'GAGC', 'AGCC', 'GCCT', 'CCTC', 'CTCA', 'TCAG', 'CAGA', 'AGAT', 'GATC', 'ATCT', 'TCTT', 'CTTC', 'TTCT', 'TCTC', 'CTCA', 'TCAC', 'CACT', 'ACTC', 'CTCC', 'TCCG', 'CCGG', 'CGGA', 'GGAA', 'GAAA', 'AAAT', 'AATG', 'ATGG', 'TGGG', 'GGGA', 'GGAG', 'GAGC', 'AGCT', 'GCTT', 'CTTC', 'TTCG', 'TCGA', 'CGAC', 'GACG', 'ACGG', 'CGGT', 'GGTC', 'GTCA', 'TCAA', 'CAAG', 'AAGG', 'AGGG', 'GGGC', 'GGCT', 'GCTA', 'CTAA', 'TAAG', 'AAGA', 'AGAC', 'GACG', 'ACGT', 'CGTC', 'GTCT', 'TCTT', 'CTTC', 'TTCG', 'TCGG', 'CGGG', 'GGGA', 'GGAG', 'GAGA', 'AGAA', 'GAAA', 'AAAT', 'AATA', 'ATAC', 'TACC', 'ACCT', 'CCTA', 'CTAG', 'TAGG', 'AGGC', 'GGCG', 'GCGA', 'CGAT', 'GATG', 'ATGA', 'TGAC', 'GACC', 'ACCC', 'CCCT', 'CCTG', 'CTGA', 'TGAG', 'GAGT', 'AGTG', 'GTGG', 'TGGT', 'GGTT', 'GTTT', 'TTTT', 'TTTC', 'TTCC', 'TCCG', 'CCGC', 'CGCG', 'GCGT', 'CGTA', 'GTAT', 'TATA', 'ATAA', 'TAAC', 'AACT', 'ACTC', 'CTCA', 'TCAT', 'CATC', 'ATCC', 'TCCT', 'CCTG', 'CTGG', 'TGGT', 'GGTT', 'GTTG', 'TTGC', 'TGCA', 'GCAA', 'CAAA', 'AAAT', 'AATG', 'ATGA', 'TGAT', 'GATT', 'ATTA', 'TTAC', 'TACC', 'ACCG', 'CCGT', 'CGTT', 'GTTA', 'TTAT', 'TATA', 'ATAG', 'TAGC', 'AGCC', 'GCCT', 'CCTG', 'CTGG', 'TGGG', 'GGGG', 'GGGA', 'GGAT', 'GATA', 'ATAT', 'TATG', 'ATGC', 'TGCC', 'GCCT', 'CCTC', 'CTCA', 'TCAA', 'CAAT', 'AATT', 'ATTC', 'TTCC', 'TCCG', 'CCGA', 'CGAA', 'GAAC', 'AACC', 'ACCC', 'CCCA', 'CCAG', 'CAGG', 'AGGA', 'GGAG', 'GAGC', 'AGCA', 'GCAT', 'CATC', 'ATCA', 'TCAC', 'CACT', 'ACTC', 'CTCG', 'TCGA', 'CGAG', 'GAGC', 'AGCA', 'GCAA', 'CAAT', 'AATA', 'ATAG', 'TAGC', 'AGCG', 'GCGG', 'CGGT', 'GGTA', 'GTAA', 'TAAA', 'AAAG', 'AAGG', 'AGGA', 'GGAG', 'GAGG', 'AGGC', 'GGCT', 'GCTA', 'CTAT', 'TATT', 'ATTA', 'TTAG', 'TAGC', 'AGCA', 'GCAA', 'CAAA', 'AAAA', 'AAAT', 'AATT', 'ATTG', 'TTGT', 'TGTC', 'GTCA', 'TCAC', 'CACG', 'ACGA', 'CGAT', 'GATA', 'ATAA', 'TAAG', 'AAGC', 'AGCG', 'GCGC', 'CGCC', 'GCCG', 'CCGT', 'CGTT', 'GTTG', 'TTGT', 'TGTA', 'GTAG', 'TAGT', 'AGTG', 'GTGA', 'TGAA', 'GAAA', 'AAAT', 'AATT', 'ATTA', 'TTAA', 'TAAG', 'AAGA', 'AGAT', 'GATA', 'ATAC', 'TACA', 'ACAT', 'CATA', 'ATAC', 'TACA', 'ACAT', 'CATC', 'ATCG', 'TCGT', 'CGTT', 'GTTT', 'TTTA', 'TTAG', 'TAGC', 'AGCA', 'GCAC', 'CACA', 'ACAT', 'CATC', 'ATCA', 'TCAC', 'CACT', 'ACTC', 'CTCT', 'TCTC', 'CTCA', 'TCAC', 'CACG', 'ACGG', 'CGGC', 'GGCG', 'GCGT', 'CGTC', 'GTCT', 'TCTA', 'CTAG', 'TAGA', 'AGAA', 'GAAG', 'AAGC', 'AGCT', 'GCTG', 'CTGA', 'TGAT', 'GATC', 'ATCT', 'TCTT', 'CTTC', 'TTCA', 'TCAT', 'CATA', 'ATAT', 'TATG', 'ATGC', 'TGCT', 'GCTG', 'CTGA', 'TGAC', 'GACT', 'ACTC', 'CTCA', 'TCAG', 'CAGA', 'AGAA', 'GAAG', 'AAGG', 'AGGC', 'GGCT', 'GCTC', 'CTCG', 'TCGG', 'CGGA', 'GGAT', 'GATA', 'ATAA', 'TAAT', 'AATA', 'ATAG', 'TAGA', 'AGAG', 'GAGG', 'AGGA', 'GGAC', 'GACG', 'ACGA', 'CGAA', 'GAAG', 'AAGG', 'AGGT', 'GGTA', 'GTAG', 'TAGT', 'AGTT', 'GTTT', 'TTTA', 'TTAC', 'TACT', 'ACTC', 'CTCA', 'TCAT', 'CATC', 'ATCG', 'TCGC', 'CGCT', 'GCTG', 'CTGC', 'TGCC', 'GCCC', 'CCCC', 'CCCG', 'CCGA', 'CGAC', 'GACT', 'ACTA', 'CTAT', 'TATT', 'ATTA', 'TTAC', 'TACG', 'ACGT', 'CGTG', 'GTGT', 'TGTG', 'GTGC', 'TGCA', 'GCAT', 'CATG', 'ATGA', 'TGAT', 'GATA', 'ATAA', 'TAAA', 'AAAG', 'AAGT', 'AGTC', 'GTCT', 'TCTG', 'CTGA', 'TGAC', 'GACC', 'ACCC', 'CCCT', 'CCTG', 'CTGA', 'TGAC', 'GACG', 'ACGT', 'CGTT', 'GTTC', 'TTCC', 'TCCC', 'CCCA', 'CCAA', 'CAAG', 'AAGC', 'AGCC', 'GCCG', 'CCGA', 'CGAG', 'GAGG', 'AGGC', 'GGCA', 'GCAG', 'CAGA', 'AGAG', 'GAGG', 'AGGG', 'GGGG', 'GGGT', 'GGTT', 'GTTT', 'TTTT', 'TTTA', 'TTAC', 'TACG', 'ACGC', 'CGCT', 'GCTG', 'CTGA', 'TGAA', 'GAAT', 'AATG', 'ATGT', 'TGTC', 'GTCC', 'TCCG', 'CCGC', 'CGCT', 'GCTC', 'CTCT', 'TCTC', 'CTCT', 'TCTG', 'CTGT', 'TGTC', 'GTCG', 'TCGG', 'CGGA', 'GGAT', 'GATG', 'ATGA', 'TGAT', 'GATT', 'ATTT', 'TTTC', 'TTCG', 'TCGG', 'CGGA', 'GGAA', 'GAAG', 'AAGC', 'AGCT', 'GCTG', 'CTG', 'TG', 'G']\n"
     ]
    }
   ],
   "source": [
    "import numpy as np\n",
    "\n",
    "DNA = \"AGGCAAGAAGCTAGAATTCTGGCCTGAGTATCTCAGTACAGGCGCAGTCGAATCTTCCGGAATCACATTGCTCGCGCTTAAACCCGCTCTAAACCTTTGAGTAATTCGACGACATTGGGTTCCCTCCGACGCTGTCTGACAACTCTTTAAGATCCTTGGCACGATGTCGATAGACATTGTCCCTGATGACGCCTCACAAGGTAACCTGGCTCTAGTAGGGTGGTCTTTGCTGCGGAACTTACCACCTGGTGGATCCAAGCACCAGAGGAGTTCGAAGAGGCTGGGGTACCCCCTATTTAGGAAGGGCGAGACTACGGTCACAAATTCCAAATGGCTTCCCTCGATTCATGACGCCAGAATGCCTGGCTGTGCCAATTTGTCGCCTTGCGTCGTTCTGTCAATCTTTACTCGTGTCGTGTTGTGATAAATGACAAACCCTGCACAACGTAGGGCTCACACAAGGGAATCTAGAGTATCCGATACAGGGAGCTTTAGCTTCCGTCCCTTATAGCCTGCCATATTCTTGCGGTAGCACGAGCCTCAGATCTTCTCACTCCGGAAATGGGAGCTTCGACGGTCAAGGGCTAAGACGTCTTCGGGAGAAATACCTAGGCGATGACCCTGAGTGGTTTTCCGCGTATAACTCATCCTGGTTGCAAATGATTACCGTTATAGCCTGGGGATATGCCTCAATTCCGAACCCAGGAGCATCACTCGAGCAATAGCGGTAAAGGAGGCTATTAGCAAAATTGTCACGATAAGCGCCGTTGTAGTGAAATTAAGATACATACATCGTTTAGCACATCACTCTCACGGCGTCTAGAAGCTGATCTTCATATGCTGACTCAGAAGGCTCGGATAATAGAGGACGAAGGTAGTTTACTCATCGCTGCCCCGACTATTACGTGTGCATGATAAAGTCTGACCCTGACGTTCCCAAGCCGAGGCAGAGGGGTTTTACGCTGAATGTCCGCTCTCTGTCGGATGATTTCGGAAGCTG\"\n",
    "\n",
    "fakecodons = [DNA[0:4]]\n",
    "fakecodons.append(DNA[0:4])\n",
    "fakecodons.append(DNA[4:8])\n",
    "fakecodons.append(DNA[8:12])\n",
    "\n",
    "fakecodons = []\n",
    "\n",
    "for i in range(len(DNA)):\n",
    "    fakecodons.append(DNA[i:i+4])\n",
    "\n",
    "print(fakecodons)\n",
    "\n",
    "#I think this is ok? ew 4"
   ]
  }
 ],
 "metadata": {
  "kernelspec": {
   "display_name": "Python 3 (ipykernel)",
   "language": "python",
   "name": "python3"
  },
  "language_info": {
   "codemirror_mode": {
    "name": "ipython",
    "version": 3
   },
   "file_extension": ".py",
   "mimetype": "text/x-python",
   "name": "python",
   "nbconvert_exporter": "python",
   "pygments_lexer": "ipython3",
   "version": "3.10.8"
  },
  "toc": {
   "base_numbering": 1,
   "nav_menu": {},
   "number_sections": true,
   "sideBar": true,
   "skip_h1_title": false,
   "title_cell": "Table of Contents",
   "title_sidebar": "Contents",
   "toc_cell": false,
   "toc_position": {},
   "toc_section_display": true,
   "toc_window_display": false
  },
  "vscode": {
   "interpreter": {
    "hash": "31f2aee4e71d21fbe5cf8b01ff0e069b9275f58929596ceb00d14d90e3e16cd6"
   }
  }
 },
 "nbformat": 4,
 "nbformat_minor": 5
}
