{
 "cells": [
  {
   "cell_type": "markdown",
   "id": "123456",
   "metadata": {},
   "source": [
    "<div style=\"text-align:left;font-size:2em\"><span style=\"font-weight:bolder;font-size:1.25em\">SP2273 | Learning Portfolio</span><br><br><span style=\"font-weight:bold;color:darkred\">Just Exercises (I)</span></div>"
   ]
  },
  {
   "cell_type": "markdown",
   "id": "be5656d7",
   "metadata": {},
   "source": [
    "## Exercise 1 :  F-strings to the rescue"
   ]
  },
  {
   "cell_type": "code",
   "execution_count": 15,
   "id": "34f90a79",
   "metadata": {
    "scrolled": true
   },
   "outputs": [
    {
     "name": "stdout",
     "output_type": "stream",
     "text": [
      "00001\n",
      "00002\n",
      "00003\n",
      "00004\n",
      "00005\n",
      "00006\n",
      "00007\n",
      "00008\n",
      "00009\n",
      "00010\n"
     ]
    }
   ],
   "source": [
    "for i in range(1,11):\n",
    "        print(f\"{i:05}\")"
   ]
  },
  {
   "cell_type": "code",
   "execution_count": 40,
   "id": "c3e5d289",
   "metadata": {},
   "outputs": [
    {
     "name": "stdout",
     "output_type": "stream",
     "text": [
      "001          +\n",
      "002         ++\n",
      "003        +++\n",
      "004       ++++\n",
      "005      +++++\n",
      "006     ++++++\n",
      "007    +++++++\n",
      "008   ++++++++\n",
      "009  +++++++++\n",
      "010 ++++++++++\n"
     ]
    }
   ],
   "source": [
    "for i in range(1,11):\n",
    "    print(f\"{i:03}{'+'*i:>11}\")"
   ]
  },
  {
   "cell_type": "code",
   "execution_count": 44,
   "id": "9620890f",
   "metadata": {},
   "outputs": [
    {
     "name": "stdout",
     "output_type": "stream",
     "text": [
      "001 -+++++++++\n",
      "002 --++++++++\n",
      "003 ---+++++++\n",
      "004 ----++++++\n",
      "005 -----+++++\n",
      "006 ------++++\n",
      "007 -------+++\n",
      "008 --------++\n",
      "009 ---------+\n",
      "010 ----------\n"
     ]
    }
   ],
   "source": [
    "for i in range(1,11):\n",
    "    print(f\"{i:03} {'-'*i}{'+'*(10-i)}\")"
   ]
  },
  {
   "cell_type": "code",
   "execution_count": 35,
   "id": "1b922fad",
   "metadata": {
    "scrolled": true
   },
   "outputs": [
    {
     "name": "stdout",
     "output_type": "stream",
     "text": [
      "['bruce_exploits.txt', 'bruce_enemies.txt', 'bruce_friends.txt', 'natasha_exploits.txt', 'natasha_enemies.txt', 'natasha_friends.txt', 'tony_exploits.txt', 'tony_enemies.txt', 'tony_friends.txt']\n"
     ]
    }
   ],
   "source": [
    "#4.\n",
    "#2 lists, nested for loop\n",
    "#loop is (exploits, enemies, friends) once for each name\n",
    "\n",
    "yeah = [\"bruce\", \"natasha\", \"tony\"]\n",
    "no = [\"exploits\", \"enemies\", \"friends\"]\n",
    "the_it = []\n",
    "for i in range(3):\n",
    "    for j in range(3):\n",
    "        the_it.append(f\"{yeah[i]}_{no[j]}.txt\")\n",
    "\n",
    "print(the_it)"
   ]
  },
  {
   "cell_type": "code",
   "execution_count": 34,
   "id": "6b4e4473",
   "metadata": {},
   "outputs": [
    {
     "name": "stdout",
     "output_type": "stream",
     "text": [
      "['data_sg_exp-01_trial-001.txt', 'data_sg_exp-01_trial-002.txt', 'data_sg_exp-01_trial-003.txt', 'data_sg_exp-01_trial-004.txt', 'data_sg_exp-01_trial-005.txt', 'data_sg_exp-01_trial-006.txt', 'data_sg_exp-01_trial-007.txt', 'data_sg_exp-01_trial-008.txt', 'data_sg_exp-01_trial-009.txt', 'data_sg_exp-01_trial-010.txt', 'data_sg_exp-01_trial-011.txt', 'data_sg_exp-01_trial-012.txt', 'data_sg_exp-01_trial-013.txt', 'data_sg_exp-01_trial-014.txt', 'data_sg_exp-01_trial-015.txt', 'data_sg_exp-01_trial-016.txt', 'data_sg_exp-01_trial-017.txt', 'data_sg_exp-01_trial-018.txt', 'data_sg_exp-01_trial-019.txt', 'data_sg_exp-01_trial-020.txt', 'data_sg_exp-01_trial-021.txt', 'data_sg_exp-01_trial-022.txt', 'data_sg_exp-01_trial-023.txt', 'data_sg_exp-01_trial-024.txt', 'data_sg_exp-01_trial-025.txt', 'data_sg_exp-01_trial-026.txt', 'data_sg_exp-01_trial-027.txt', 'data_sg_exp-01_trial-028.txt', 'data_sg_exp-01_trial-029.txt', 'data_sg_exp-01_trial-030.txt', 'data_sg_exp-01_trial-031.txt', 'data_sg_exp-01_trial-032.txt', 'data_sg_exp-01_trial-033.txt', 'data_sg_exp-01_trial-034.txt', 'data_sg_exp-01_trial-035.txt', 'data_sg_exp-01_trial-036.txt', 'data_sg_exp-01_trial-037.txt', 'data_sg_exp-01_trial-038.txt', 'data_sg_exp-01_trial-039.txt', 'data_sg_exp-01_trial-040.txt', 'data_sg_exp-01_trial-041.txt', 'data_sg_exp-01_trial-042.txt', 'data_sg_exp-01_trial-043.txt', 'data_sg_exp-01_trial-044.txt', 'data_sg_exp-01_trial-045.txt', 'data_sg_exp-01_trial-046.txt', 'data_sg_exp-01_trial-047.txt', 'data_sg_exp-01_trial-048.txt', 'data_sg_exp-01_trial-049.txt', 'data_sg_exp-01_trial-050.txt', 'data_sg_exp-02_trial-001.txt', 'data_sg_exp-02_trial-002.txt', 'data_sg_exp-02_trial-003.txt', 'data_sg_exp-02_trial-004.txt', 'data_sg_exp-02_trial-005.txt', 'data_sg_exp-02_trial-006.txt', 'data_sg_exp-02_trial-007.txt', 'data_sg_exp-02_trial-008.txt', 'data_sg_exp-02_trial-009.txt', 'data_sg_exp-02_trial-010.txt', 'data_sg_exp-02_trial-011.txt', 'data_sg_exp-02_trial-012.txt', 'data_sg_exp-02_trial-013.txt', 'data_sg_exp-02_trial-014.txt', 'data_sg_exp-02_trial-015.txt', 'data_sg_exp-02_trial-016.txt', 'data_sg_exp-02_trial-017.txt', 'data_sg_exp-02_trial-018.txt', 'data_sg_exp-02_trial-019.txt', 'data_sg_exp-02_trial-020.txt', 'data_sg_exp-02_trial-021.txt', 'data_sg_exp-02_trial-022.txt', 'data_sg_exp-02_trial-023.txt', 'data_sg_exp-02_trial-024.txt', 'data_sg_exp-02_trial-025.txt', 'data_sg_exp-02_trial-026.txt', 'data_sg_exp-02_trial-027.txt', 'data_sg_exp-02_trial-028.txt', 'data_sg_exp-02_trial-029.txt', 'data_sg_exp-02_trial-030.txt', 'data_sg_exp-02_trial-031.txt', 'data_sg_exp-02_trial-032.txt', 'data_sg_exp-02_trial-033.txt', 'data_sg_exp-02_trial-034.txt', 'data_sg_exp-02_trial-035.txt', 'data_sg_exp-02_trial-036.txt', 'data_sg_exp-02_trial-037.txt', 'data_sg_exp-02_trial-038.txt', 'data_sg_exp-02_trial-039.txt', 'data_sg_exp-02_trial-040.txt', 'data_sg_exp-02_trial-041.txt', 'data_sg_exp-02_trial-042.txt', 'data_sg_exp-02_trial-043.txt', 'data_sg_exp-02_trial-044.txt', 'data_sg_exp-02_trial-045.txt', 'data_sg_exp-02_trial-046.txt', 'data_sg_exp-02_trial-047.txt', 'data_sg_exp-02_trial-048.txt', 'data_sg_exp-02_trial-049.txt', 'data_sg_exp-02_trial-050.txt', 'data_sg_exp-03_trial-001.txt', 'data_sg_exp-03_trial-002.txt', 'data_sg_exp-03_trial-003.txt', 'data_sg_exp-03_trial-004.txt', 'data_sg_exp-03_trial-005.txt', 'data_sg_exp-03_trial-006.txt', 'data_sg_exp-03_trial-007.txt', 'data_sg_exp-03_trial-008.txt', 'data_sg_exp-03_trial-009.txt', 'data_sg_exp-03_trial-010.txt', 'data_sg_exp-03_trial-011.txt', 'data_sg_exp-03_trial-012.txt', 'data_sg_exp-03_trial-013.txt', 'data_sg_exp-03_trial-014.txt', 'data_sg_exp-03_trial-015.txt', 'data_sg_exp-03_trial-016.txt', 'data_sg_exp-03_trial-017.txt', 'data_sg_exp-03_trial-018.txt', 'data_sg_exp-03_trial-019.txt', 'data_sg_exp-03_trial-020.txt', 'data_sg_exp-03_trial-021.txt', 'data_sg_exp-03_trial-022.txt', 'data_sg_exp-03_trial-023.txt', 'data_sg_exp-03_trial-024.txt', 'data_sg_exp-03_trial-025.txt', 'data_sg_exp-03_trial-026.txt', 'data_sg_exp-03_trial-027.txt', 'data_sg_exp-03_trial-028.txt', 'data_sg_exp-03_trial-029.txt', 'data_sg_exp-03_trial-030.txt', 'data_sg_exp-03_trial-031.txt', 'data_sg_exp-03_trial-032.txt', 'data_sg_exp-03_trial-033.txt', 'data_sg_exp-03_trial-034.txt', 'data_sg_exp-03_trial-035.txt', 'data_sg_exp-03_trial-036.txt', 'data_sg_exp-03_trial-037.txt', 'data_sg_exp-03_trial-038.txt', 'data_sg_exp-03_trial-039.txt', 'data_sg_exp-03_trial-040.txt', 'data_sg_exp-03_trial-041.txt', 'data_sg_exp-03_trial-042.txt', 'data_sg_exp-03_trial-043.txt', 'data_sg_exp-03_trial-044.txt', 'data_sg_exp-03_trial-045.txt', 'data_sg_exp-03_trial-046.txt', 'data_sg_exp-03_trial-047.txt', 'data_sg_exp-03_trial-048.txt', 'data_sg_exp-03_trial-049.txt', 'data_sg_exp-03_trial-050.txt', 'data_gg_exp-01_trial-001.txt', 'data_gg_exp-01_trial-002.txt', 'data_gg_exp-01_trial-003.txt', 'data_gg_exp-01_trial-004.txt', 'data_gg_exp-01_trial-005.txt', 'data_gg_exp-01_trial-006.txt', 'data_gg_exp-01_trial-007.txt', 'data_gg_exp-01_trial-008.txt', 'data_gg_exp-01_trial-009.txt', 'data_gg_exp-01_trial-010.txt', 'data_gg_exp-01_trial-011.txt', 'data_gg_exp-01_trial-012.txt', 'data_gg_exp-01_trial-013.txt', 'data_gg_exp-01_trial-014.txt', 'data_gg_exp-01_trial-015.txt', 'data_gg_exp-01_trial-016.txt', 'data_gg_exp-01_trial-017.txt', 'data_gg_exp-01_trial-018.txt', 'data_gg_exp-01_trial-019.txt', 'data_gg_exp-01_trial-020.txt', 'data_gg_exp-01_trial-021.txt', 'data_gg_exp-01_trial-022.txt', 'data_gg_exp-01_trial-023.txt', 'data_gg_exp-01_trial-024.txt', 'data_gg_exp-01_trial-025.txt', 'data_gg_exp-01_trial-026.txt', 'data_gg_exp-01_trial-027.txt', 'data_gg_exp-01_trial-028.txt', 'data_gg_exp-01_trial-029.txt', 'data_gg_exp-01_trial-030.txt', 'data_gg_exp-01_trial-031.txt', 'data_gg_exp-01_trial-032.txt', 'data_gg_exp-01_trial-033.txt', 'data_gg_exp-01_trial-034.txt', 'data_gg_exp-01_trial-035.txt', 'data_gg_exp-01_trial-036.txt', 'data_gg_exp-01_trial-037.txt', 'data_gg_exp-01_trial-038.txt', 'data_gg_exp-01_trial-039.txt', 'data_gg_exp-01_trial-040.txt', 'data_gg_exp-01_trial-041.txt', 'data_gg_exp-01_trial-042.txt', 'data_gg_exp-01_trial-043.txt', 'data_gg_exp-01_trial-044.txt', 'data_gg_exp-01_trial-045.txt', 'data_gg_exp-01_trial-046.txt', 'data_gg_exp-01_trial-047.txt', 'data_gg_exp-01_trial-048.txt', 'data_gg_exp-01_trial-049.txt', 'data_gg_exp-01_trial-050.txt', 'data_gg_exp-02_trial-001.txt', 'data_gg_exp-02_trial-002.txt', 'data_gg_exp-02_trial-003.txt', 'data_gg_exp-02_trial-004.txt', 'data_gg_exp-02_trial-005.txt', 'data_gg_exp-02_trial-006.txt', 'data_gg_exp-02_trial-007.txt', 'data_gg_exp-02_trial-008.txt', 'data_gg_exp-02_trial-009.txt', 'data_gg_exp-02_trial-010.txt', 'data_gg_exp-02_trial-011.txt', 'data_gg_exp-02_trial-012.txt', 'data_gg_exp-02_trial-013.txt', 'data_gg_exp-02_trial-014.txt', 'data_gg_exp-02_trial-015.txt', 'data_gg_exp-02_trial-016.txt', 'data_gg_exp-02_trial-017.txt', 'data_gg_exp-02_trial-018.txt', 'data_gg_exp-02_trial-019.txt', 'data_gg_exp-02_trial-020.txt', 'data_gg_exp-02_trial-021.txt', 'data_gg_exp-02_trial-022.txt', 'data_gg_exp-02_trial-023.txt', 'data_gg_exp-02_trial-024.txt', 'data_gg_exp-02_trial-025.txt', 'data_gg_exp-02_trial-026.txt', 'data_gg_exp-02_trial-027.txt', 'data_gg_exp-02_trial-028.txt', 'data_gg_exp-02_trial-029.txt', 'data_gg_exp-02_trial-030.txt', 'data_gg_exp-02_trial-031.txt', 'data_gg_exp-02_trial-032.txt', 'data_gg_exp-02_trial-033.txt', 'data_gg_exp-02_trial-034.txt', 'data_gg_exp-02_trial-035.txt', 'data_gg_exp-02_trial-036.txt', 'data_gg_exp-02_trial-037.txt', 'data_gg_exp-02_trial-038.txt', 'data_gg_exp-02_trial-039.txt', 'data_gg_exp-02_trial-040.txt', 'data_gg_exp-02_trial-041.txt', 'data_gg_exp-02_trial-042.txt', 'data_gg_exp-02_trial-043.txt', 'data_gg_exp-02_trial-044.txt', 'data_gg_exp-02_trial-045.txt', 'data_gg_exp-02_trial-046.txt', 'data_gg_exp-02_trial-047.txt', 'data_gg_exp-02_trial-048.txt', 'data_gg_exp-02_trial-049.txt', 'data_gg_exp-02_trial-050.txt', 'data_gg_exp-03_trial-001.txt', 'data_gg_exp-03_trial-002.txt', 'data_gg_exp-03_trial-003.txt', 'data_gg_exp-03_trial-004.txt', 'data_gg_exp-03_trial-005.txt', 'data_gg_exp-03_trial-006.txt', 'data_gg_exp-03_trial-007.txt', 'data_gg_exp-03_trial-008.txt', 'data_gg_exp-03_trial-009.txt', 'data_gg_exp-03_trial-010.txt', 'data_gg_exp-03_trial-011.txt', 'data_gg_exp-03_trial-012.txt', 'data_gg_exp-03_trial-013.txt', 'data_gg_exp-03_trial-014.txt', 'data_gg_exp-03_trial-015.txt', 'data_gg_exp-03_trial-016.txt', 'data_gg_exp-03_trial-017.txt', 'data_gg_exp-03_trial-018.txt', 'data_gg_exp-03_trial-019.txt', 'data_gg_exp-03_trial-020.txt', 'data_gg_exp-03_trial-021.txt', 'data_gg_exp-03_trial-022.txt', 'data_gg_exp-03_trial-023.txt', 'data_gg_exp-03_trial-024.txt', 'data_gg_exp-03_trial-025.txt', 'data_gg_exp-03_trial-026.txt', 'data_gg_exp-03_trial-027.txt', 'data_gg_exp-03_trial-028.txt', 'data_gg_exp-03_trial-029.txt', 'data_gg_exp-03_trial-030.txt', 'data_gg_exp-03_trial-031.txt', 'data_gg_exp-03_trial-032.txt', 'data_gg_exp-03_trial-033.txt', 'data_gg_exp-03_trial-034.txt', 'data_gg_exp-03_trial-035.txt', 'data_gg_exp-03_trial-036.txt', 'data_gg_exp-03_trial-037.txt', 'data_gg_exp-03_trial-038.txt', 'data_gg_exp-03_trial-039.txt', 'data_gg_exp-03_trial-040.txt', 'data_gg_exp-03_trial-041.txt', 'data_gg_exp-03_trial-042.txt', 'data_gg_exp-03_trial-043.txt', 'data_gg_exp-03_trial-044.txt', 'data_gg_exp-03_trial-045.txt', 'data_gg_exp-03_trial-046.txt', 'data_gg_exp-03_trial-047.txt', 'data_gg_exp-03_trial-048.txt', 'data_gg_exp-03_trial-049.txt', 'data_gg_exp-03_trial-050.txt', 'data_us_exp-01_trial-001.txt', 'data_us_exp-01_trial-002.txt', 'data_us_exp-01_trial-003.txt', 'data_us_exp-01_trial-004.txt', 'data_us_exp-01_trial-005.txt', 'data_us_exp-01_trial-006.txt', 'data_us_exp-01_trial-007.txt', 'data_us_exp-01_trial-008.txt', 'data_us_exp-01_trial-009.txt', 'data_us_exp-01_trial-010.txt', 'data_us_exp-01_trial-011.txt', 'data_us_exp-01_trial-012.txt', 'data_us_exp-01_trial-013.txt', 'data_us_exp-01_trial-014.txt', 'data_us_exp-01_trial-015.txt', 'data_us_exp-01_trial-016.txt', 'data_us_exp-01_trial-017.txt', 'data_us_exp-01_trial-018.txt', 'data_us_exp-01_trial-019.txt', 'data_us_exp-01_trial-020.txt', 'data_us_exp-01_trial-021.txt', 'data_us_exp-01_trial-022.txt', 'data_us_exp-01_trial-023.txt', 'data_us_exp-01_trial-024.txt', 'data_us_exp-01_trial-025.txt', 'data_us_exp-01_trial-026.txt', 'data_us_exp-01_trial-027.txt', 'data_us_exp-01_trial-028.txt', 'data_us_exp-01_trial-029.txt', 'data_us_exp-01_trial-030.txt', 'data_us_exp-01_trial-031.txt', 'data_us_exp-01_trial-032.txt', 'data_us_exp-01_trial-033.txt', 'data_us_exp-01_trial-034.txt', 'data_us_exp-01_trial-035.txt', 'data_us_exp-01_trial-036.txt', 'data_us_exp-01_trial-037.txt', 'data_us_exp-01_trial-038.txt', 'data_us_exp-01_trial-039.txt', 'data_us_exp-01_trial-040.txt', 'data_us_exp-01_trial-041.txt', 'data_us_exp-01_trial-042.txt', 'data_us_exp-01_trial-043.txt', 'data_us_exp-01_trial-044.txt', 'data_us_exp-01_trial-045.txt', 'data_us_exp-01_trial-046.txt', 'data_us_exp-01_trial-047.txt', 'data_us_exp-01_trial-048.txt', 'data_us_exp-01_trial-049.txt', 'data_us_exp-01_trial-050.txt', 'data_us_exp-02_trial-001.txt', 'data_us_exp-02_trial-002.txt', 'data_us_exp-02_trial-003.txt', 'data_us_exp-02_trial-004.txt', 'data_us_exp-02_trial-005.txt', 'data_us_exp-02_trial-006.txt', 'data_us_exp-02_trial-007.txt', 'data_us_exp-02_trial-008.txt', 'data_us_exp-02_trial-009.txt', 'data_us_exp-02_trial-010.txt', 'data_us_exp-02_trial-011.txt', 'data_us_exp-02_trial-012.txt', 'data_us_exp-02_trial-013.txt', 'data_us_exp-02_trial-014.txt', 'data_us_exp-02_trial-015.txt', 'data_us_exp-02_trial-016.txt', 'data_us_exp-02_trial-017.txt', 'data_us_exp-02_trial-018.txt', 'data_us_exp-02_trial-019.txt', 'data_us_exp-02_trial-020.txt', 'data_us_exp-02_trial-021.txt', 'data_us_exp-02_trial-022.txt', 'data_us_exp-02_trial-023.txt', 'data_us_exp-02_trial-024.txt', 'data_us_exp-02_trial-025.txt', 'data_us_exp-02_trial-026.txt', 'data_us_exp-02_trial-027.txt', 'data_us_exp-02_trial-028.txt', 'data_us_exp-02_trial-029.txt', 'data_us_exp-02_trial-030.txt', 'data_us_exp-02_trial-031.txt', 'data_us_exp-02_trial-032.txt', 'data_us_exp-02_trial-033.txt', 'data_us_exp-02_trial-034.txt', 'data_us_exp-02_trial-035.txt', 'data_us_exp-02_trial-036.txt', 'data_us_exp-02_trial-037.txt', 'data_us_exp-02_trial-038.txt', 'data_us_exp-02_trial-039.txt', 'data_us_exp-02_trial-040.txt', 'data_us_exp-02_trial-041.txt', 'data_us_exp-02_trial-042.txt', 'data_us_exp-02_trial-043.txt', 'data_us_exp-02_trial-044.txt', 'data_us_exp-02_trial-045.txt', 'data_us_exp-02_trial-046.txt', 'data_us_exp-02_trial-047.txt', 'data_us_exp-02_trial-048.txt', 'data_us_exp-02_trial-049.txt', 'data_us_exp-02_trial-050.txt', 'data_us_exp-03_trial-001.txt', 'data_us_exp-03_trial-002.txt', 'data_us_exp-03_trial-003.txt', 'data_us_exp-03_trial-004.txt', 'data_us_exp-03_trial-005.txt', 'data_us_exp-03_trial-006.txt', 'data_us_exp-03_trial-007.txt', 'data_us_exp-03_trial-008.txt', 'data_us_exp-03_trial-009.txt', 'data_us_exp-03_trial-010.txt', 'data_us_exp-03_trial-011.txt', 'data_us_exp-03_trial-012.txt', 'data_us_exp-03_trial-013.txt', 'data_us_exp-03_trial-014.txt', 'data_us_exp-03_trial-015.txt', 'data_us_exp-03_trial-016.txt', 'data_us_exp-03_trial-017.txt', 'data_us_exp-03_trial-018.txt', 'data_us_exp-03_trial-019.txt', 'data_us_exp-03_trial-020.txt', 'data_us_exp-03_trial-021.txt', 'data_us_exp-03_trial-022.txt', 'data_us_exp-03_trial-023.txt', 'data_us_exp-03_trial-024.txt', 'data_us_exp-03_trial-025.txt', 'data_us_exp-03_trial-026.txt', 'data_us_exp-03_trial-027.txt', 'data_us_exp-03_trial-028.txt', 'data_us_exp-03_trial-029.txt', 'data_us_exp-03_trial-030.txt', 'data_us_exp-03_trial-031.txt', 'data_us_exp-03_trial-032.txt', 'data_us_exp-03_trial-033.txt', 'data_us_exp-03_trial-034.txt', 'data_us_exp-03_trial-035.txt', 'data_us_exp-03_trial-036.txt', 'data_us_exp-03_trial-037.txt', 'data_us_exp-03_trial-038.txt', 'data_us_exp-03_trial-039.txt', 'data_us_exp-03_trial-040.txt', 'data_us_exp-03_trial-041.txt', 'data_us_exp-03_trial-042.txt', 'data_us_exp-03_trial-043.txt', 'data_us_exp-03_trial-044.txt', 'data_us_exp-03_trial-045.txt', 'data_us_exp-03_trial-046.txt', 'data_us_exp-03_trial-047.txt', 'data_us_exp-03_trial-048.txt', 'data_us_exp-03_trial-049.txt', 'data_us_exp-03_trial-050.txt']\n"
     ]
    }
   ],
   "source": [
    "#5.\n",
    "ghh = [\"data_sg_exp\",\"data_gg_exp\",\"data_us_exp\"]\n",
    "why = []\n",
    "        \n",
    "for i in range(3):\n",
    "    for k in range(1,4):\n",
    "        for j in range(1,51):\n",
    "            why.append(f\"{ghh[i]}-{k:02}_trial-{j:03}.txt\")\n",
    "        \n",
    "print(why)"
   ]
  },
  {
   "cell_type": "markdown",
   "id": "dbd5d55a",
   "metadata": {},
   "source": [
    "## Exercise 2 :  Tutti frutti\n",
    "```\n",
    "fruits = [\"apple\", \"banana\", \"pineapple\", \"jackfruit\",\n",
    "        \"peach\", \"durian\", \"watermelon\", \"mango\",\n",
    "        \"strawberry\", \"passionfruit\"]\n",
    "```\n",
    "\n",
    "Are mango included in the list?\n",
    "\n",
    "Use a `for` loop to print only the starting and ending letters of each of the fruits in the above list.\n",
    "\n",
    "    Hint: See what you get with `abc[-1]`\n",
    "\n",
    "Use a `for` loop to print the names of the fruits in lowercase except for those that start with the letter ‘p’; these you should print in UPPERCASE.\n",
    "\n",
    "We want to include the following fruits in the list.\n",
    "\n",
    "```\n",
    "[\"dragon fruit\", \"apricots\", \"oranges\"]\n",
    "```\n",
    "\n",
    "    How will you append them?\n",
    "    How will you prepend them?\n",
    "    How will you insert them in the middle (i.e. after half the length)\n",
    "\n",
    "Use list comprehension to extract only those fruits whose names are longer than eight characters."
   ]
  },
  {
   "cell_type": "markdown",
   "id": "833038bc",
   "metadata": {},
   "source": [
    "1. Mango is in the list"
   ]
  },
  {
   "cell_type": "code",
   "execution_count": 8,
   "id": "919b0aba",
   "metadata": {
    "scrolled": false
   },
   "outputs": [
    {
     "name": "stdout",
     "output_type": "stream",
     "text": [
      "the first and last letter of apple are a and e respectively.\n",
      "the first and last letter of banana are b and a respectively.\n",
      "the first and last letter of pineapple are p and e respectively.\n",
      "the first and last letter of jackfruit are j and t respectively.\n",
      "the first and last letter of peach are p and h respectively.\n",
      "the first and last letter of durian are d and n respectively.\n",
      "the first and last letter of watermelon are w and n respectively.\n",
      "the first and last letter of mango are m and o respectively.\n",
      "the first and last letter of strawberry are s and y respectively.\n",
      "the first and last letter of passionfruit are p and t respectively.\n"
     ]
    }
   ],
   "source": [
    "fruits = [\"apple\", \"banana\", \"pineapple\", \"jackfruit\",\n",
    "        \"peach\", \"durian\", \"watermelon\", \"mango\",\n",
    "        \"strawberry\", \"passionfruit\"]\n",
    "\n",
    "for i in range(len(fruits)):\n",
    "    print(f\"the first and last letter of {fruits[i]} are {fruits[i][0]} and {fruits[i][-1]} respectively.\")"
   ]
  },
  {
   "cell_type": "code",
   "execution_count": 11,
   "id": "2ce5d8cc",
   "metadata": {
    "scrolled": true
   },
   "outputs": [
    {
     "name": "stdout",
     "output_type": "stream",
     "text": [
      "apple\n",
      "banana\n",
      "PINEAPPLE\n",
      "jackfruit\n",
      "PEACH\n",
      "durian\n",
      "watermelon\n",
      "mango\n",
      "strawberry\n",
      "PASSIONFRUIT\n"
     ]
    }
   ],
   "source": [
    "fruits = [\"apple\", \"banana\", \"pineapple\", \"jackfruit\",\n",
    "        \"peach\", \"durian\", \"watermelon\", \"mango\",\n",
    "        \"strawberry\", \"passionfruit\"]\n",
    "\n",
    "for i in range(len(fruits)):\n",
    "    if fruits[i][0] != \"p\":\n",
    "        print(fruits[i])\n",
    "    else:\n",
    "        print(fruits[i].upper())"
   ]
  },
  {
   "cell_type": "code",
   "execution_count": 12,
   "id": "3ec10eaa",
   "metadata": {},
   "outputs": [
    {
     "name": "stdout",
     "output_type": "stream",
     "text": [
      "['apple', 'banana', 'pineapple', 'jackfruit', 'peach', 'durian', 'watermelon', 'mango', 'strawberry', 'passionfruit', 'dragon fruit', 'apricots', 'oranges']\n"
     ]
    }
   ],
   "source": [
    "fruits = [\"apple\", \"banana\", \"pineapple\", \"jackfruit\",\n",
    "        \"peach\", \"durian\", \"watermelon\", \"mango\",\n",
    "        \"strawberry\", \"passionfruit\"]\n",
    "newfruits = [\"dragon fruit\", \"apricots\", \"oranges\"]\n",
    "\n",
    "#append\n",
    "\n",
    "fruits = fruits + newfruits\n",
    "\n",
    "print(fruits)"
   ]
  },
  {
   "cell_type": "code",
   "execution_count": 13,
   "id": "09082999",
   "metadata": {},
   "outputs": [
    {
     "name": "stdout",
     "output_type": "stream",
     "text": [
      "['apple', 'banana', 'pineapple', 'jackfruit', 'peach', 'durian', 'watermelon', 'mango', 'strawberry', 'passionfruit', 'dragon fruit', 'apricots', 'oranges']\n"
     ]
    }
   ],
   "source": [
    "#or using append function\n",
    "\n",
    "fruits = [\"apple\", \"banana\", \"pineapple\", \"jackfruit\",\n",
    "        \"peach\", \"durian\", \"watermelon\", \"mango\",\n",
    "        \"strawberry\", \"passionfruit\"]\n",
    "newfruits = [\"dragon fruit\", \"apricots\", \"oranges\"]\n",
    "\n",
    "#append\n",
    "\n",
    "for i in range(len(newfruits)):\n",
    "    fruits.append(newfruits[i])\n",
    "\n",
    "print(fruits)"
   ]
  },
  {
   "cell_type": "code",
   "execution_count": 14,
   "id": "21aadb90",
   "metadata": {},
   "outputs": [
    {
     "name": "stdout",
     "output_type": "stream",
     "text": [
      "['dragon fruit', 'apricots', 'oranges', 'apple', 'banana', 'pineapple', 'jackfruit', 'peach', 'durian', 'watermelon', 'mango', 'strawberry', 'passionfruit']\n"
     ]
    }
   ],
   "source": [
    "#prepend\n",
    "\n",
    "fruits = [\"apple\", \"banana\", \"pineapple\", \"jackfruit\",\n",
    "        \"peach\", \"durian\", \"watermelon\", \"mango\",\n",
    "        \"strawberry\", \"passionfruit\"]\n",
    "newfruits = [\"dragon fruit\", \"apricots\", \"oranges\"]\n",
    "\n",
    "#append\n",
    "\n",
    "fruits = newfruits + fruits\n",
    "\n",
    "print(fruits)"
   ]
  },
  {
   "cell_type": "code",
   "execution_count": 17,
   "id": "cb87870a",
   "metadata": {
    "scrolled": true
   },
   "outputs": [
    {
     "name": "stdout",
     "output_type": "stream",
     "text": [
      "['apple', 'banana', 'pineapple', 'jackfruit', 'peach', 'apricots', 'oranges', 'dragon fruit', 'durian', 'watermelon', 'mango', 'strawberry', 'passionfruit']\n"
     ]
    }
   ],
   "source": [
    "#using insert\n",
    "\n",
    "fruits = [\"apple\", \"banana\", \"pineapple\", \"jackfruit\",\n",
    "        \"peach\", \"durian\", \"watermelon\", \"mango\",\n",
    "        \"strawberry\", \"passionfruit\"]\n",
    "newfruits = [\"dragon fruit\", \"apricots\", \"oranges\"]\n",
    "\n",
    "#can't just insert the list because that way, newfruits will just appear inside fruits, square brackets included\n",
    "\n",
    "for i in range(len(newfruits)):\n",
    "    fruits.insert(len(fruits)//2, newfruits[i])\n",
    "\n",
    "print(fruits)"
   ]
  },
  {
   "cell_type": "code",
   "execution_count": 19,
   "id": "3c8dca87",
   "metadata": {},
   "outputs": [
    {
     "name": "stdout",
     "output_type": "stream",
     "text": [
      "These fruits have names longer than 8 characters: ['dragon fruit', 'apricots', 'pineapple', 'jackfruit', 'watermelon', 'strawberry', 'passionfruit']\n"
     ]
    }
   ],
   "source": [
    "fruits = [\"apple\", \"banana\", \"pineapple\", \"jackfruit\",\n",
    "        \"peach\", \"durian\", \"watermelon\", \"mango\",\n",
    "        \"strawberry\", \"passionfruit\"]\n",
    "newfruits = [\"dragon fruit\", \"apricots\", \"oranges\"]\n",
    "\n",
    "#append\n",
    "\n",
    "fruits = newfruits + fruits\n",
    "longer8 = []\n",
    "\n",
    "for i in range(len(fruits)):\n",
    "    if len(fruits[i]) >= 8:\n",
    "        longer8.append(fruits[i])\n",
    "    else:\n",
    "        i = i\n",
    "\n",
    "print(f\"These fruits have names longer than 8 characters: {longer8}\")"
   ]
  },
  {
   "cell_type": "markdown",
   "id": "3ede1c35",
   "metadata": {},
   "source": [
    "## Exercise 3 :  Ciao Fibonacci"
   ]
  },
  {
   "cell_type": "code",
   "execution_count": 57,
   "id": "03ac7980",
   "metadata": {
    "scrolled": false
   },
   "outputs": [
    {
     "name": "stdout",
     "output_type": "stream",
     "text": [
      "[0, 1, 1, 2, 3, 5, 8, 13, 21, 34, 55, 89, 144, 233, 377, 610, 987, 1597, 2584, 4181, 6765]\n"
     ]
    }
   ],
   "source": [
    "fibonacci = [0,1]\n",
    "\n",
    "for i in range(19):\n",
    "    fibonacci.append(fibonacci[-1]+fibonacci[-2])\n",
    "print(fibonacci)"
   ]
  },
  {
   "cell_type": "markdown",
   "id": "19ffbe41",
   "metadata": {},
   "source": [
    "## Exercise 4 :  A function for Fibonacci"
   ]
  },
  {
   "cell_type": "code",
   "execution_count": 45,
   "id": "7f553ae3",
   "metadata": {
    "scrolled": true
   },
   "outputs": [
    {
     "name": "stdout",
     "output_type": "stream",
     "text": [
      "Fuck you 0 and negatives aren't positions\n",
      "This isn't even a fucking number wtf\n"
     ]
    }
   ],
   "source": [
    "ehe = [0,1]\n",
    "def fibonacci(n):\n",
    "    if type(n) != int:\n",
    "        return f\"This isn't even a fucking number wtf\"\n",
    "    if n <= 0:\n",
    "        return f\"Fuck you 0 and negatives aren't positions\"\n",
    "    for i in range(n+1):\n",
    "        ehe.append(ehe[-1]+ehe[-2])\n",
    "    return ehe[n-1]\n",
    "\n",
    "print(fibonacci(-1))\n",
    "print(fibonacci(\"a\"))"
   ]
  },
  {
   "cell_type": "markdown",
   "id": "a1d98ed1",
   "metadata": {},
   "source": [
    "## Exercise 5 :  max_info() without NumPy\n",
    "\n",
    "Accepts a list and returns the max value and position/index. Don't use NumPy, don't use max()"
   ]
  },
  {
   "cell_type": "code",
   "execution_count": 52,
   "id": "eb1da45c",
   "metadata": {
    "scrolled": true
   },
   "outputs": [
    {
     "name": "stdout",
     "output_type": "stream",
     "text": [
      "None\n"
     ]
    }
   ],
   "source": [
    "numbers = [40, 27, 83, 44, 74, 51, 76, 77, 10, 49]\n",
    "\n",
    "def max_info(numbers):\n",
    "    for i in range(len(numbers)):\n",
    "        my_max = numbers[i]\n",
    "        \n",
    "print(max_info(numbers))\n",
    "\n",
    "#this doesn't work yet"
   ]
  },
  {
   "cell_type": "markdown",
   "id": "6d1f881e",
   "metadata": {},
   "source": [
    "## Exercise 6 :  Take count"
   ]
  },
  {
   "cell_type": "code",
   "execution_count": null,
   "id": "84525582",
   "metadata": {},
   "outputs": [],
   "source": [
    "\n",
    "\n",
    "\n",
    "# Your solution here\n",
    "\n",
    "\n"
   ]
  }
 ],
 "metadata": {
  "kernelspec": {
   "display_name": "Python 3 (ipykernel)",
   "language": "python",
   "name": "python3"
  },
  "language_info": {
   "codemirror_mode": {
    "name": "ipython",
    "version": 3
   },
   "file_extension": ".py",
   "mimetype": "text/x-python",
   "name": "python",
   "nbconvert_exporter": "python",
   "pygments_lexer": "ipython3",
   "version": "3.10.8"
  },
  "toc": {
   "base_numbering": 1,
   "nav_menu": {},
   "number_sections": true,
   "sideBar": true,
   "skip_h1_title": false,
   "title_cell": "Table of Contents",
   "title_sidebar": "Contents",
   "toc_cell": false,
   "toc_position": {},
   "toc_section_display": true,
   "toc_window_display": false
  },
  "vscode": {
   "interpreter": {
    "hash": "31f2aee4e71d21fbe5cf8b01ff0e069b9275f58929596ceb00d14d90e3e16cd6"
   }
  }
 },
 "nbformat": 4,
 "nbformat_minor": 5
}
